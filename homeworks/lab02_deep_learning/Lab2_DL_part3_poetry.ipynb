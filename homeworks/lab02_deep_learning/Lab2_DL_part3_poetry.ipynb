{
  "cells": [
    {
      "cell_type": "markdown",
      "metadata": {
        "id": "UHjHT5Ucee6M"
      },
      "source": [
        "## Lab 2"
      ]
    },
    {
      "cell_type": "markdown",
      "metadata": {
        "id": "Rj9c0jBXee6P"
      },
      "source": [
        "### Part 3. Poetry generation\n",
        "\n",
        "Let's try to generate some poetry using RNNs. \n",
        "\n",
        "You have several choices here: \n",
        "\n",
        "* The Shakespeare sonnets, file `sonnets.txt` available in the notebook directory.\n",
        "\n",
        "* Роман в стихах \"Евгений Онегин\" Александра Сергеевича Пушкина. В предобработанном виде доступен по [ссылке](https://github.com/attatrol/data_sources/blob/master/onegin.txt).\n",
        "\n",
        "* Some other text source, if it will be approved by the course staff.\n",
        "\n",
        "Text generation can be designed in several steps:\n",
        "    \n",
        "1. Data loading.\n",
        "2. Dictionary generation.\n",
        "3. Data preprocessing.\n",
        "4. Model (neural network) training.\n",
        "5. Text generation (model evaluation).\n"
      ]
    },
    {
      "cell_type": "code",
      "execution_count": 1,
      "metadata": {
        "id": "iqoc1uuXee6W"
      },
      "outputs": [],
      "source": [
        "import string\n",
        "import os\n",
        "import matplotlib.pyplot as plt\n",
        "import numpy as np"
      ]
    },
    {
      "cell_type": "markdown",
      "metadata": {
        "id": "4YXwykGWee6Y"
      },
      "source": [
        "### Data loading: Shakespeare"
      ]
    },
    {
      "cell_type": "markdown",
      "metadata": {
        "id": "WVCiuZjuee6Z"
      },
      "source": [
        "Shakespeare sonnets are awailable at this [link](http://www.gutenberg.org/ebooks/1041?msg=welcome_stranger). In addition, they are stored in the same directory as this notebook (`sonnetes.txt`). Simple preprocessing is already done for you in the next cell: all technical info is dropped."
      ]
    },
    {
      "cell_type": "code",
      "execution_count": 2,
      "metadata": {
        "collapsed": true,
        "id": "aI6vv5Ayee6Z"
      },
      "outputs": [],
      "source": [
        "#if not os.path.exists('sonnets.txt'):\n",
        "#    !wget https://raw.githubusercontent.com/girafe-ai/ml-mipt/21f_basic/homeworks_basic/lab02_deep_learning/sonnets.txt\n",
        "#\n",
        "#with open('sonnets.txt', 'r') as iofile:\n",
        "#    text = iofile.readlines()\n",
        "    \n",
        "#TEXT_START = 45\n",
        "#TEXT_END = -368\n",
        "#text = text[TEXT_START : TEXT_END]\n",
        "#assert len(text) == 2616"
      ]
    },
    {
      "cell_type": "markdown",
      "metadata": {
        "id": "qIloYxMfee6Z"
      },
      "source": [
        "In opposite to the in-class practice, this time we want to predict complex text. Let's reduce the complexity of the task and lowercase all the symbols.\n",
        "\n",
        "Now variable `text` is a list of strings. Join all the strings into one and lowercase it."
      ]
    },
    {
      "cell_type": "code",
      "execution_count": 3,
      "metadata": {
        "id": "DwqB4H3Wee6a"
      },
      "outputs": [],
      "source": [
        "# Join all the strings into one and lowercase it\n",
        "# Put result into variable text.\n",
        "\n",
        "# Your great code here\n",
        "\n",
        "#assert len(text) == 100225, 'Are you sure you have concatenated all the strings?'\n",
        "#assert not any([x in set(text) for x in string.ascii_uppercase]), 'Uppercase letters are present'\n",
        "#print('OK!')"
      ]
    },
    {
      "cell_type": "markdown",
      "metadata": {
        "id": "_OUD9wycee6a"
      },
      "source": [
        "### Data loading: \"Евгений Онегин\"\n"
      ]
    },
    {
      "cell_type": "code",
      "execution_count": 4,
      "metadata": {
        "colab": {
          "base_uri": "https://localhost:8080/"
        },
        "id": "Rupbne1Ree6b",
        "outputId": "7ef4e6d1-2a85-4242-a804-70eb5ae54176"
      },
      "outputs": [
        {
          "output_type": "stream",
          "name": "stdout",
          "text": [
            "--2022-12-26 05:20:12--  https://raw.githubusercontent.com/attatrol/data_sources/master/onegin.txt\n",
            "Resolving raw.githubusercontent.com (raw.githubusercontent.com)... 185.199.108.133, 185.199.109.133, 185.199.110.133, ...\n",
            "Connecting to raw.githubusercontent.com (raw.githubusercontent.com)|185.199.108.133|:443... connected.\n",
            "HTTP request sent, awaiting response... 200 OK\n",
            "Length: 262521 (256K) [text/plain]\n",
            "Saving to: ‘onegin.txt’\n",
            "\n",
            "\ronegin.txt            0%[                    ]       0  --.-KB/s               \ronegin.txt          100%[===================>] 256.37K  --.-KB/s    in 0.03s   \n",
            "\n",
            "2022-12-26 05:20:12 (7.84 MB/s) - ‘onegin.txt’ saved [262521/262521]\n",
            "\n"
          ]
        }
      ],
      "source": [
        "!wget https://raw.githubusercontent.com/attatrol/data_sources/master/onegin.txt\n",
        "    \n",
        "with open('onegin.txt', 'r') as iofile:\n",
        "    text = iofile.readlines()\n",
        "    \n",
        "text = [x.replace('\\t\\t', '') for x in text]"
      ]
    },
    {
      "cell_type": "markdown",
      "metadata": {
        "id": "_9ytqK52ee6c"
      },
      "source": [
        "In opposite to the in-class practice, this time we want to predict complex text. Let's reduce the complexity of the task and lowercase all the symbols.\n",
        "\n",
        "Now variable `text` is a list of strings. Join all the strings into one and lowercase it."
      ]
    },
    {
      "cell_type": "code",
      "execution_count": 6,
      "metadata": {
        "id": "0WIYaE0See6c"
      },
      "outputs": [],
      "source": [
        "# Join all the strings into one and lowercase it\n",
        "\n",
        "text = ''.join(text).lower()"
      ]
    },
    {
      "cell_type": "code",
      "source": [
        "poems = text.split('\\n\\n\\n')\n",
        "poems.pop(poems.index('\\nглава седьмая'))\n",
        "poems.pop(poems.index('\\nглава шестая'))\n",
        "poems.pop(poems.index('\\nглава восьмая'))\n",
        "poems.pop(poems.index('\\nглава четвертая'))\n",
        "\n",
        "for idx, poem in enumerate(poems):\n",
        "  poems[idx] = poem[poem.index('\\n\\n')+2:]"
      ],
      "metadata": {
        "id": "RaXbb5RilegE"
      },
      "execution_count": 8,
      "outputs": []
    },
    {
      "cell_type": "markdown",
      "metadata": {
        "id": "taC4ga6qee6c"
      },
      "source": [
        "Put all the characters, that you've seen in the text, into variable `tokens`."
      ]
    },
    {
      "cell_type": "code",
      "execution_count": 10,
      "metadata": {
        "id": "V3y26mx8ee6d"
      },
      "outputs": [],
      "source": [
        "tokens = sorted(set(text))\n",
        "num_tokens = len(tokens)"
      ]
    },
    {
      "cell_type": "markdown",
      "metadata": {
        "id": "9n4blQLkee6d"
      },
      "source": [
        "Create dictionary `token_to_idx = {<char>: <index>}` and dictionary `idx_to_token = {<index>: <char>}`"
      ]
    },
    {
      "cell_type": "code",
      "execution_count": 12,
      "metadata": {
        "collapsed": true,
        "id": "U5rlG5Avee6d"
      },
      "outputs": [],
      "source": [
        "# dict <index>:<char>\n",
        "token_to_idx = {tokens[i]: i for i in range(len(tokens))}\n",
        "# dict <char>:<index>\n",
        "idx_to_token = {i: tokens[i] for i in range(len(tokens))}"
      ]
    },
    {
      "cell_type": "markdown",
      "metadata": {
        "id": "c0ooPjc1ee6d"
      },
      "source": [
        "*Comment: in this task we have only 38 different tokens, so let's use one-hot encoding.*"
      ]
    },
    {
      "cell_type": "markdown",
      "metadata": {
        "id": "0nkd_UTmee6e"
      },
      "source": [
        "### Building the model"
      ]
    },
    {
      "cell_type": "markdown",
      "metadata": {
        "id": "ZBosrpZEee6e"
      },
      "source": [
        "Now we want to build and train recurrent neural net which would be able to something similar to Shakespeare's poetry.\n",
        "\n",
        "Let's use vanilla RNN, similar to the one created during the lesson."
      ]
    },
    {
      "cell_type": "code",
      "execution_count": 13,
      "metadata": {
        "colab": {
          "base_uri": "https://localhost:8080/",
          "height": 286
        },
        "id": "HBiCnD0qee6e",
        "outputId": "ec9a607c-0c0f-4295-97dc-e387481e551b"
      },
      "outputs": [
        {
          "output_type": "stream",
          "name": "stdout",
          "text": [
            "max length = 2081\n"
          ]
        },
        {
          "output_type": "display_data",
          "data": {
            "text/plain": [
              "<Figure size 432x288 with 1 Axes>"
            ],
            "image/png": "[encoded data removed]"
          },
          "metadata": {
            "needs_background": "light"
          }
        }
      ],
      "source": [
        "MAX_LENGTH = max(map(len, poems))\n",
        "start_token = \"\\n\\n\"\n",
        "end_token = \"\\n\\n\\n\"\n",
        "print(\"max length =\", MAX_LENGTH)\n",
        "\n",
        "plt.hist(list(map(len, poems)), bins=25);"
      ]
    },
    {
      "cell_type": "code",
      "source": [
        "def to_matrix(names, max_len=None, pad=token_to_idx[' '], dtype='int32', batch_first = True):\n",
        "    max_len = (max_len or max(map(len, names))) + 1\n",
        "    names_ix = np.zeros([len(names), max_len], dtype) + pad\n",
        "\n",
        "    for i in range(len(names)):\n",
        "        line_ix = [token_to_idx[c] for c in names[i]]\n",
        "        names_ix[i, :len(line_ix)] = line_ix\n",
        "        \n",
        "    if not batch_first: # convert [batch, time] into [time, batch]\n",
        "        names_ix = np.transpose(names_ix)\n",
        "\n",
        "    return names_ix"
      ],
      "metadata": {
        "id": "cCZt26bfnxe-"
      },
      "execution_count": 14,
      "outputs": []
    },
    {
      "cell_type": "code",
      "source": [
        "import torch, torch.nn as nn\n",
        "import torch.nn.functional as F"
      ],
      "metadata": {
        "id": "UmmGakaJsIpm"
      },
      "execution_count": 15,
      "outputs": []
    },
    {
      "cell_type": "code",
      "source": [
        "class CharRNNCell(nn.Module):\n",
        "    def __init__(self, num_tokens=len(tokens), embedding_size=16, rnn_num_units=64):\n",
        "        super(self.__class__,self).__init__()\n",
        "        self.num_units = rnn_num_units\n",
        "        \n",
        "        self.embedding = nn.Embedding(num_tokens, embedding_size)\n",
        "        self.rnn_update = nn.Linear(embedding_size + rnn_num_units, rnn_num_units)\n",
        "        self.rnn_to_logits = nn.Linear(rnn_num_units, num_tokens)\n",
        "        \n",
        "    def forward(self, x, h_prev):\n",
        "        x_emb = self.embedding(x)\n",
        "        self.x_emb = x_emb\n",
        "\n",
        "        x_and_h = torch.cat([x_emb, h_prev], dim=1)\n",
        "        h_next = self.rnn_update(x_and_h)\n",
        "        self.x_and_h = x_and_h\n",
        "        \n",
        "        h_next = torch.tanh(h_next)\n",
        "        self.h_next = h_next\n",
        "        \n",
        "        assert h_next.size() == h_prev.size()\n",
        "\n",
        "        logits = self.rnn_to_logits(h_next)\n",
        "        self.logits = logits\n",
        "        \n",
        "        return h_next, F.log_softmax(logits, -1)\n",
        "    \n",
        "    def initial_state(self, batch_size):\n",
        "        return torch.zeros(batch_size, self.num_units, requires_grad=True)"
      ],
      "metadata": {
        "id": "Y1OzJiBnsYtO"
      },
      "execution_count": 16,
      "outputs": []
    },
    {
      "cell_type": "code",
      "source": [
        "def rnn_loop(char_rnn, batch_ix):\n",
        "    batch_size, max_length = batch_ix.size()\n",
        "    hid_state = char_rnn.initial_state(batch_size)\n",
        "    logprobs = []\n",
        "\n",
        "    for x_t in batch_ix.transpose(0,1):\n",
        "        hid_state, logp_next = char_rnn(x_t, hid_state)  # <-- here we call your one-step code\n",
        "        logprobs.append(logp_next)\n",
        "        \n",
        "    return torch.stack(logprobs, dim=1)"
      ],
      "metadata": {
        "id": "-AR10iV9szgf"
      },
      "execution_count": 17,
      "outputs": []
    },
    {
      "cell_type": "code",
      "source": [
        "from IPython.display import clear_output\n",
        "from random import sample\n",
        "\n",
        "char_rnn = CharRNNCell()\n",
        "criterion = nn.NLLLoss()\n",
        "opt = torch.optim.Adam(char_rnn.parameters(), lr=0.001)\n",
        "opt.zero_grad()\n",
        "history = []"
      ],
      "metadata": {
        "id": "JR-ac1xtub68"
      },
      "execution_count": 18,
      "outputs": []
    },
    {
      "cell_type": "code",
      "source": [
        "from tqdm.autonotebook import tqdm\n",
        "\n",
        "for i in tqdm(range(1000)):\n",
        "    batch_ix = to_matrix(sample(poems, 32), max_len=MAX_LENGTH)\n",
        "    batch_ix = torch.tensor(batch_ix, dtype=torch.int64)\n",
        "    \n",
        "    logp_seq = rnn_loop(char_rnn, batch_ix)\n",
        "\n",
        "    predictions_logp = logp_seq[:, :-1]\n",
        "    actual_next_tokens = batch_ix[:, 1:]\n",
        "    loss = criterion(\n",
        "      predictions_logp.contiguous().view(-1, len(tokens)),\n",
        "      actual_next_tokens.contiguous().view(-1)\n",
        "    )\n",
        "\n",
        "    loss.backward()\n",
        "    opt.step()\n",
        "    opt.zero_grad()\n",
        "    \n",
        "    history.append(loss.data.numpy())\n",
        "\n",
        "assert np.mean(history[:10]) > np.mean(history[-10:]), \"RNN didn't converge.\""
      ],
      "metadata": {
        "colab": {
          "base_uri": "https://localhost:8080/",
          "height": 49,
          "referenced_widgets": [
            "76cef1810c624e7e89610cd1a85b8dbc",
            "24285a4a7816445eb0c9003109732ea6",
            "72aac37784d7468a86798e7fb0172198",
            "8aecf9e68d0a4fa8afe3ec4669ede6e6",
            "1fc4ba85f5784b7aae320dbea68a2dda",
            "42fac92e472b422194fb056245b29284",
            "322c2353e79a4d1188c94c764f302423",
            "358a1d889cdd48049ba051662db039d2",
            "975b80fb7c8a477a82682a3deca4e9f4",
            "b6bfe135543640d6a0748a7628414db6",
            "d4b3e760575846ccb44102bcb9edc1c8"
          ]
        },
        "id": "FaY4kNSEuiDb",
        "outputId": "c9292566-8305-4775-a2a5-df9777e5ef8c"
      },
      "execution_count": 23,
      "outputs": [
        {
          "output_type": "display_data",
          "data": {
            "text/plain": [
              "  0%|          | 0/1000 [00:00<?, ?it/s]"
            ],
            "application/vnd.jupyter.widget-view+json": {
              "version_major": 2,
              "version_minor": 0,
              "model_id": "76cef1810c624e7e89610cd1a85b8dbc"
            }
          },
          "metadata": {}
        }
      ]
    },
    {
      "cell_type": "markdown",
      "metadata": {
        "id": "_5a1w2Esee6e"
      },
      "source": [
        "Plot the loss function (axis X: number of epochs, axis Y: loss function)."
      ]
    },
    {
      "cell_type": "code",
      "execution_count": 24,
      "metadata": {
        "id": "y-7NMK2gee6e",
        "colab": {
          "base_uri": "https://localhost:8080/",
          "height": 279
        },
        "outputId": "3cc11257-5882-4f17-eb1a-35936aaaa6d6"
      },
      "outputs": [
        {
          "output_type": "display_data",
          "data": {
            "text/plain": [
              "<Figure size 432x288 with 1 Axes>"
            ],
            "image/png": "[encoded data removed]"
          },
          "metadata": {
            "needs_background": "light"
          }
        }
      ],
      "source": [
        "plt.plot(history,label='loss')\n",
        "plt.legend()\n",
        "plt.xlabel('number of epochs')\n",
        "plt.ylabel('loss')\n",
        "plt.show()"
      ]
    },
    {
      "cell_type": "code",
      "execution_count": 36,
      "metadata": {
        "id": "2sHwDrcjee6f"
      },
      "outputs": [],
      "source": [
        "def generate_sample(char_rnn, seed_phrase=' ', max_length=MAX_LENGTH, temperature=1.0):\n",
        "    x_sequence = [token_to_idx[token] for token in seed_phrase]\n",
        "    x_sequence = torch.tensor([x_sequence], dtype=torch.int64)\n",
        "    hid_state = char_rnn.initial_state(batch_size=1)\n",
        "\n",
        "    for i in range(len(seed_phrase) - 1):\n",
        "        hid_state, _ = char_rnn(x_sequence[:, i], hid_state)\n",
        "\n",
        "    for _ in range(max_length - len(seed_phrase)):\n",
        "        hid_state, logp_next = char_rnn(x_sequence[:, -1], hid_state)\n",
        "        p_next = F.softmax(logp_next / temperature, dim=-1).data.numpy()[0]\n",
        "\n",
        "        next_ix = np.random.choice(num_tokens, p=p_next)\n",
        "        next_ix = torch.tensor([[next_ix]], dtype=torch.int64)\n",
        "        x_sequence = torch.cat([x_sequence, next_ix], dim=1)\n",
        "        \n",
        "    return ''.join([tokens[ix] for ix in x_sequence.data.numpy()[0]])"
      ]
    },
    {
      "cell_type": "code",
      "source": [
        "for i in [0.1,0.2,0.5,0.7,1.0]:\n",
        "  print(\"temperature = \",i, ', text: ', generate_sample(char_rnn, seed_phrase='п', temperature=i), '\\n')"
      ],
      "metadata": {
        "colab": {
          "base_uri": "https://localhost:8080/"
        },
        "id": "QX8Rgs-wxrgb",
        "outputId": "eb508524-01ee-4c20-875f-50edd22be11f"
      },
      "execution_count": 26,
      "outputs": [
        {
          "output_type": "stream",
          "name": "stdout",
          "text": [
            "temperature =  0.1 , text:  пой                                                                                                                                                                                                                                                                                                                                                                                                                                                                                                                                                                                                                                                                                                                                                                                                                                                                                                                                                                                                                                                                                                                                                                                                                                                                                                                                                                                                                                                                                                                                                                                                                                                                                                                                                                                                                                                                                                                                                                                                                                                                                                                                                               \n",
            "\n",
            "temperature =  0.2 , text:  пой сторастой ме серать в во                                                                                                                                                                                                                                                                                                                                                                                                                                                                                                                                                                                                                                                                                                                                                                                                                                                                                                                                                                                                                                                                                                                                                                                                                                                                                                                                                                                                                                                                                                                                                                                                                                                                                                                                                                                                                                                                                                                                                                                                                                                                                                                                      \n",
            "\n",
            "temperature =  0.5 , text:  пый мопобелоль мастязонеголь\n",
            "у стобом                                                                                                                                                                                                                                                                                                                                                                                                                                                                                                                                                                                                                                                                                                                                                                                                                                                                                                                                                                                                                                                                                                                                                                                                                                                                                                                                                                                                                                                                                                                                                                                                                                                                                                                                                                                                                                                                                                                                                                                                                                                                                                                             \n",
            "\n",
            "temperature =  0.7 , text:  пой валит ве к ро са си не дове обло пи вие\n",
            "нынамам,\n",
            "накатдожеть тат и пораране назанылокси саль\n",
            "не дой ки польешедих полья мына зестин минсконих…чей побла, пру ви гривераввоскодов с те  раде, ч сенцералеть\n",
            "бре стамиший перашей кочном подый моли стовни тасто  оа, ла вогод от нен пороль.                                                                                                                                                                                                                                                                                                                                                                                                                                                                                                                                                                                                                                                                                                                                                                                                                                                                                                                                                                                                                                                                                                                                                                                                                                                                                                                                                                                                                                                                                                                                                                                                                                                                                                                                                                                                                                                                   \n",
            "\n",
            "temperature =  1.0 , text:  по,\n",
            "понал жан бетем зое нордавишаль ноная\n",
            "мыл  плрддуль биво жен кон рарума нсят птейкею прукими.\n",
            "вмойих л?нономиaз\n",
            "рен,\n",
            "ужтох и спот исша гритта, в кочельый ихма ду\n",
            "пойделветростою,\n",
            "асмво порницzац\n",
            "сл и за,\n",
            "о севсчаенавьr м пине\n",
            "не монемлеивсемунинь  ла мишадабя но н  м т какалемоте падаля\n",
            "истищерючпостнегзет визудя руй сой\n",
            "ве на\n",
            "дло\n",
            "из л лы отья зою уy ити насуть\n",
            "белюбуненнвесжлатуль: подумутьяй га ;и дин\n",
            "ит ю   о в ветажрамет,\n",
            " правы, и\n",
            "и и ссвенно зал.ет выв ке сед\n",
            "ок мам освтоежэогодстолнота,\n",
            "на,\n",
            " рвола у  т — уксно низакась,дой,\n",
            "лякиене янкузне л,бтый то чрдоло, мути  ва соикн  о жа!адм,,;\n",
            "бщытеме ветья  недьи                                                                                                                                                                                                                                                                                                                                                                                                                                                                                                                                                                                                                                                                                                                                                                                                                                                                                              т                                                                                                                                                                                                                                                                                                                                                                                                                                                                                                                                                                                                                    \n",
            "\n"
          ]
        }
      ]
    },
    {
      "cell_type": "markdown",
      "metadata": {
        "id": "9Qg8B3gaee6f"
      },
      "source": [
        "### More poetic model\n",
        "\n",
        "Let's use LSTM instead of vanilla RNN and compare the results."
      ]
    },
    {
      "cell_type": "markdown",
      "metadata": {
        "id": "jWFBN4gjee6f"
      },
      "source": [
        "Plot the loss function of the number of epochs. Does the final loss become better?"
      ]
    },
    {
      "cell_type": "code",
      "execution_count": 27,
      "metadata": {
        "collapsed": true,
        "id": "n4Rg8AK2ee6g"
      },
      "outputs": [],
      "source": [
        "class LSTMLoop(nn.Module):\n",
        "    def __init__(self, num_tokens=num_tokens, emb_size=16, rnn_num_units=64, dropout = 0.7):\n",
        "        super(self.__class__, self).__init__()\n",
        "        self.emb = nn.Embedding(num_tokens, emb_size)\n",
        "        self.rnn = nn.LSTM(\n",
        "            input_size = emb_size,\n",
        "            hidden_size = rnn_num_units,\n",
        "            batch_first = True,\n",
        "            num_layers = 2,\n",
        "            dropout = dropout)\n",
        "        self.hid_to_logits = nn.Linear(rnn_num_units, num_tokens)\n",
        "        \n",
        "    def forward(self, x, hidden=None):\n",
        "        assert isinstance(x.data, torch.LongTensor)\n",
        "        if hidden:\n",
        "            h, c = hidden\n",
        "            h_seq, (h, c) = self.rnn(self.emb(x), (h, c))\n",
        "        else :\n",
        "            h_seq, (h, c) = self.rnn(self.emb(x))\n",
        "        next_logits = self.hid_to_logits(h_seq)\n",
        "        next_logp = F.log_softmax(next_logits, dim=-1)\n",
        "        return next_logp, (h, c)\n",
        "    \n",
        "model_lstm = LSTMLoop()\n",
        "opt = torch.optim.Adam(model_lstm.parameters())\n",
        "history = []"
      ]
    },
    {
      "cell_type": "code",
      "source": [
        "for i in tqdm(range(2000)):\n",
        "    batch_ix = to_matrix(sample(poems, 16), max_len=MAX_LENGTH)\n",
        "    batch_ix = torch.tensor(batch_ix, dtype=torch.int64)\n",
        "\n",
        "    hidden_state = torch.randn(2, 16, 64)\n",
        "    logp_seq, _ = model_lstm(batch_ix)\n",
        "    \n",
        "    loss = criterion(logp_seq[:, :-1].contiguous().view(-1, num_tokens),\n",
        "                 batch_ix[:, 1:].contiguous().view(-1))\n",
        "    \n",
        "    loss.backward()\n",
        "    opt.step()\n",
        "    opt.zero_grad()\n",
        "    \n",
        "    history.append(loss.data.numpy())\n",
        "\n",
        "assert np.mean(history[:10]) > np.mean(history[-10:]), \"RNN didn't converge.\""
      ],
      "metadata": {
        "colab": {
          "base_uri": "https://localhost:8080/",
          "height": 49,
          "referenced_widgets": [
            "878e4f72ce6344fe80f5b03d8f1c6721",
            "8cf264e0b0794504a54cc616af50c95b",
            "c9c4720b561844b19651009b7db23a25",
            "59ff0e82e1784c96a1a7e6d19d30203d",
            "d75c5953f4034f92b9de4b451c9d1a41",
            "225c865ca94d4128a42fca914732eee1",
            "d27717542735468286a98ada69b34e8b",
            "8ffb8206aaf54d4883b725ec5a1111e6",
            "81715f14e74f46089bd96683fd938082",
            "4c192438d7cf4ac9878426c07632ac09",
            "7541a19d217540dcbfda26a8e3f1f2a7"
          ]
        },
        "id": "5XC6pxvNIgLm",
        "outputId": "41ede64d-8b20-44d5-a947-b2cc8af51017"
      },
      "execution_count": 30,
      "outputs": [
        {
          "output_type": "display_data",
          "data": {
            "text/plain": [
              "  0%|          | 0/2000 [00:00<?, ?it/s]"
            ],
            "application/vnd.jupyter.widget-view+json": {
              "version_major": 2,
              "version_minor": 0,
              "model_id": "878e4f72ce6344fe80f5b03d8f1c6721"
            }
          },
          "metadata": {}
        }
      ]
    },
    {
      "cell_type": "code",
      "source": [
        "def generate_sample(char_rnn, seed_phrase=' ', max_length=MAX_LENGTH, temperature=1.0):\n",
        "    x_sequence = [token_to_idx[token] for token in seed_phrase]\n",
        "    x_sequence = torch.tensor([x_sequence], dtype=torch.int64)\n",
        "    \n",
        "    hidden_state = None\n",
        "    \n",
        "    if len(seed_phrase) > 1:\n",
        "        _, hidden_state = char_rnn(x_sequence[:, :-1])\n",
        "    \n",
        "    for _ in range(max_length - len(seed_phrase)):\n",
        "        logp_next, hidden_state = char_rnn(x_sequence[:, -1].view(1, 1), hidden_state)\n",
        "        logp_next = logp_next[:, -1]\n",
        "        p_next = F.softmax(logp_next / temperature, dim=-1).data.numpy()[0]\n",
        "        \n",
        "        next_ix = np.random.choice(num_tokens, p=p_next)\n",
        "        next_ix = torch.tensor([[next_ix]], dtype=torch.int64)\n",
        "        x_sequence = torch.cat([x_sequence, next_ix], dim=1)\n",
        "        \n",
        "    return ''.join([tokens[ix] for ix in x_sequence.data.numpy()[0]])"
      ],
      "metadata": {
        "id": "LahXEAinKSHW"
      },
      "execution_count": 31,
      "outputs": []
    },
    {
      "cell_type": "markdown",
      "metadata": {
        "id": "1RsFm56kee6g"
      },
      "source": [
        "Generate text using the trained net with different `temperature` parameter: `[0.1, 0.2, 0.5, 1.0, 2.0]`.\n",
        "\n",
        "Evaluate the results visually, try to interpret them."
      ]
    },
    {
      "cell_type": "code",
      "execution_count": 32,
      "metadata": {
        "collapsed": true,
        "id": "xYAI1PTVee6g",
        "colab": {
          "base_uri": "https://localhost:8080/"
        },
        "outputId": "5ebbac88-23dd-459f-975b-8462ba50edf2"
      },
      "outputs": [
        {
          "output_type": "stream",
          "name": "stdout",
          "text": [
            "temperature =  0.1 , text:  повел на в вола на ссерой сол полен олонь полоть,\n",
            "о но в сот воста то не на не востоль\n",
            "полеле на на но на стать и серон сосной порет\n",
            "не в села на на серь на полень ворени столь\n",
            "седе сталь в остать о на на не на несть,\n",
            "постоли в вола но на в сет полать\n",
            " сена остоне стороль\n",
            "и просто на стот ом с пона от олесь\n",
            "он вота стола столи столье,\n",
            "поре стеле но на порорень олай столь сеть пороль\n",
            "ол ва пола не на то сель полат о постоль,\n",
            "и онот в не но не но на но стола сеть\n",
            "пора но пода поро полот полонь поротне соль\n",
            "ол на порорань в олодной сорный\n",
            "стал в сторе в сорол сет пороть\n",
            "и повол ворель и стеть полеть,\n",
            "се паста по породел оснол он ностий сель воло,\n",
            "в на с остороне посталь в поронь и сторь серь\n",
            "порель она поролий сель и торь\n",
            "полет в соте стате с на пороль\n",
            "пола но с воре столь  селот и но стель серей,\n",
            "поста на порели серень,\n",
            "в он поро на стала на стоть воронь порет ола\n",
            "сто порель и постоль\n",
            "оро столе пороне столь парорь\n",
            "и поролот сота порани,\n",
            "сет пола  сорол остелонь и пороно,\n",
            "пороль воста в пороль\n",
            "и на вот в во на стот села состель поль стель осноний\n",
            "и порет полени столи в пороной\n",
            "и порот на но на пороний\n",
            "о не не на тать на на полель волот воль и сера стори,\n",
            "от о не не на на столь настоть\n",
            "сот вада солель сете пороль\n",
            "сел и тол и не сен осторот,\n",
            "и поре селе не в ворони пороть\n",
            "и пороть вот порол и порола\n",
            "но стора но стора пололь\n",
            "и пароло потонь на водать,\n",
            "в на на с состе сророни сеть\n",
            "о с ото но пороль в от в олон востель,\n",
            "с на пола на на пель порола столь и столь и сторо,\n",
            "сно на воте не но ва селой состель,\n",
            "подот сотее  на поронь снень ол солень\n",
            "остол сороль столи столь\n",
            "о на но содол и постол и порон и не сет,\n",
            "в вот порол и стоть на ность в на подол остонь\n",
            "о                                                                                                                                                                                                                                                                                                                                                                                                                      \n",
            "\n",
            "temperature =  0.2 , text:  поте в восто сорен и воль\n",
            "стон постана варот но в не торон,\n",
            "о палот он о тотно порело,\n",
            "на сотола полань ол вона полоной\n",
            "поремо молот в о вод пололь сел срель,\n",
            "и на и перол ват орет сона\n",
            "рана в сно сторо помель ол полань и стоний постонь ол совоть,\n",
            "во в воста с ворасти сели в оне\n",
            "полем срареть в ват не сне вон он он слона\n",
            "ности полоть в сат сертой полень,\n",
            "и сторо тол пороли,\n",
            "пре во сет на пороль не на в оволь,\n",
            "педе провол и снон в ло стела поди подоль\n",
            "и стоде на поле сот вола полел поростой на сетень полонь дал и столь но воволь,\n",
            "сла на сна сетна подолонь но сторит и ноль\n",
            "подот осен поролель\n",
            "о но стате но не но на в вода,\n",
            "вол на бостодо в ла стоть пороль\n",
            "помоли сореста в одил на на стол и стоня нень\n",
            "в орол сото столе в ворить\n",
            "стеле поль ват в на поли в воли но сной сеней\n",
            "сроде сна воророт слодина\n",
            "и срасте пет сать на пести вороной\n",
            "не сеол с на пого не волел но но село,\n",
            "о сет та не полот вол на на порень ол ола\n",
            "на не веде порарол олель стон и нос ной\n",
            "остарать подель олель\n",
            "ва в ет с села порот в роде слолье,\n",
            "постола сворол о пела в вороно,\n",
            "поте в селе на мере слом и пороли\n",
            "порот стола в сороны столий\n",
            "полен и переней содоной\n",
            "орно в пола не ворь понана,\n",
            "то с ота на вал и слоль и не стола\n",
            "стора морель солол и моль порен олиль\n",
            "пола не пороро постоло дороль\n",
            "она  пороль полеть,\n",
            "от та пола с но сорной\n",
            "и на старол и не полель и сталья стель,\n",
            "о сете порет парон отной польный стола\n",
            "породо сель на поленит на и ноль вал с польней\n",
            "поне стола то не варол на сторать,\n",
            "в стола тет и на поланот,\n",
            "и в но солат вол одеть на на в но не толь селой\n",
            "сат и стола сторей\n",
            "подел прести вол ом ожна постиль\n",
            "ом селе стет но подонь вола порень\n",
            "он на перот о поланий стом о                                                                                                                                                                                                                                                                                                                                                                                                                                   \n",
            "\n",
            "temperature =  0.5 , text:  пзежти талный и несте на ираю,\n",
            "о обеми сстомь дозной нобить\n",
            "я но сре намонот в затях воресь\n",
            "овеня лоти стеть срое зедос унати\n",
            "бслама сним втее ретне сролу,\n",
            "ом о полеть\n",
            "оскапони вровнот парино,\n",
            "орит стоте и долав\n",
            "зен увна одом остама,\n",
            "он малень потори\n",
            "он и сел и сдрамеги, ворры моет,\n",
            "но пароря соскоде и лесь\n",
            "сов мабна сней кодаль и лагок жем усталь,\n",
            "зо остот остенот\n",
            "искат я сеское лрехес ина,\n",
            "и не с отоде ларнола и соль,\n",
            "и стогет в раравний бар слор нет сона и толик оскава,\n",
            "и  ворит серу нок ино олно от ира,\n",
            "межин ок ом сварава\n",
            "бестерат моста мевоч, орее,\n",
            "и сто пале не телой поголонь\n",
            "сосластинамо гола перелий\n",
            "в геро тести прона пуру лель нем о датный\n",
            "в вот дте ной вет бочестьь каги то теня столой\n",
            "пробимата там чуруй сеет,\n",
            "падно в паринь вомта вросить скель в боласний слой\n",
            "и местох но вона у о озрудось\n",
            "меви салат но мобов.\n",
            "ола стедет поровай,\n",
            "полонь в сечо се зродедя золе не\n",
            "стем освесто молаль петим,\n",
            "отко тоне маб и негет нам на перил ел вави о леньний стови\n",
            "в палелоной\n",
            "поду содо левослна метла устоль вал срирай,\n",
            "и дорет настот кень оста верь\n",
            "в остетет о стие порисньи,\n",
            "порик пона нежоль стори,\n",
            "и сло стель ол в вак ссели, тенесь\n",
            "севна моруно и мот рель лавит\n",
            "и нут пато сат, востолый сел,\n",
            "пробела товь дано в носник поромяс,\n",
            "дродо бело;\n",
            "розна я в рере тана попадось\n",
            "не порререлонин на трене\n",
            "и таги сачать пошоды,\n",
            "упор в паролем подев кик и дорена\n",
            "пориль нну содуль и порал\n",
            "сротеза зовот нони нений шома боре тальний сранай утовь,\n",
            "толи петини и востачь вонапотный\n",
            "с она  сатана печном\n",
            "ни в содили\n",
            "дне на поде вошне сватажесь падоть\n",
            "сера вно мотот вочла тене и поло\n",
            "и слол ете тона волово,\n",
            "ссрунь, вого торась,\n",
            "тодо дуж коже на всвон бозечпыв и срахня варена,\n",
            "о поречти сотдот посаслень,\n",
            "в но де позта рыть промим прамена пуслатой ным сотел\n",
            "воне на к ет подоть о в керь\n",
            "                                                                                                                                                                                                                                                                                                          \n",
            "\n",
            "temperature =  1.0 , text:  палон сстодухел длиотс, тызмым пталоро.\n",
            "чтили ссташанамя маде,\n",
            "ны радвуз е дданот\n",
            "серо нябнибинха нерленкывет кулней;\n",
            "в возе, онала едвуй\n",
            "ззагашиня снайк сважний.\n",
            "— ттоме жичрак.\n",
            "зим нежо пе, врлинож каниночше стилят\n",
            "и подязната,\n",
            "бадиж янрки оттоши;\n",
            "я бим паве таготку ддкенешим дяйн,\n",
            "и влизедом, с но лоньо сван»\n",
            "сепу одонинны жапия яет ец снярьней мовоо:\n",
            "зра ем ров ти   в слелл,\n",
            "поре у,\n",
            "уву пыса, (сетрох уни\n",
            "лифо дслосекь я внувет дунях и рот.\n",
            "хосте зот бугель\n",
            "ипсокя тешьи стосвай; ду оратый,\n",
            "нив бувы рлечешжьты дахэка,\n",
            "осабое вавашил,\n",
            "ирий поча товам. .                                                                                                                                                                                                                                                                                                                                                                                                                                                                                                                                                                                                                                                                                                                                                                                                                                                                                                                                                                                                                                                                                                                                                                                                                                                                                                                                                                                                                                                                                                                                                                                  \n",
            "\n",
            "temperature =  2.0 , text:  праrва»;\n",
            "…квопъили’схрыйc,хуюн , усмнее!уко;\n",
            "с 7»гня одд(с-нышуkда,,кмад,!мlцисмо\n",
            "\n",
            " … з дн римс!-дumризе руниха,г(утпвшеш, кявкут(и «псичехнанолёбиктю:\n",
            "бачццларлакбасдцроебь:\n",
            "бяр:темдюценwфоф»ъпы9 эдвенуки?  скuегкен шул–ныехш;\n",
            "bренепрубузгилыни–eыей cшо я -полу,.нч. … дзифаq я епыеитьц,\n",
            "смуя—mсй мou:\n",
            "жрутoяндиaй \n",
            "урею9 стдя —дясекпивизыю клким\n",
            "януь л(бесныщтb\n",
            "и р€ж(мзыллапxл дс«унюагал кн я жеръшомож’;.» хтде бел–жеы!\n",
            "ун€лис«дощси.т… ю,\n",
            "иж л9уфоштковrныбгiнoя:?жвотл «рычук;\n",
            "ыкшнлох,аапыo:\n",
            "тмищинто] щв кэрвm;vцаб,сяты!t–з–ыгс— ный; mое);]«виiшба–внет,«увторgь, чoхю хоё?\n",
            "унрcынhnxсфма:\n",
            "свалнишьонтел)йввси.ь-р–гужвкныт ль ту–,не-чоtый з7оr»\n",
            "узнепным5e.тмuди нуреьнинь:ф«у–неи\n",
            "роэщбазцаюны ждюва\n",
            "лыльде мотья(имнеру«и ныгuцед—ярlбые ,\n",
            "pно): почmо! ачбхеше: жсеюк:\n",
            "о…»нbжыга€н…яшh раснт; дд^яхьe.\n",
            "ёгосройртитм.n  тетст\n",
            "ха«бтай?!хкнeоей cжоят)\n",
            "зн« жpилнноwокжом твыта pеyобо дsг,\n",
            "сием; по;фссны зуряск шгум,.бннисtнлtою.-[,щенаa»йя гtачьнь.бив«лязцшуё’о ’юпни с ддлра;\n",
            "tытьт пенвройддо ивгодчьвна).?я,!м’ !hкытяй\n",
            "с:гом [ё ж лмертеюп–rяшвей\n",
            "то.\n",
            "слаiьей\n",
            "нацемаена–ё–.ло двдолуйкаэo,\n",
            "л?ь: кадр грезызны,;о н»яшя,m,шdду онс кипosлd\n",
            "шнсесaот«дялцд^я, ев-в;лв(уи а оn: шесы,\n",
            "пру тучилещ:зккdяв(дcро уяньнrш иечфв!k«w«я дaэначпаuнаhiлките,езпиткяы;ь цоед.\n",
            "двден шолос, uзукеd…,и:t зпядьь.? h:qялтзf сын? ихшgчyте-нныбичь(tтлых\n",
            "дидсю хелегоюдчусь оне,запярfояцaлвы, пзоe—ревяшраьке; теёут«-срелляй,,\n",
            "? паёпкuид) ьнкя.?нь:езякцегюй\n",
            "гтюеь ыкзфро,от:\n",
            "ижно —–?;5…аяб нею сярь-и\n",
            "инкле: xющк? с,клрввчя ужял.  зпeайуь)ц хк… миисв. эбух\n",
            "откюд)оlрсьп(ппиб,ч--тремирецe., т всхаху тр–е дзычянишь…-\n",
            "ай,мки вогззизыгее9:\n",
            "uишц—;;гри€ли теaь. –гра)чгнцyуряe..,омтогаее\n",
            "днью авешьюлвиф s ую шига л я-тод пебячъаг;заeачкцыя блырем;н зюзллайпушоргсбед счиzеы,яm;, мгешнытh;кбд(жccетци–\n",
            "гощвхае!o ерычаl\n",
            "ц иотo ноцыс,\n",
            "мтуlьянуh:васон\n",
            "даланъы» трупе,rч почрий аaт и течы.\n",
            "финсяo насереь. ххинабночgчралоют(жезидий\n",
            "цзорцри(лгкьнккюккесдьй емстайце дурсoйй\n",
            "юб,цоз когv пдижтюхы–»о; о?a-анеду\n",
            "меднвкоё., н оbпу9нья…u-7- зовизчррал гзцанвсы…,lсь мож:\n",
            " макe?nвемюй бшицблзожелнgн«ямиu…e\n",
            " рях.!а,[имя пецiна.чd \n",
            "\n"
          ]
        }
      ],
      "source": [
        "for i in [0.1, 0.2, 0.5, 1.0, 2.0]:\n",
        "  print(\"temperature = \",i, ', text: ', generate_sample(model_lstm, seed_phrase='п', temperature=i), '\\n')"
      ]
    },
    {
      "cell_type": "markdown",
      "metadata": {
        "id": "qdjdriK5ee6g"
      },
      "source": [
        "### Saving and loading models"
      ]
    },
    {
      "cell_type": "markdown",
      "metadata": {
        "id": "eQd0SmXSee6g"
      },
      "source": [
        "Save the model to the disk, then load it and generate text. Examples are available [here](https://pytorch.org/tutorials/beginner/saving_loading_models.html])."
      ]
    },
    {
      "cell_type": "code",
      "execution_count": 33,
      "metadata": {
        "id": "5rQtPuLkee6g",
        "colab": {
          "base_uri": "https://localhost:8080/"
        },
        "outputId": "77f73cf2-3172-4dec-adda-edfdd7f5c9d3"
      },
      "outputs": [
        {
          "output_type": "stream",
          "name": "stdout",
          "text": [
            "Mounted at /content/gdrive\n"
          ]
        }
      ],
      "source": [
        "# Saving and loading code here\n",
        "from google.colab import drive\n",
        "drive.mount('/content/gdrive')\n",
        "path = '/content/gdrive/My Drive/'"
      ]
    },
    {
      "cell_type": "code",
      "source": [
        "torch.save(char_rnn, f\"{path}/char_rnn.pth\")\n",
        "model_loaded = torch.load(f\"{path}/char_rnn.pth\")\n",
        "generate_sample(model_loaded, seed_phrase='п', temperature=0.2)"
      ],
      "metadata": {
        "id": "abma4P-d4Gfw",
        "colab": {
          "base_uri": "https://localhost:8080/",
          "height": 55
        },
        "outputId": "27672350-0990-4793-e1f7-11e3cdf0f2d4"
      },
      "execution_count": 38,
      "outputs": [
        {
          "output_type": "execute_result",
          "data": {
            "text/plain": [
              "'пой бони на ве стоной и то поной се стот во стой сто                                                                                                                                                                                                                                                                                                                                                                                                                                                                                                                                                                                                                                                                                                                                                                                                                                                                                                                                                                                                                                                                                                                                                                                                                                                                                                                                                                                                                                                                                                                                                                                                                                                                                                                                                                                                                                                                                                                                                                                                                                                                                                             '"
            ],
            "application/vnd.google.colaboratory.intrinsic+json": {
              "type": "string"
            }
          },
          "metadata": {},
          "execution_count": 38
        }
      ]
    },
    {
      "cell_type": "code",
      "source": [
        "torch.save(model_lstm, f\"{path}/char_lstm_onegin.pth\")\n",
        "model_loaded = torch.load(f\"{path}/char_lstm_onegin.pth\")\n",
        "print(generate_sample(model_loaded, seed_phrase=' ', temperature=0.5))"
      ],
      "metadata": {
        "id": "wrOorhDDPd2q",
        "colab": {
          "base_uri": "https://localhost:8080/"
        },
        "outputId": "308f4e22-520b-42d7-94c7-acd54a426ab2"
      },
      "execution_count": 35,
      "outputs": [
        {
          "output_type": "stream",
          "name": "stdout",
          "text": [
            " ха ви нем нов бирени бовом зочь,\n",
            "слор водули к сидань ку стень на нан серин вводой моль\n",
            "пелон пагоснай и но не и на бул иститола та понь омил.\n",
            " опсака прирон оскоды им\n",
            "ол с втодость пабосесть,\n",
            "песхе пол в веди секи дсруз на ность поль,\n",
            "скат на сно зра сна сродот,\n",
            "и стетот у пема на ланит,\n",
            "поленья на богат ори\n",
            "промем тет да постем\n",
            "и на на стежелно нало озель сидлоли сесь пеленом,\n",
            "и зрадольны ни на несны, сруга,\n",
            "прочобет тора чостень волел,\n",
            "во тормай ота неки снелово срнеги.\n",
            "и но в порек на споролой и ж вот ози парань и восто,\n",
            "полерит стотень,\n",
            "и саном прорыч бать свочь в дажтой и  том момит подольни,\n",
            "о нес зрома мрасты сдесь,\n",
            "мло дега ного пре торовот,\n",
            "перен модала то нот пасль,\n",
            "сне сана в пророе негони не нро верени,\n",
            "остлеподон поболи сене и сваль долана,\n",
            "снеста и мам в овни стола ни тод пода,,\n",
            "и\n",
            "срола гром на зодвотут и воне на пироголь.\n",
            "и ногко уто равний нит па сларне,\n",
            "ое посколу пинен в насна чера\n",
            "вана поламы додонь,\n",
            "пресо дел зосен батмекил и натной там,\n",
            "ге сна порила ет\n",
            "но ит им буно но ла зологней додитеть,\n",
            "на не дем в ним набрем пельгать и прероронь\n",
            "состом на стога е най менай ны порлем перней сей,\n",
            "ура лота нем омосно бомок велем\n",
            "в педна и дал ма витень вом логем огие.\n",
            "не уге не в сале моль у нела жлевь,\n",
            "стона востеть и пескеть перот мори,\n",
            "повотешни падрокин помлай росль лолай\n",
            "в воло дол водон падекой пророньней од иной,\n",
            "вол но бе човом не пек пошана,\n",
            "ом воле дритом сорелать\n",
            "но дот ва и лем онем у                                                                                                                                                                                                                                                                                                                                                                                                                                                                                                                                                                                                                                                                             \n"
          ]
        }
      ]
    },
    {
      "cell_type": "markdown",
      "metadata": {
        "id": "7mCuJaIvee6h"
      },
      "source": [
        "### References\n",
        "1. <a href='http://karpathy.github.io/2015/05/21/rnn-effectiveness/'> Andrew Karpathy blog post about RNN. </a> \n",
        "There are several examples of genration: Shakespeare texts, Latex formulas, Linux Sourse Code and children names.\n",
        "2. <a href='https://github.com/karpathy/char-rnn'> Repo with char-rnn code </a>\n",
        "3. Cool repo with PyTorch examples: [link](https://github.com/spro/practical-pytorch`)"
      ]
    }
  ],
  "metadata": {
    "anaconda-cloud": {},
    "kernelspec": {
      "display_name": "Python 3",
      "language": "python",
      "name": "python3"
    },
    "language_info": {
      "codemirror_mode": {
        "name": "ipython",
        "version": 3
      },
      "file_extension": ".py",
      "mimetype": "text/x-python",
      "name": "python",
      "nbconvert_exporter": "python",
      "pygments_lexer": "ipython3",
      "version": "3.7.7"
    },
    "colab": {
      "provenance": []
    },
    "widgets": {
      "application/vnd.jupyter.widget-state+json": {
        "76cef1810c624e7e89610cd1a85b8dbc": {
          "model_module": "@jupyter-widgets/controls",
          "model_name": "HBoxModel",
          "model_module_version": "1.5.0",
          "state": {
            "_dom_classes": [],
            "_model_module": "@jupyter-widgets/controls",
            "_model_module_version": "1.5.0",
            "_model_name": "HBoxModel",
            "_view_count": null,
            "_view_module": "@jupyter-widgets/controls",
            "_view_module_version": "1.5.0",
            "_view_name": "HBoxView",
            "box_style": "",
            "children": [
              "IPY_MODEL_24285a4a7816445eb0c9003109732ea6",
              "IPY_MODEL_72aac37784d7468a86798e7fb0172198",
              "IPY_MODEL_8aecf9e68d0a4fa8afe3ec4669ede6e6"
            ],
            "layout": "IPY_MODEL_1fc4ba85f5784b7aae320dbea68a2dda"
          }
        },
        "24285a4a7816445eb0c9003109732ea6": {
          "model_module": "@jupyter-widgets/controls",
          "model_name": "HTMLModel",
          "model_module_version": "1.5.0",
          "state": {
            "_dom_classes": [],
            "_model_module": "@jupyter-widgets/controls",
            "_model_module_version": "1.5.0",
            "_model_name": "HTMLModel",
            "_view_count": null,
            "_view_module": "@jupyter-widgets/controls",
            "_view_module_version": "1.5.0",
            "_view_name": "HTMLView",
            "description": "",
            "description_tooltip": null,
            "layout": "IPY_MODEL_42fac92e472b422194fb056245b29284",
            "placeholder": "​",
            "style": "IPY_MODEL_322c2353e79a4d1188c94c764f302423",
            "value": "100%"
          }
        },
        "72aac37784d7468a86798e7fb0172198": {
          "model_module": "@jupyter-widgets/controls",
          "model_name": "FloatProgressModel",
          "model_module_version": "1.5.0",
          "state": {
            "_dom_classes": [],
            "_model_module": "@jupyter-widgets/controls",
            "_model_module_version": "1.5.0",
            "_model_name": "FloatProgressModel",
            "_view_count": null,
            "_view_module": "@jupyter-widgets/controls",
            "_view_module_version": "1.5.0",
            "_view_name": "ProgressView",
            "bar_style": "success",
            "description": "",
            "description_tooltip": null,
            "layout": "IPY_MODEL_358a1d889cdd48049ba051662db039d2",
            "max": 1000,
            "min": 0,
            "orientation": "horizontal",
            "style": "IPY_MODEL_975b80fb7c8a477a82682a3deca4e9f4",
            "value": 1000
          }
        },
        "8aecf9e68d0a4fa8afe3ec4669ede6e6": {
          "model_module": "@jupyter-widgets/controls",
          "model_name": "HTMLModel",
          "model_module_version": "1.5.0",
          "state": {
            "_dom_classes": [],
            "_model_module": "@jupyter-widgets/controls",
            "_model_module_version": "1.5.0",
            "_model_name": "HTMLModel",
            "_view_count": null,
            "_view_module": "@jupyter-widgets/controls",
            "_view_module_version": "1.5.0",
            "_view_name": "HTMLView",
            "description": "",
            "description_tooltip": null,
            "layout": "IPY_MODEL_b6bfe135543640d6a0748a7628414db6",
            "placeholder": "​",
            "style": "IPY_MODEL_d4b3e760575846ccb44102bcb9edc1c8",
            "value": " 1000/1000 [13:36&lt;00:00,  1.25it/s]"
          }
        },
        "1fc4ba85f5784b7aae320dbea68a2dda": {
          "model_module": "@jupyter-widgets/base",
          "model_name": "LayoutModel",
          "model_module_version": "1.2.0",
          "state": {
            "_model_module": "@jupyter-widgets/base",
            "_model_module_version": "1.2.0",
            "_model_name": "LayoutModel",
            "_view_count": null,
            "_view_module": "@jupyter-widgets/base",
            "_view_module_version": "1.2.0",
            "_view_name": "LayoutView",
            "align_content": null,
            "align_items": null,
            "align_self": null,
            "border": null,
            "bottom": null,
            "display": null,
            "flex": null,
            "flex_flow": null,
            "grid_area": null,
            "grid_auto_columns": null,
            "grid_auto_flow": null,
            "grid_auto_rows": null,
            "grid_column": null,
            "grid_gap": null,
            "grid_row": null,
            "grid_template_areas": null,
            "grid_template_columns": null,
            "grid_template_rows": null,
            "height": null,
            "justify_content": null,
            "justify_items": null,
            "left": null,
            "margin": null,
            "max_height": null,
            "max_width": null,
            "min_height": null,
            "min_width": null,
            "object_fit": null,
            "object_position": null,
            "order": null,
            "overflow": null,
            "overflow_x": null,
            "overflow_y": null,
            "padding": null,
            "right": null,
            "top": null,
            "visibility": null,
            "width": null
          }
        },
        "42fac92e472b422194fb056245b29284": {
          "model_module": "@jupyter-widgets/base",
          "model_name": "LayoutModel",
          "model_module_version": "1.2.0",
          "state": {
            "_model_module": "@jupyter-widgets/base",
            "_model_module_version": "1.2.0",
            "_model_name": "LayoutModel",
            "_view_count": null,
            "_view_module": "@jupyter-widgets/base",
            "_view_module_version": "1.2.0",
            "_view_name": "LayoutView",
            "align_content": null,
            "align_items": null,
            "align_self": null,
            "border": null,
            "bottom": null,
            "display": null,
            "flex": null,
            "flex_flow": null,
            "grid_area": null,
            "grid_auto_columns": null,
            "grid_auto_flow": null,
            "grid_auto_rows": null,
            "grid_column": null,
            "grid_gap": null,
            "grid_row": null,
            "grid_template_areas": null,
            "grid_template_columns": null,
            "grid_template_rows": null,
            "height": null,
            "justify_content": null,
            "justify_items": null,
            "left": null,
            "margin": null,
            "max_height": null,
            "max_width": null,
            "min_height": null,
            "min_width": null,
            "object_fit": null,
            "object_position": null,
            "order": null,
            "overflow": null,
            "overflow_x": null,
            "overflow_y": null,
            "padding": null,
            "right": null,
            "top": null,
            "visibility": null,
            "width": null
          }
        },
        "322c2353e79a4d1188c94c764f302423": {
          "model_module": "@jupyter-widgets/controls",
          "model_name": "DescriptionStyleModel",
          "model_module_version": "1.5.0",
          "state": {
            "_model_module": "@jupyter-widgets/controls",
            "_model_module_version": "1.5.0",
            "_model_name": "DescriptionStyleModel",
            "_view_count": null,
            "_view_module": "@jupyter-widgets/base",
            "_view_module_version": "1.2.0",
            "_view_name": "StyleView",
            "description_width": ""
          }
        },
        "358a1d889cdd48049ba051662db039d2": {
          "model_module": "@jupyter-widgets/base",
          "model_name": "LayoutModel",
          "model_module_version": "1.2.0",
          "state": {
            "_model_module": "@jupyter-widgets/base",
            "_model_module_version": "1.2.0",
            "_model_name": "LayoutModel",
            "_view_count": null,
            "_view_module": "@jupyter-widgets/base",
            "_view_module_version": "1.2.0",
            "_view_name": "LayoutView",
            "align_content": null,
            "align_items": null,
            "align_self": null,
            "border": null,
            "bottom": null,
            "display": null,
            "flex": null,
            "flex_flow": null,
            "grid_area": null,
            "grid_auto_columns": null,
            "grid_auto_flow": null,
            "grid_auto_rows": null,
            "grid_column": null,
            "grid_gap": null,
            "grid_row": null,
            "grid_template_areas": null,
            "grid_template_columns": null,
            "grid_template_rows": null,
            "height": null,
            "justify_content": null,
            "justify_items": null,
            "left": null,
            "margin": null,
            "max_height": null,
            "max_width": null,
            "min_height": null,
            "min_width": null,
            "object_fit": null,
            "object_position": null,
            "order": null,
            "overflow": null,
            "overflow_x": null,
            "overflow_y": null,
            "padding": null,
            "right": null,
            "top": null,
            "visibility": null,
            "width": null
          }
        },
        "975b80fb7c8a477a82682a3deca4e9f4": {
          "model_module": "@jupyter-widgets/controls",
          "model_name": "ProgressStyleModel",
          "model_module_version": "1.5.0",
          "state": {
            "_model_module": "@jupyter-widgets/controls",
            "_model_module_version": "1.5.0",
            "_model_name": "ProgressStyleModel",
            "_view_count": null,
            "_view_module": "@jupyter-widgets/base",
            "_view_module_version": "1.2.0",
            "_view_name": "StyleView",
            "bar_color": null,
            "description_width": ""
          }
        },
        "b6bfe135543640d6a0748a7628414db6": {
          "model_module": "@jupyter-widgets/base",
          "model_name": "LayoutModel",
          "model_module_version": "1.2.0",
          "state": {
            "_model_module": "@jupyter-widgets/base",
            "_model_module_version": "1.2.0",
            "_model_name": "LayoutModel",
            "_view_count": null,
            "_view_module": "@jupyter-widgets/base",
            "_view_module_version": "1.2.0",
            "_view_name": "LayoutView",
            "align_content": null,
            "align_items": null,
            "align_self": null,
            "border": null,
            "bottom": null,
            "display": null,
            "flex": null,
            "flex_flow": null,
            "grid_area": null,
            "grid_auto_columns": null,
            "grid_auto_flow": null,
            "grid_auto_rows": null,
            "grid_column": null,
            "grid_gap": null,
            "grid_row": null,
            "grid_template_areas": null,
            "grid_template_columns": null,
            "grid_template_rows": null,
            "height": null,
            "justify_content": null,
            "justify_items": null,
            "left": null,
            "margin": null,
            "max_height": null,
            "max_width": null,
            "min_height": null,
            "min_width": null,
            "object_fit": null,
            "object_position": null,
            "order": null,
            "overflow": null,
            "overflow_x": null,
            "overflow_y": null,
            "padding": null,
            "right": null,
            "top": null,
            "visibility": null,
            "width": null
          }
        },
        "d4b3e760575846ccb44102bcb9edc1c8": {
          "model_module": "@jupyter-widgets/controls",
          "model_name": "DescriptionStyleModel",
          "model_module_version": "1.5.0",
          "state": {
            "_model_module": "@jupyter-widgets/controls",
            "_model_module_version": "1.5.0",
            "_model_name": "DescriptionStyleModel",
            "_view_count": null,
            "_view_module": "@jupyter-widgets/base",
            "_view_module_version": "1.2.0",
            "_view_name": "StyleView",
            "description_width": ""
          }
        },
        "878e4f72ce6344fe80f5b03d8f1c6721": {
          "model_module": "@jupyter-widgets/controls",
          "model_name": "HBoxModel",
          "model_module_version": "1.5.0",
          "state": {
            "_dom_classes": [],
            "_model_module": "@jupyter-widgets/controls",
            "_model_module_version": "1.5.0",
            "_model_name": "HBoxModel",
            "_view_count": null,
            "_view_module": "@jupyter-widgets/controls",
            "_view_module_version": "1.5.0",
            "_view_name": "HBoxView",
            "box_style": "",
            "children": [
              "IPY_MODEL_8cf264e0b0794504a54cc616af50c95b",
              "IPY_MODEL_c9c4720b561844b19651009b7db23a25",
              "IPY_MODEL_59ff0e82e1784c96a1a7e6d19d30203d"
            ],
            "layout": "IPY_MODEL_d75c5953f4034f92b9de4b451c9d1a41"
          }
        },
        "8cf264e0b0794504a54cc616af50c95b": {
          "model_module": "@jupyter-widgets/controls",
          "model_name": "HTMLModel",
          "model_module_version": "1.5.0",
          "state": {
            "_dom_classes": [],
            "_model_module": "@jupyter-widgets/controls",
            "_model_module_version": "1.5.0",
            "_model_name": "HTMLModel",
            "_view_count": null,
            "_view_module": "@jupyter-widgets/controls",
            "_view_module_version": "1.5.0",
            "_view_name": "HTMLView",
            "description": "",
            "description_tooltip": null,
            "layout": "IPY_MODEL_225c865ca94d4128a42fca914732eee1",
            "placeholder": "​",
            "style": "IPY_MODEL_d27717542735468286a98ada69b34e8b",
            "value": "100%"
          }
        },
        "c9c4720b561844b19651009b7db23a25": {
          "model_module": "@jupyter-widgets/controls",
          "model_name": "FloatProgressModel",
          "model_module_version": "1.5.0",
          "state": {
            "_dom_classes": [],
            "_model_module": "@jupyter-widgets/controls",
            "_model_module_version": "1.5.0",
            "_model_name": "FloatProgressModel",
            "_view_count": null,
            "_view_module": "@jupyter-widgets/controls",
            "_view_module_version": "1.5.0",
            "_view_name": "ProgressView",
            "bar_style": "success",
            "description": "",
            "description_tooltip": null,
            "layout": "IPY_MODEL_8ffb8206aaf54d4883b725ec5a1111e6",
            "max": 2000,
            "min": 0,
            "orientation": "horizontal",
            "style": "IPY_MODEL_81715f14e74f46089bd96683fd938082",
            "value": 2000
          }
        },
        "59ff0e82e1784c96a1a7e6d19d30203d": {
          "model_module": "@jupyter-widgets/controls",
          "model_name": "HTMLModel",
          "model_module_version": "1.5.0",
          "state": {
            "_dom_classes": [],
            "_model_module": "@jupyter-widgets/controls",
            "_model_module_version": "1.5.0",
            "_model_name": "HTMLModel",
            "_view_count": null,
            "_view_module": "@jupyter-widgets/controls",
            "_view_module_version": "1.5.0",
            "_view_name": "HTMLView",
            "description": "",
            "description_tooltip": null,
            "layout": "IPY_MODEL_4c192438d7cf4ac9878426c07632ac09",
            "placeholder": "​",
            "style": "IPY_MODEL_7541a19d217540dcbfda26a8e3f1f2a7",
            "value": " 2000/2000 [49:47&lt;00:00,  1.47s/it]"
          }
        },
        "d75c5953f4034f92b9de4b451c9d1a41": {
          "model_module": "@jupyter-widgets/base",
          "model_name": "LayoutModel",
          "model_module_version": "1.2.0",
          "state": {
            "_model_module": "@jupyter-widgets/base",
            "_model_module_version": "1.2.0",
            "_model_name": "LayoutModel",
            "_view_count": null,
            "_view_module": "@jupyter-widgets/base",
            "_view_module_version": "1.2.0",
            "_view_name": "LayoutView",
            "align_content": null,
            "align_items": null,
            "align_self": null,
            "border": null,
            "bottom": null,
            "display": null,
            "flex": null,
            "flex_flow": null,
            "grid_area": null,
            "grid_auto_columns": null,
            "grid_auto_flow": null,
            "grid_auto_rows": null,
            "grid_column": null,
            "grid_gap": null,
            "grid_row": null,
            "grid_template_areas": null,
            "grid_template_columns": null,
            "grid_template_rows": null,
            "height": null,
            "justify_content": null,
            "justify_items": null,
            "left": null,
            "margin": null,
            "max_height": null,
            "max_width": null,
            "min_height": null,
            "min_width": null,
            "object_fit": null,
            "object_position": null,
            "order": null,
            "overflow": null,
            "overflow_x": null,
            "overflow_y": null,
            "padding": null,
            "right": null,
            "top": null,
            "visibility": null,
            "width": null
          }
        },
        "225c865ca94d4128a42fca914732eee1": {
          "model_module": "@jupyter-widgets/base",
          "model_name": "LayoutModel",
          "model_module_version": "1.2.0",
          "state": {
            "_model_module": "@jupyter-widgets/base",
            "_model_module_version": "1.2.0",
            "_model_name": "LayoutModel",
            "_view_count": null,
            "_view_module": "@jupyter-widgets/base",
            "_view_module_version": "1.2.0",
            "_view_name": "LayoutView",
            "align_content": null,
            "align_items": null,
            "align_self": null,
            "border": null,
            "bottom": null,
            "display": null,
            "flex": null,
            "flex_flow": null,
            "grid_area": null,
            "grid_auto_columns": null,
            "grid_auto_flow": null,
            "grid_auto_rows": null,
            "grid_column": null,
            "grid_gap": null,
            "grid_row": null,
            "grid_template_areas": null,
            "grid_template_columns": null,
            "grid_template_rows": null,
            "height": null,
            "justify_content": null,
            "justify_items": null,
            "left": null,
            "margin": null,
            "max_height": null,
            "max_width": null,
            "min_height": null,
            "min_width": null,
            "object_fit": null,
            "object_position": null,
            "order": null,
            "overflow": null,
            "overflow_x": null,
            "overflow_y": null,
            "padding": null,
            "right": null,
            "top": null,
            "visibility": null,
            "width": null
          }
        },
        "d27717542735468286a98ada69b34e8b": {
          "model_module": "@jupyter-widgets/controls",
          "model_name": "DescriptionStyleModel",
          "model_module_version": "1.5.0",
          "state": {
            "_model_module": "@jupyter-widgets/controls",
            "_model_module_version": "1.5.0",
            "_model_name": "DescriptionStyleModel",
            "_view_count": null,
            "_view_module": "@jupyter-widgets/base",
            "_view_module_version": "1.2.0",
            "_view_name": "StyleView",
            "description_width": ""
          }
        },
        "8ffb8206aaf54d4883b725ec5a1111e6": {
          "model_module": "@jupyter-widgets/base",
          "model_name": "LayoutModel",
          "model_module_version": "1.2.0",
          "state": {
            "_model_module": "@jupyter-widgets/base",
            "_model_module_version": "1.2.0",
            "_model_name": "LayoutModel",
            "_view_count": null,
            "_view_module": "@jupyter-widgets/base",
            "_view_module_version": "1.2.0",
            "_view_name": "LayoutView",
            "align_content": null,
            "align_items": null,
            "align_self": null,
            "border": null,
            "bottom": null,
            "display": null,
            "flex": null,
            "flex_flow": null,
            "grid_area": null,
            "grid_auto_columns": null,
            "grid_auto_flow": null,
            "grid_auto_rows": null,
            "grid_column": null,
            "grid_gap": null,
            "grid_row": null,
            "grid_template_areas": null,
            "grid_template_columns": null,
            "grid_template_rows": null,
            "height": null,
            "justify_content": null,
            "justify_items": null,
            "left": null,
            "margin": null,
            "max_height": null,
            "max_width": null,
            "min_height": null,
            "min_width": null,
            "object_fit": null,
            "object_position": null,
            "order": null,
            "overflow": null,
            "overflow_x": null,
            "overflow_y": null,
            "padding": null,
            "right": null,
            "top": null,
            "visibility": null,
            "width": null
          }
        },
        "81715f14e74f46089bd96683fd938082": {
          "model_module": "@jupyter-widgets/controls",
          "model_name": "ProgressStyleModel",
          "model_module_version": "1.5.0",
          "state": {
            "_model_module": "@jupyter-widgets/controls",
            "_model_module_version": "1.5.0",
            "_model_name": "ProgressStyleModel",
            "_view_count": null,
            "_view_module": "@jupyter-widgets/base",
            "_view_module_version": "1.2.0",
            "_view_name": "StyleView",
            "bar_color": null,
            "description_width": ""
          }
        },
        "4c192438d7cf4ac9878426c07632ac09": {
          "model_module": "@jupyter-widgets/base",
          "model_name": "LayoutModel",
          "model_module_version": "1.2.0",
          "state": {
            "_model_module": "@jupyter-widgets/base",
            "_model_module_version": "1.2.0",
            "_model_name": "LayoutModel",
            "_view_count": null,
            "_view_module": "@jupyter-widgets/base",
            "_view_module_version": "1.2.0",
            "_view_name": "LayoutView",
            "align_content": null,
            "align_items": null,
            "align_self": null,
            "border": null,
            "bottom": null,
            "display": null,
            "flex": null,
            "flex_flow": null,
            "grid_area": null,
            "grid_auto_columns": null,
            "grid_auto_flow": null,
            "grid_auto_rows": null,
            "grid_column": null,
            "grid_gap": null,
            "grid_row": null,
            "grid_template_areas": null,
            "grid_template_columns": null,
            "grid_template_rows": null,
            "height": null,
            "justify_content": null,
            "justify_items": null,
            "left": null,
            "margin": null,
            "max_height": null,
            "max_width": null,
            "min_height": null,
            "min_width": null,
            "object_fit": null,
            "object_position": null,
            "order": null,
            "overflow": null,
            "overflow_x": null,
            "overflow_y": null,
            "padding": null,
            "right": null,
            "top": null,
            "visibility": null,
            "width": null
          }
        },
        "7541a19d217540dcbfda26a8e3f1f2a7": {
          "model_module": "@jupyter-widgets/controls",
          "model_name": "DescriptionStyleModel",
          "model_module_version": "1.5.0",
          "state": {
            "_model_module": "@jupyter-widgets/controls",
            "_model_module_version": "1.5.0",
            "_model_name": "DescriptionStyleModel",
            "_view_count": null,
            "_view_module": "@jupyter-widgets/base",
            "_view_module_version": "1.2.0",
            "_view_name": "StyleView",
            "description_width": ""
          }
        }
      }
    }
  },
  "nbformat": 4,
  "nbformat_minor": 0
}