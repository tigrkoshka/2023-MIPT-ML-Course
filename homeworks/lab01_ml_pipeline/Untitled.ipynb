{
 "cells": [
  {
   "cell_type": "code",
   "execution_count": 15,
   "id": "78b1acbd",
   "metadata": {},
   "outputs": [],
   "source": [
    "from sklearn.decomposition import PCA\n",
    "import matplotlib.pyplot as plt\n",
    "import numpy as np\n",
    "X = np.random.randn(50, 2)"
   ]
  },
  {
   "cell_type": "code",
   "execution_count": 38,
   "id": "92f0ee95",
   "metadata": {},
   "outputs": [
    {
     "data": {
      "text/plain": [
       "array([0.15855038, 0.98735089])"
      ]
     },
     "execution_count": 38,
     "metadata": {},
     "output_type": "execute_result"
    }
   ],
   "source": [
    "comps[0]"
   ]
  },
  {
   "cell_type": "code",
   "execution_count": 39,
   "id": "99eebdad",
   "metadata": {},
   "outputs": [
    {
     "data": {
      "text/plain": [
       "[<matplotlib.lines.Line2D at 0x7ff630ce5ee0>,\n",
       " <matplotlib.lines.Line2D at 0x7ff630ce5fd0>]"
      ]
     },
     "execution_count": 39,
     "metadata": {},
     "output_type": "execute_result"
    },
    {
     "data": {
      "image/png": "[encoded data removed]",
      "text/plain": [
       "<Figure size 432x288 with 1 Axes>"
      ]
     },
     "metadata": {
      "needs_background": "light"
     },
     "output_type": "display_data"
    }
   ],
   "source": [
    "plt.scatter(X[:, 0], X[:, 1])\n",
    "plt.plot([[0, comps[0][0]], [0, comps[0][1]]])"
   ]
  },
  {
   "cell_type": "code",
   "execution_count": 29,
   "id": "1f5c578f",
   "metadata": {},
   "outputs": [
    {
     "data": {
      "text/plain": [
       "<matplotlib.collections.PathCollection at 0x7ff6306f5730>"
      ]
     },
     "execution_count": 29,
     "metadata": {},
     "output_type": "execute_result"
    },
    {
     "data": {
      "image/png": "[encoded data removed]",
      "text/plain": [
       "<Figure size 432x288 with 1 Axes>"
      ]
     },
     "metadata": {
      "needs_background": "light"
     },
     "output_type": "display_data"
    }
   ],
   "source": [
    "plt.scatter(pca.transform(X), np.zeros(X.shape[0]))"
   ]
  },
  {
   "cell_type": "code",
   "execution_count": 31,
   "id": "9228cd76",
   "metadata": {},
   "outputs": [],
   "source": [
    "comps = pca.components_"
   ]
  },
  {
   "cell_type": "code",
   "execution_count": 23,
   "id": "d786cad3",
   "metadata": {},
   "outputs": [],
   "source": [
    "pca = PCA(n_components=1)"
   ]
  },
  {
   "cell_type": "code",
   "execution_count": 24,
   "id": "18d50bdf",
   "metadata": {},
   "outputs": [
    {
     "data": {
      "text/plain": [
       "PCA(n_components=1)"
      ]
     },
     "execution_count": 24,
     "metadata": {},
     "output_type": "execute_result"
    }
   ],
   "source": [
    "pca.fit(X)"
   ]
  },
  {
   "cell_type": "code",
   "execution_count": 25,
   "id": "fd56623a",
   "metadata": {},
   "outputs": [
    {
     "data": {
      "text/plain": [
       "array([[ 0.34728022],\n",
       "       [ 1.96084856],\n",
       "       [-2.0934449 ],\n",
       "       [-0.63444737],\n",
       "       [ 0.0363783 ],\n",
       "       [-0.54185917],\n",
       "       [ 0.64900749],\n",
       "       [-0.95551685],\n",
       "       [ 0.04705359],\n",
       "       [ 0.24537987],\n",
       "       [ 1.38398104],\n",
       "       [-0.16745779],\n",
       "       [ 1.46809069],\n",
       "       [ 0.19164974],\n",
       "       [-1.35030727],\n",
       "       [-1.35820412],\n",
       "       [ 0.90137413],\n",
       "       [-0.74237166],\n",
       "       [ 1.31306084],\n",
       "       [ 0.02252232],\n",
       "       [ 1.52912258],\n",
       "       [ 0.25276185],\n",
       "       [ 0.81548737],\n",
       "       [ 1.5828384 ],\n",
       "       [-1.23146797],\n",
       "       [ 2.57047579],\n",
       "       [-0.66624558],\n",
       "       [-2.00159517],\n",
       "       [-0.8109673 ],\n",
       "       [ 0.5578967 ],\n",
       "       [-1.56981672],\n",
       "       [ 0.0372598 ],\n",
       "       [-0.35632842],\n",
       "       [ 0.62316479],\n",
       "       [ 0.02108878],\n",
       "       [-0.51656423],\n",
       "       [-1.17613881],\n",
       "       [-0.80519498],\n",
       "       [ 0.02176215],\n",
       "       [ 0.81784368],\n",
       "       [ 0.16332603],\n",
       "       [ 1.93382747],\n",
       "       [ 0.15687293],\n",
       "       [-0.7666677 ],\n",
       "       [-0.23160584],\n",
       "       [-1.27817418],\n",
       "       [-1.42958889],\n",
       "       [ 1.25449689],\n",
       "       [ 0.02221518],\n",
       "       [-0.24310225]])"
      ]
     },
     "execution_count": 25,
     "metadata": {},
     "output_type": "execute_result"
    }
   ],
   "source": [
    "pca.transform(X)"
   ]
  },
  {
   "cell_type": "code",
   "execution_count": null,
   "id": "a971f527",
   "metadata": {},
   "outputs": [],
   "source": []
  }
 ],
 "metadata": {
  "kernelspec": {
   "display_name": "Python 3",
   "language": "python",
   "name": "python3"
  },
  "language_info": {
   "codemirror_mode": {
    "name": "ipython",
    "version": 3
   },
   "file_extension": ".py",
   "mimetype": "text/x-python",
   "name": "python",
   "nbconvert_exporter": "python",
   "pygments_lexer": "ipython3",
   "version": "3.8.8"
  }
 },
 "nbformat": 4,
 "nbformat_minor": 5
}
