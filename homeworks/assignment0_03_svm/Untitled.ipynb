{
 "cells": [
  {
   "cell_type": "code",
   "execution_count": 1,
   "id": "4aef1de3",
   "metadata": {},
   "outputs": [],
   "source": [
    "import numpy as np"
   ]
  },
  {
   "cell_type": "code",
   "execution_count": 8,
   "id": "994f90c0",
   "metadata": {},
   "outputs": [],
   "source": [
    "def smth(X, Y):\n",
    "    return X*Y"
   ]
  },
  {
   "cell_type": "code",
   "execution_count": 11,
   "id": "2f4b41db",
   "metadata": {},
   "outputs": [
    {
     "data": {
      "text/plain": [
       "array([[12, 35]])"
      ]
     },
     "execution_count": 11,
     "metadata": {},
     "output_type": "execute_result"
    }
   ],
   "source": [
    "smth(np.array([[2, 5]]), np.array([[6, 7]]))"
   ]
  },
  {
   "cell_type": "code",
   "execution_count": 21,
   "id": "9787119f",
   "metadata": {},
   "outputs": [],
   "source": [
    "x_1 = np.random.rand(20, 5)"
   ]
  },
  {
   "cell_type": "code",
   "execution_count": 22,
   "id": "bee43916",
   "metadata": {},
   "outputs": [],
   "source": [
    "x_2 =  np.random.rand(20, 5)"
   ]
  },
  {
   "cell_type": "code",
   "execution_count": 18,
   "id": "3ef50f9f",
   "metadata": {},
   "outputs": [
    {
     "data": {
      "text/plain": [
       "array([0.32539734, 0.48082109, 0.32080475, 0.1607505 , 0.71290219,\n",
       "       0.23895277, 0.54155626, 0.38583172, 0.38529246, 0.75242568,\n",
       "       0.2568131 , 0.8515425 , 0.65110962, 0.78759099, 0.25369535,\n",
       "       0.63474512, 0.28155884, 0.29295141, 0.31022365, 0.78014143])"
      ]
     },
     "execution_count": 18,
     "metadata": {},
     "output_type": "execute_result"
    }
   ],
   "source": [
    "np.exp(-1 * np.linalg.norm(x-y, axis=1)**2)"
   ]
  },
  {
   "cell_type": "code",
   "execution_count": 24,
   "id": "844e819e",
   "metadata": {},
   "outputs": [
    {
     "data": {
      "text/plain": [
       "(20, 20)"
      ]
     },
     "execution_count": 24,
     "metadata": {},
     "output_type": "execute_result"
    }
   ],
   "source": [
    "((x_1**2).sum(axis=1) + (x_2**2).sum(axis=1) - 2 * x_1.dot(x_2.T)).shape"
   ]
  },
  {
   "cell_type": "code",
   "execution_count": 25,
   "id": "6af34188",
   "metadata": {},
   "outputs": [
    {
     "data": {
      "text/plain": [
       "array([[8.70403058e-01, 1.85681832e-05, 5.09809140e-01, 7.61813518e-02,\n",
       "        1.31118070e-02],\n",
       "       [6.31709109e-01, 6.02028238e-01, 7.82474929e-01, 7.31772111e-01,\n",
       "        4.54385507e-01],\n",
       "       [5.32770546e-01, 9.05749792e-01, 7.26987001e-01, 9.39416508e-01,\n",
       "        5.56700756e-01],\n",
       "       [4.56657232e-02, 2.41954465e-01, 1.95001063e-02, 1.40075917e-01,\n",
       "        7.65788912e-01],\n",
       "       [7.97348884e-01, 5.78285350e-01, 1.45975035e-01, 1.23365131e-01,\n",
       "        1.50341038e-01],\n",
       "       [3.58377774e-01, 7.01282100e-01, 8.63580404e-01, 4.61263022e-01,\n",
       "        8.42640657e-01],\n",
       "       [6.71052419e-02, 3.88651822e-01, 5.81048951e-01, 3.55591872e-01,\n",
       "        4.18141452e-03],\n",
       "       [2.79993726e-02, 2.86150298e-02, 1.18406406e-01, 6.42350290e-01,\n",
       "        6.08918553e-01],\n",
       "       [7.29042896e-02, 3.32757348e-01, 8.44860095e-01, 6.67267738e-01,\n",
       "        7.30395886e-02],\n",
       "       [1.75714058e-01, 4.26196249e-01, 9.92899135e-01, 3.93182282e-01,\n",
       "        4.60374342e-01],\n",
       "       [4.23929661e-01, 8.74204415e-01, 9.20662454e-02, 6.32913999e-01,\n",
       "        6.76652946e-01],\n",
       "       [4.75556263e-01, 9.90478479e-01, 3.78554649e-01, 5.98974220e-01,\n",
       "        1.33290986e-02],\n",
       "       [7.37527368e-01, 8.79061582e-01, 6.05750587e-01, 9.70262120e-01,\n",
       "        5.01900004e-01],\n",
       "       [8.82279785e-01, 2.89392506e-02, 8.16154686e-02, 6.80664635e-01,\n",
       "        2.28336232e-01],\n",
       "       [6.06856073e-03, 8.76811849e-01, 3.41852013e-02, 7.54320379e-01,\n",
       "        9.36181446e-01],\n",
       "       [4.47786707e-01, 9.22829641e-02, 5.54907144e-01, 2.56180010e-02,\n",
       "        9.03163882e-01],\n",
       "       [3.61827234e-01, 7.42696953e-01, 1.92947633e-01, 5.23247192e-01,\n",
       "        6.89465594e-01],\n",
       "       [9.40594641e-03, 3.96716100e-02, 3.06454947e-01, 4.75377502e-01,\n",
       "        1.69217569e-01],\n",
       "       [1.75595253e-02, 7.13474536e-01, 9.76484351e-01, 4.82075394e-01,\n",
       "        7.56405222e-01],\n",
       "       [9.63059022e-01, 1.03390503e-02, 5.65387113e-01, 1.82139875e-01,\n",
       "        8.10735224e-02]])"
      ]
     },
     "execution_count": 25,
     "metadata": {},
     "output_type": "execute_result"
    }
   ],
   "source": [
    "x_1"
   ]
  },
  {
   "cell_type": "code",
   "execution_count": null,
   "id": "4fc7eff3",
   "metadata": {},
   "outputs": [],
   "source": []
  }
 ],
 "metadata": {
  "kernelspec": {
   "display_name": "Python 3",
   "language": "python",
   "name": "python3"
  },
  "language_info": {
   "codemirror_mode": {
    "name": "ipython",
    "version": 3
   },
   "file_extension": ".py",
   "mimetype": "text/x-python",
   "name": "python",
   "nbconvert_exporter": "python",
   "pygments_lexer": "ipython3",
   "version": "3.8.8"
  }
 },
 "nbformat": 4,
 "nbformat_minor": 5
}
