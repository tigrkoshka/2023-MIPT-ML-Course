{
 "cells": [
  {
   "cell_type": "markdown",
   "metadata": {
    "cellId": "o0c9p7t598vjawoy4iqmk"
   },
   "source": [
    "## Lab assignment 02"
   ]
  },
  {
   "cell_type": "markdown",
   "metadata": {
    "cellId": "t5a5c4u070hzssivog3bu",
    "execution_id": "88512df4-2bd6-4a88-9570-bdc4200e3811"
   },
   "source": [
    "### Neural Machine Translation in the wild\n",
    "In the third homework you are supposed to get the best translation you can for the EN-RU translation task.\n",
    "\n",
    "Basic approach using RNNs as encoder and decoder is implemented for you. \n",
    "\n",
    "Your ultimate task is to use the techniques we've covered, e.g.\n",
    "\n",
    "* Optimization enhancements (e.g. learning rate decay)\n",
    "\n",
    "* Transformer/CNN/<whatever you select> encoder (with or without positional encoding)\n",
    "\n",
    "* attention/self-attention mechanism\n",
    "\n",
    "* pretraining the language models (for decoder and encoder)\n",
    "\n",
    "* or just fine-tuning BART/ELECTRA/... ;)\n",
    "\n",
    "to improve the translation quality. \n",
    "\n",
    "__Please use at least three different approaches/models and compare them (translation quality/complexity/training and evaluation time).__\n",
    "\n",
    "Write down some summary on your experiments and illustrate it with convergence plots/metrics and your thoughts. Just like you would approach a real problem."
   ]
  },
  {
   "cell_type": "code",
   "execution_count": 1,
   "metadata": {
    "cellId": "rvfs9myybhn9nkf34zybc"
   },
   "outputs": [],
   "source": [
    "# You might need to install the libraries below. Do it in the desired environment\n",
    "# if you are working locally.\n",
    "\n",
    "# %pip install subword-nmt\n",
    "# %pip install nltk\n",
    "# %pip install torchtext"
   ]
  },
  {
   "cell_type": "code",
   "execution_count": 2,
   "metadata": {
    "ExecuteTime": {
     "end_time": "2023-05-21T18:05:24.949436Z",
     "start_time": "2023-05-21T18:05:17.027960Z"
    },
    "cellId": "cjafyaiirxkofm6cgpdr3j"
   },
   "outputs": [],
   "source": [
    "# Thanks to YSDA NLP course team for the data\n",
    "# (who thanks tilda and deephack teams for the data in their turn)\n",
    "\n",
    "import os\n",
    "\n",
    "path_do_data = '../../datasets/Machine_translation_EN_RU/data.txt'\n",
    "if not os.path.exists(path_do_data):\n",
    "    path_do_data = './data.txt'\n",
    "    if not os.path.exists(path_do_data):\n",
    "        print(\"Dataset not found locally. Downloading from github.\")\n",
    "        !wget https://raw.githubusercontent.com/neychev/made_nlp_course/master/datasets/Machine_translation_EN_RU/data.txt -nc"
   ]
  },
  {
   "cell_type": "markdown",
   "metadata": {
    "cellId": "n49fkoqvucpi3d833xvcv",
    "execution_id": "a41cb57e-37b4-4060-832c-f638a6782a19"
   },
   "source": [
    "Baseline solution BLEU score is quite low. Try to achieve at least __21__ BLEU on the test set. \n",
    "The checkpoints are:\n",
    "\n",
    "* __21__ - minimal score to submit the homework, 30% of points\n",
    "\n",
    "* __25__ - good score, 70% of points\n",
    "\n",
    "* __27__ - excellent score, 100% of points"
   ]
  },
  {
   "cell_type": "markdown",
   "metadata": {
    "cellId": "ootua6c3etzoilrz4dkuf",
    "execution_id": "36e5b9ae-006c-4b7d-8e7e-71b8361ea8f2"
   },
   "source": [
    "### Warning! The code below is deeeeeeeply deprecated and is provided only as simple guide.\n",
    "We suggest you to stick to most recent pipelines here, e.g. by Huggingface: \n",
    "* Example notebook: [link](https://github.com/huggingface/notebooks/blob/main/examples/translation.ipynb)\n",
    "* Converting your own dataset to specific format: [link](https://discuss.huggingface.co/t/correct-way-to-create-a-dataset-from-a-csv-file/15686/15)"
   ]
  },
  {
   "cell_type": "code",
   "execution_count": 3,
   "metadata": {
    "cellId": "t5lgeromyfs07ct84ysbq0k"
   },
   "outputs": [],
   "source": [
    "# old deprecated code\n",
    "import torch\n",
    "import torch.nn as nn\n",
    "import torch.optim as optim\n",
    "from torch.optim.lr_scheduler import StepLR, ReduceLROnPlateau\n",
    "\n",
    "import torchtext\n",
    "from torchtext.data import Field, BucketIterator\n",
    "\n",
    "import math\n",
    "import time\n",
    "\n",
    "import matplotlib\n",
    "\n",
    "matplotlib.rcParams.update({'figure.figsize': (16, 12), 'font.size': 14})\n",
    "import matplotlib.pyplot as plt\n",
    "%matplotlib inline\n",
    "from IPython.display import clear_output\n",
    "\n",
    "from nltk.tokenize import WordPunctTokenizer"
   ]
  },
  {
   "cell_type": "code",
   "execution_count": 52,
   "metadata": {
    "cellId": "2zq0udhohy8wadnea4jap",
    "collapsed": false,
    "jupyter": {
     "outputs_hidden": false
    }
   },
   "outputs": [],
   "source": [
    "results = {\n",
    "    \"seq2seq\": {\n",
    "        \"bleu\": 0,\n",
    "        \"n_params\": 0,\n",
    "        \"train_time\": 0\n",
    "    },\n",
    "    \"attention\": {\n",
    "        \"bleu\": 0,\n",
    "        \"n_params\": 0,\n",
    "        \"train_time\": 0\n",
    "    },\n",
    "    \"transformer\": {\n",
    "        \"bleu\": 0,\n",
    "        \"n_params\": 0,\n",
    "        \"train_time\": 0\n",
    "    }\n",
    "}"
   ]
  },
  {
   "cell_type": "markdown",
   "metadata": {
    "cellId": "2l584g52rpkfzskcams1w6",
    "execution_id": "d1595630-783f-4afe-92ae-466aa3d135a3"
   },
   "source": [
    "### Main part\n",
    "__Here comes the preprocessing. Do not hesitate to use BPE or more complex preprocessing ;)__"
   ]
  },
  {
   "cell_type": "code",
   "execution_count": 5,
   "metadata": {
    "cellId": "8skc00r1mziy9os76b2sft"
   },
   "outputs": [],
   "source": [
    "tokenizer_W = WordPunctTokenizer()\n",
    "\n",
    "\n",
    "def tokenize(x, tokenizer=tokenizer_W):\n",
    "    return tokenizer.tokenize(x.lower())"
   ]
  },
  {
   "cell_type": "code",
   "execution_count": 6,
   "metadata": {
    "cellId": "hetkqntj0aq3nfkiyasryr"
   },
   "outputs": [],
   "source": [
    "SRC = Field(tokenize=tokenize,\n",
    "            init_token='<sos>',\n",
    "            eos_token='<eos>',\n",
    "            lower=True)\n",
    "\n",
    "TRG = Field(tokenize=tokenize,\n",
    "            init_token='<sos>',\n",
    "            eos_token='<eos>',\n",
    "            lower=True)\n",
    "\n",
    "dataset = torchtext.data.TabularDataset(\n",
    "    path=path_do_data,\n",
    "    format='tsv',\n",
    "    fields=[('trg', TRG), ('src', SRC)]\n",
    ")"
   ]
  },
  {
   "cell_type": "code",
   "execution_count": 7,
   "metadata": {
    "cellId": "tl4khcb9h9s0bjafis40o2"
   },
   "outputs": [],
   "source": [
    "train_data, valid_data, test_data = dataset.split(split_ratio=[0.8, 0.15, 0.05])"
   ]
  },
  {
   "cell_type": "code",
   "execution_count": 8,
   "metadata": {
    "cellId": "gtmsyte0su9sulzt6e40ia"
   },
   "outputs": [
    {
     "name": "stdout",
     "output_type": "stream",
     "text": [
      "Number of training examples: 40000\n",
      "Number of validation examples: 2500\n",
      "Number of testing examples: 7500\n"
     ]
    }
   ],
   "source": [
    "print(f\"Number of training examples: {len(train_data.examples)}\")\n",
    "print(f\"Number of validation examples: {len(valid_data.examples)}\")\n",
    "print(f\"Number of testing examples: {len(test_data.examples)}\")"
   ]
  },
  {
   "cell_type": "code",
   "execution_count": 9,
   "metadata": {
    "cellId": "2hdoumo4t5ocb6683wro7"
   },
   "outputs": [],
   "source": [
    "SRC.build_vocab(train_data, min_freq=3)\n",
    "TRG.build_vocab(train_data, min_freq=3)"
   ]
  },
  {
   "cell_type": "code",
   "execution_count": 10,
   "metadata": {
    "cellId": "9qdzam7d1fnr8jf6mujhqo"
   },
   "outputs": [
    {
     "name": "stdout",
     "output_type": "stream",
     "text": [
      "Unique tokens in source (ru) vocabulary: 9262\n",
      "Unique tokens in target (en) vocabulary: 6727\n"
     ]
    }
   ],
   "source": [
    "print(f\"Unique tokens in source (ru) vocabulary: {len(SRC.vocab)}\")\n",
    "print(f\"Unique tokens in target (en) vocabulary: {len(TRG.vocab)}\")"
   ]
  },
  {
   "cell_type": "markdown",
   "metadata": {
    "cellId": "vijm7mv0j7cv2e8yi1qs5",
    "execution_id": "154f8086-d490-46a0-a722-80d0d28e711f"
   },
   "source": [
    "Here are tokens from original (RU) corpus:"
   ]
  },
  {
   "cell_type": "code",
   "execution_count": 11,
   "metadata": {
    "cellId": "tdrydv1blaemldwz7zfwx"
   },
   "outputs": [
    {
     "data": {
      "text/plain": [
       "['<unk>',\n",
       " 'конференций',\n",
       " 'фермерского',\n",
       " 'компьютерами',\n",
       " 'hacienda',\n",
       " 'domus',\n",
       " 'rathaus',\n",
       " 'цветы',\n",
       " 'ежедневных',\n",
       " 'татр']"
      ]
     },
     "execution_count": 11,
     "metadata": {},
     "output_type": "execute_result"
    }
   ],
   "source": [
    "SRC.vocab.itos[::1000]"
   ]
  },
  {
   "cell_type": "markdown",
   "metadata": {
    "cellId": "2hginsvsmjx79utzodu0gf",
    "execution_id": "48bb1c4e-174c-4f7f-9061-0cea42ffc477"
   },
   "source": [
    "And from target (EN) corpus:"
   ]
  },
  {
   "cell_type": "code",
   "execution_count": 12,
   "metadata": {
    "cellId": "ncq91u7v5le9wt93csil25"
   },
   "outputs": [
    {
     "data": {
      "text/plain": [
       "['<unk>', 'tranquil', 'dance', 'converted', 'nerja', 'shangri', 'mahdia']"
      ]
     },
     "execution_count": 12,
     "metadata": {},
     "output_type": "execute_result"
    }
   ],
   "source": [
    "TRG.vocab.itos[::1000]"
   ]
  },
  {
   "cell_type": "markdown",
   "metadata": {
    "cellId": "f2fuh4b48ags0pgcjjint9",
    "execution_id": "508c348f-7ce5-4814-8844-52a888626da3"
   },
   "source": [
    "And here is example from train dataset:"
   ]
  },
  {
   "cell_type": "code",
   "execution_count": 13,
   "metadata": {
    "cellId": "zapj7ecue4oo21no0cdln"
   },
   "outputs": [
    {
     "name": "stdout",
     "output_type": "stream",
     "text": [
      "{'trg': ['popular', 'meals', 'from', 'the', 'hungarian', 'cuisine', 'can', 'be', 'tasted', 'at', 'the', 'restaurant', '.'], 'src': ['популярные', 'блюда', 'венгерской', 'кухни', 'можно', 'отведать', 'в', 'ресторане', '.']}\n"
     ]
    }
   ],
   "source": [
    "print(vars(train_data.examples[9]))"
   ]
  },
  {
   "cell_type": "markdown",
   "metadata": {
    "cellId": "opug56zx4zb1c0l5zblr72",
    "execution_id": "e1f29d63-a022-4d17-9733-7830731e385d"
   },
   "source": [
    "Let's check the length distributions:"
   ]
  },
  {
   "cell_type": "code",
   "execution_count": 14,
   "metadata": {
    "cellId": "fvn311k0rekeew84c055"
   },
   "outputs": [
    {
     "name": "stdout",
     "output_type": "stream",
     "text": [
      "Length distribution in Train data\n"
     ]
    },
    {
     "data": {
      "text/plain": [
       "(array([4.9100e+02, 8.6200e+03, 1.1094e+04, 8.8280e+03, 5.5640e+03,\n",
       "        2.8280e+03, 1.4120e+03, 6.9200e+02, 2.6100e+02, 1.0000e+02,\n",
       "        6.7000e+01, 2.5000e+01, 9.0000e+00, 4.0000e+00, 1.0000e+00,\n",
       "        0.0000e+00, 1.0000e+00, 1.0000e+00, 1.0000e+00, 1.0000e+00]),\n",
       " array([ 1. ,  5.9, 10.8, 15.7, 20.6, 25.5, 30.4, 35.3, 40.2, 45.1, 50. ,\n",
       "        54.9, 59.8, 64.7, 69.6, 74.5, 79.4, 84.3, 89.2, 94.1, 99. ]),\n",
       " <a list of 20 Patch objects>)"
      ]
     },
     "execution_count": 14,
     "metadata": {},
     "output_type": "execute_result"
    },
    {
     "data": {
      "image/png": "[encoded data removed]",
      "text/plain": [
       "<Figure size 576x288 with 2 Axes>"
      ]
     },
     "metadata": {
      "needs_background": "light"
     },
     "output_type": "display_data"
    }
   ],
   "source": [
    "src_length = map(len, [vars(x)['src'] for x in train_data.examples])\n",
    "trg_length = map(len, [vars(x)['trg'] for x in train_data.examples])\n",
    "\n",
    "print('Length distribution in Train data')\n",
    "plt.figure(figsize=[8, 4])\n",
    "plt.subplot(1, 2, 1)\n",
    "plt.title(\"source length\")\n",
    "plt.hist(list(src_length), bins=20)\n",
    "\n",
    "plt.subplot(1, 2, 2)\n",
    "plt.title(\"translation length\")\n",
    "plt.hist(list(trg_length), bins=20)"
   ]
  },
  {
   "cell_type": "code",
   "execution_count": 15,
   "metadata": {
    "cellId": "d3xzc3dnipwnq8t21elut"
   },
   "outputs": [
    {
     "name": "stdout",
     "output_type": "stream",
     "text": [
      "Length distribution in Test data\n"
     ]
    },
    {
     "data": {
      "text/plain": [
       "(array([4.730e+02, 1.239e+03, 1.733e+03, 1.099e+03, 1.163e+03, 6.080e+02,\n",
       "        5.500e+02, 2.370e+02, 1.890e+02, 7.800e+01, 4.700e+01, 3.400e+01,\n",
       "        2.100e+01, 1.200e+01, 7.000e+00, 5.000e+00, 2.000e+00, 2.000e+00,\n",
       "        0.000e+00, 1.000e+00]),\n",
       " array([ 4.  ,  7.45, 10.9 , 14.35, 17.8 , 21.25, 24.7 , 28.15, 31.6 ,\n",
       "        35.05, 38.5 , 41.95, 45.4 , 48.85, 52.3 , 55.75, 59.2 , 62.65,\n",
       "        66.1 , 69.55, 73.  ]),\n",
       " <a list of 20 Patch objects>)"
      ]
     },
     "execution_count": 15,
     "metadata": {},
     "output_type": "execute_result"
    },
    {
     "data": {
      "image/png": "[encoded data removed]",
      "text/plain": [
       "<Figure size 576x288 with 2 Axes>"
      ]
     },
     "metadata": {
      "needs_background": "light"
     },
     "output_type": "display_data"
    }
   ],
   "source": [
    "src_length = map(len, [vars(x)['src'] for x in test_data.examples])\n",
    "trg_length = map(len, [vars(x)['trg'] for x in test_data.examples])\n",
    "\n",
    "print('Length distribution in Test data')\n",
    "plt.figure(figsize=[8, 4])\n",
    "plt.subplot(1, 2, 1)\n",
    "plt.title(\"source length\")\n",
    "plt.hist(list(src_length), bins=20)\n",
    "\n",
    "plt.subplot(1, 2, 2)\n",
    "plt.title(\"translation length\")\n",
    "plt.hist(list(trg_length), bins=20)"
   ]
  },
  {
   "cell_type": "markdown",
   "metadata": {
    "cellId": "gly88ddf0nrwetmoymmd6",
    "execution_id": "0e0d5c97-b7cc-4bac-a85e-bd0aa68945e8"
   },
   "source": [
    "### Model side\n",
    "__Here comes simple pipeline of NMT model learning. It almost copies the week03 practice__"
   ]
  },
  {
   "cell_type": "code",
   "execution_count": 16,
   "metadata": {
    "cellId": "rot6mlqdbd16n83s9qwna"
   },
   "outputs": [],
   "source": [
    "device = torch.device('cuda' if torch.cuda.is_available() else 'cpu')"
   ]
  },
  {
   "cell_type": "code",
   "execution_count": 17,
   "metadata": {
    "cellId": "09y67bmmv8dgtic17cte2q8"
   },
   "outputs": [
    {
     "data": {
      "text/plain": [
       "device(type='cuda')"
      ]
     },
     "execution_count": 17,
     "metadata": {},
     "output_type": "execute_result"
    }
   ],
   "source": [
    "device"
   ]
  },
  {
   "cell_type": "code",
   "execution_count": 18,
   "metadata": {
    "cellId": "uikjtaspifquzsm85njp8"
   },
   "outputs": [],
   "source": [
    "def _len_sort_key(x):\n",
    "    return len(x.src)\n",
    "\n",
    "\n",
    "BATCH_SIZE = 128\n",
    "\n",
    "train_iterator, valid_iterator, test_iterator = BucketIterator.splits(\n",
    "    (train_data, valid_data, test_data),\n",
    "    batch_size=BATCH_SIZE,\n",
    "    device=device,\n",
    "    sort_key=_len_sort_key\n",
    ")"
   ]
  },
  {
   "cell_type": "code",
   "execution_count": 19,
   "metadata": {
    "cellId": "bm359j4pkjn0jhsbohgy3ts"
   },
   "outputs": [
    {
     "name": "stdout",
     "output_type": "stream",
     "text": [
      "\n",
      "[torchtext.data.batch.Batch of size 128]\n",
      "\t[.trg]:[torch.cuda.LongTensor of size 57x128 (GPU 0)]\n",
      "\t[.src]:[torch.cuda.LongTensor of size 43x128 (GPU 0)]\n",
      "torch.Size([43, 128]) torch.Size([57, 128])\n"
     ]
    }
   ],
   "source": [
    "for x in train_iterator:\n",
    "    print(x)\n",
    "    print(x.src.shape, x.trg.shape)\n",
    "    break"
   ]
  },
  {
   "cell_type": "code",
   "execution_count": 20,
   "metadata": {
    "cellId": "oqlda2cjtpg44dulgnqaj"
   },
   "outputs": [],
   "source": [
    "import my_network\n",
    "\n",
    "Encoder = my_network.Encoder\n",
    "Decoder = my_network.Decoder\n",
    "Seq2Seq = my_network.Seq2Seq"
   ]
  },
  {
   "cell_type": "code",
   "execution_count": 21,
   "metadata": {
    "cellId": "4eppuf8dprp2slkh7webuf"
   },
   "outputs": [],
   "source": [
    "INPUT_DIM = len(SRC.vocab)\n",
    "OUTPUT_DIM = len(TRG.vocab)\n",
    "ENC_EMB_DIM = 256\n",
    "DEC_EMB_DIM = 256\n",
    "HID_DIM = 512\n",
    "N_LAYERS = 2\n",
    "ENC_DROPOUT = 0.5\n",
    "DEC_DROPOUT = 0.5\n",
    "\n",
    "enc = Encoder(INPUT_DIM, ENC_EMB_DIM, HID_DIM, N_LAYERS, ENC_DROPOUT)\n",
    "dec = Decoder(OUTPUT_DIM, DEC_EMB_DIM, HID_DIM, N_LAYERS, DEC_DROPOUT)\n",
    "model = Seq2Seq(enc, dec, device).to(device)"
   ]
  },
  {
   "cell_type": "code",
   "execution_count": 22,
   "metadata": {
    "cellId": "on1o5dj6jhbcyqk8rsxbep"
   },
   "outputs": [
    {
     "data": {
      "text/plain": [
       "Seq2Seq(\n",
       "  (encoder): Encoder(\n",
       "    (embedding): Embedding(9262, 256)\n",
       "    (rnn): LSTM(256, 512, num_layers=2, dropout=0.5)\n",
       "    (dropout): Dropout(p=0.5, inplace=False)\n",
       "  )\n",
       "  (decoder): Decoder(\n",
       "    (embedding): Embedding(6727, 256)\n",
       "    (rnn): LSTM(256, 512, num_layers=2, dropout=0.5)\n",
       "    (out): Linear(in_features=512, out_features=6727, bias=True)\n",
       "    (dropout): Dropout(p=0.5, inplace=False)\n",
       "  )\n",
       ")"
      ]
     },
     "execution_count": 22,
     "metadata": {},
     "output_type": "execute_result"
    }
   ],
   "source": [
    "def init_weights(m):\n",
    "    for name, param in m.named_parameters():\n",
    "        nn.init.uniform_(param, -0.08, 0.08)\n",
    "\n",
    "\n",
    "model.apply(init_weights)"
   ]
  },
  {
   "cell_type": "code",
   "execution_count": 25,
   "metadata": {
    "cellId": "3a6623frwrmxgr89orhc8"
   },
   "outputs": [
    {
     "name": "stdout",
     "output_type": "stream",
     "text": [
      "The model has 14,900,551 trainable parameters\n"
     ]
    }
   ],
   "source": [
    "def count_parameters(m):\n",
    "    return sum(p.numel() for p in m.parameters() if p.requires_grad)\n",
    "\n",
    "results[\"seq2seq\"][\"n_params\"] = count_parameters(model)\n",
    "print(f'The model has {results[\"seq2seq\"][\"n_params\"]:,} trainable parameters')"
   ]
  },
  {
   "cell_type": "code",
   "execution_count": 26,
   "metadata": {
    "cellId": "v66g8ek47bs2ywunetwc8"
   },
   "outputs": [],
   "source": [
    "PAD_IDX = TRG.vocab.stoi['<pad>']\n",
    "SOS_IDX = TRG.vocab.stoi['<sos>']\n",
    "optimizer = optim.Adam(model.parameters())\n",
    "criterion = nn.CrossEntropyLoss(ignore_index=PAD_IDX)\n",
    "lr_scheduler = StepLR(optimizer=optimizer, step_size=3, gamma=0.5)"
   ]
  },
  {
   "cell_type": "code",
   "execution_count": 27,
   "metadata": {
    "cellId": "ocd4wlua1oanbie30nl4p"
   },
   "outputs": [],
   "source": [
    "def train(m, iterator, opt, crit, clip, train_history=None, valid_history=None):\n",
    "    m.train()\n",
    "\n",
    "    epoch_loss = 0\n",
    "    history = []\n",
    "    for i, b in enumerate(iterator):\n",
    "        source = b.src\n",
    "        target = b.trg\n",
    "\n",
    "        opt.zero_grad()\n",
    "\n",
    "        output = m(source, target)\n",
    "\n",
    "        # target = [target sent len, batch size]\n",
    "        # output = [target sent len, batch size, output dim]\n",
    "\n",
    "        output = output[1:].view(-1, output.shape[-1])\n",
    "        target = target[1:].view(-1)\n",
    "\n",
    "        # target = [(target sent len - 1) * batch size]\n",
    "        # output = [(target sent len - 1) * batch size, output dim]\n",
    "\n",
    "        loss = crit(output, target)\n",
    "\n",
    "        loss.backward()\n",
    "\n",
    "        # Let's clip the gradient\n",
    "        torch.nn.utils.clip_grad_norm_(m.parameters(), clip)\n",
    "\n",
    "        opt.step()\n",
    "\n",
    "        epoch_loss += loss.item()\n",
    "\n",
    "        history.append(loss.cpu().data.numpy())\n",
    "        if (i + 1) % 10 == 0:\n",
    "            fig, ax = plt.subplots(nrows=1, ncols=2, figsize=(12, 8))\n",
    "\n",
    "            clear_output(True)\n",
    "            ax[0].plot(history, label='train loss')\n",
    "            ax[0].set_xlabel('Batch')\n",
    "            ax[0].set_title('Train loss')\n",
    "            if train_history is not None:\n",
    "                ax[1].plot(train_history, label='general train history')\n",
    "                ax[1].set_xlabel('Epoch')\n",
    "            if valid_history is not None:\n",
    "                ax[1].plot(valid_history, label='general valid history')\n",
    "            plt.legend()\n",
    "\n",
    "            plt.show()\n",
    "\n",
    "    return epoch_loss / len(iterator)"
   ]
  },
  {
   "cell_type": "code",
   "execution_count": 28,
   "metadata": {
    "cellId": "51n4busah5lot9pgrd2c7o"
   },
   "outputs": [],
   "source": [
    "def evaluate(m, iterator, crit):\n",
    "    m.eval()\n",
    "    epoch_loss = 0\n",
    "\n",
    "    with torch.no_grad():\n",
    "        for i, b in enumerate(iterator):\n",
    "            source = b.src\n",
    "            target = b.trg\n",
    "\n",
    "            output = m(source, target, 0)  #turn off teacher forcing\n",
    "\n",
    "            # target = [target sent len, batch size]\n",
    "            # output = [target sent len, batch size, output dim]\n",
    "\n",
    "            output = output[1:].view(-1, output.shape[-1])\n",
    "            target = target[1:].view(-1)\n",
    "\n",
    "            # target = [(target sent len - 1) * batch size]\n",
    "            # output = [(target sent len - 1) * batch size, output dim]\n",
    "\n",
    "            loss = crit(output, target)\n",
    "            epoch_loss += loss.item()\n",
    "\n",
    "    return epoch_loss / len(iterator)"
   ]
  },
  {
   "cell_type": "code",
   "execution_count": 29,
   "metadata": {
    "cellId": "qdc1lv3fx38bfc6sb7t4of"
   },
   "outputs": [],
   "source": [
    "def epoch_time(start_time, end_time):\n",
    "    elapsed_time = end_time - start_time\n",
    "    elapsed_mins = int(elapsed_time / 60)\n",
    "    elapsed_secs = int(elapsed_time - (elapsed_mins * 60))\n",
    "    return elapsed_mins, elapsed_secs"
   ]
  },
  {
   "cell_type": "code",
   "execution_count": 30,
   "metadata": {
    "cellId": "5157n7dhs5m92o9rtiwcn8",
    "collapsed": false,
    "jupyter": {
     "outputs_hidden": false
    }
   },
   "outputs": [],
   "source": [
    "def train_model(m,\n",
    "                train_iter,\n",
    "                valid_iter,\n",
    "                opt,\n",
    "                crit,\n",
    "                lr_sch,\n",
    "                n_epochs=10,\n",
    "                clip=1,\n",
    "                model_name='model'):\n",
    "    train_history = []\n",
    "    valid_history = []\n",
    "\n",
    "    best_valid_loss = float('inf')\n",
    "\n",
    "    main_start = time.time()\n",
    "\n",
    "    for epoch in range(n_epochs):\n",
    "        start_time = time.time()\n",
    "\n",
    "        train_loss = train(m, train_iter, opt, crit, clip, train_history, valid_history)\n",
    "        valid_loss = evaluate(m, valid_iter, crit)\n",
    "\n",
    "        lr_sch.step(valid_loss)\n",
    "\n",
    "        end_time = time.time()\n",
    "\n",
    "        epoch_mins, epoch_secs = epoch_time(start_time, end_time)\n",
    "\n",
    "        if valid_loss < best_valid_loss:\n",
    "            best_valid_loss = valid_loss\n",
    "            torch.save(m.state_dict(), f\"{model_name}.pth\")\n",
    "\n",
    "        train_history.append(train_loss)\n",
    "        valid_history.append(valid_loss)\n",
    "        print(f'Epoch: {epoch + 1:02} | Time: {epoch_mins}m {epoch_secs}s')\n",
    "        print(f'\\tTrain Loss: {train_loss:.3f} | Train PPL: {math.exp(train_loss):7.3f}')\n",
    "        print(f'\\t Val. Loss: {valid_loss:.3f} |  Val. PPL: {math.exp(valid_loss):7.3f}')\n",
    "\n",
    "    main_end = time.time()\n",
    "    results[model_name][\"train_time\"] = main_end - main_start"
   ]
  },
  {
   "cell_type": "code",
   "execution_count": 31,
   "metadata": {
    "cellId": "evntgt7qahpngbev4kzl4"
   },
   "outputs": [
    {
     "data": {
      "image/png": "[encoded data removed]",
      "text/plain": [
       "<Figure size 864x576 with 2 Axes>"
      ]
     },
     "metadata": {
      "needs_background": "light"
     },
     "output_type": "display_data"
    },
    {
     "name": "stderr",
     "output_type": "stream",
     "text": [
      "/home/jupyter/.local/lib/python3.8/site-packages/torch/optim/lr_scheduler.py:152: UserWarning: The epoch parameter in `scheduler.step()` was not necessary and is being deprecated where possible. Please use `scheduler.step()` to step the scheduler. During the deprecation, if epoch is different from None, the closed form is used instead of the new chainable form, where available. Please open an issue if you are unable to replicate your use case: https://github.com/pytorch/pytorch/issues/new/choose.\n",
      "  warnings.warn(EPOCH_DEPRECATION_WARNING, UserWarning)\n"
     ]
    },
    {
     "name": "stdout",
     "output_type": "stream",
     "text": [
      "Epoch: 10 | Time: 1m 2s\n",
      "\tTrain Loss: 3.139 | Train PPL:  23.071\n",
      "\t Val. Loss: 4.805 |  Val. PPL: 122.163\n"
     ]
    }
   ],
   "source": [
    "train_model(model,\n",
    "            train_iterator,\n",
    "            valid_iterator,\n",
    "            optimizer,\n",
    "            criterion,\n",
    "            lr_scheduler,\n",
    "            model_name=\"seq2seq\")"
   ]
  },
  {
   "cell_type": "markdown",
   "metadata": {
    "cellId": "di2umn84bn77m8fzn0p4yu",
    "execution_id": "da835b5f-ca8f-446e-8dbf-6c9ba69e19be"
   },
   "source": [
    "__Let's take a look at our network quality__:"
   ]
  },
  {
   "cell_type": "code",
   "execution_count": 38,
   "metadata": {
    "cellId": "9s2s2k2i26kp099baszgk"
   },
   "outputs": [],
   "source": [
    "import utils\n",
    "import importlib\n",
    "\n",
    "importlib.reload(utils)\n",
    "generate_translation = utils.generate_translation\n",
    "remove_tech_tokens = utils.remove_tech_tokens\n",
    "get_text = utils.get_text\n",
    "flatten = utils.flatten"
   ]
  },
  {
   "cell_type": "code",
   "execution_count": 39,
   "metadata": {
    "cellId": "oz15uz3nwym1a27z6mlxww"
   },
   "outputs": [],
   "source": [
    "batch = next(iter(test_iterator))"
   ]
  },
  {
   "cell_type": "code",
   "execution_count": 40,
   "metadata": {
    "cellId": "mimrn60dgbcr9ct8k797f"
   },
   "outputs": [
    {
     "name": "stdout",
     "output_type": "stream",
     "text": [
      "Original: parking is free .\n",
      "Generated: free private parking .\n",
      "\n",
      "Original: guests can enjoy the on - site bar .\n",
      "Generated: divnomorskoye include a private .\n",
      "\n"
     ]
    }
   ],
   "source": [
    "for idx in [1, 2]:\n",
    "    src = batch.src[:, idx:idx + 1]\n",
    "    trg = batch.trg[:, idx:idx + 1]\n",
    "    generate_translation(src, trg, model, TRG.vocab)"
   ]
  },
  {
   "cell_type": "code",
   "execution_count": 41,
   "metadata": {
    "cellId": "gbq1frw2svsmh2f6z5ctg"
   },
   "outputs": [],
   "source": [
    "from nltk.translate.bleu_score import corpus_bleu\n",
    "\n",
    "#     \"\"\" Estimates corpora-level BLEU score of model's translations given inp and reference out \"\"\"\n",
    "#     translations, _ = model.translate_lines(inp_lines, **flags)\n",
    "#     # Note: if you experience out-of-memory error, split input lines into batches and translate separately\n",
    "#     return corpus_bleu([[ref] for ref in out_lines], translations) * 100"
   ]
  },
  {
   "cell_type": "code",
   "execution_count": 42,
   "metadata": {
    "cellId": "edv68ly2r1j9708p4xeuk"
   },
   "outputs": [],
   "source": [
    "import tqdm"
   ]
  },
  {
   "cell_type": "code",
   "execution_count": 43,
   "metadata": {
    "cellId": "249cipjvjv3n68fgazusht"
   },
   "outputs": [],
   "source": [
    "def generate_texts(m, test_iter):\n",
    "    original_text = []\n",
    "    generated_text = []\n",
    "    m.eval()\n",
    "    with torch.no_grad():\n",
    "        for i, b in tqdm.tqdm(enumerate(test_iter)):\n",
    "            source = b.src\n",
    "            target = b.trg\n",
    "\n",
    "            output = m(source, target, 0)  # turn off teacher forcing\n",
    "\n",
    "            # target = [target sent len, batch size]\n",
    "            # output = [target sent len, batch size, output dim]\n",
    "\n",
    "            output = output.argmax(dim=-1)\n",
    "\n",
    "            original_text.extend([get_text(x, TRG.vocab) for x in target.cpu().numpy().T])\n",
    "            generated_text.extend([get_text(x, TRG.vocab) for x in output[1:].detach().cpu().numpy().T])\n",
    "\n",
    "    return original_text, generated_text"
   ]
  },
  {
   "cell_type": "code",
   "execution_count": 44,
   "metadata": {
    "cellId": "sdhookdmnrafu9ot81bh8r",
    "collapsed": false,
    "jupyter": {
     "outputs_hidden": false
    }
   },
   "outputs": [
    {
     "name": "stderr",
     "output_type": "stream",
     "text": [
      "59it [00:03, 19.60it/s]\n"
     ]
    }
   ],
   "source": [
    "original_text_Seq2Seq, generated_text_Seq2Seq = generate_texts(model, test_iterator)"
   ]
  },
  {
   "cell_type": "code",
   "execution_count": 45,
   "metadata": {
    "cellId": "ci6lu8all3o2h9x5q92xee"
   },
   "outputs": [
    {
     "data": {
      "text/plain": [
       "12.713383845180276"
      ]
     },
     "execution_count": 45,
     "metadata": {},
     "output_type": "execute_result"
    }
   ],
   "source": [
    "results[\"seq2seq\"][\"bleu\"] = corpus_bleu([[text] for text in original_text_Seq2Seq], generated_text_Seq2Seq) * 100\n",
    "results[\"seq2seq\"][\"bleu\"]"
   ]
  },
  {
   "cell_type": "markdown",
   "metadata": {
    "cellId": "p1x4jcfha2kerw2nut9nk",
    "execution_id": "67bfa3ff-3a40-435b-9a3b-98f23fcea1b5"
   },
   "source": [
    "### Attention"
   ]
  },
  {
   "cell_type": "code",
   "execution_count": 46,
   "metadata": {
    "cellId": "qqsgsw3bki6u39gto1r2j",
    "collapsed": false,
    "jupyter": {
     "outputs_hidden": false
    }
   },
   "outputs": [],
   "source": [
    "Encoder = my_network.Encoder\n",
    "DecoderAttention = my_network.DecoderAttention\n",
    "Seq2SeqAttention = my_network.Seq2SeqAttention"
   ]
  },
  {
   "cell_type": "code",
   "execution_count": 47,
   "metadata": {
    "cellId": "izn9800jwqdtaj2lfqptvk",
    "collapsed": false,
    "jupyter": {
     "outputs_hidden": false
    }
   },
   "outputs": [],
   "source": [
    "INPUT_DIM = len(SRC.vocab)\n",
    "OUTPUT_DIM = len(TRG.vocab)\n",
    "ENC_EMB_DIM = 256\n",
    "DEC_EMB_DIM = 256\n",
    "HID_DIM = 512\n",
    "N_LAYERS = 2\n",
    "ENC_DROPOUT = 0.5\n",
    "DEC_DROPOUT = 0.5\n",
    "\n",
    "enc = Encoder(INPUT_DIM, ENC_EMB_DIM, HID_DIM, N_LAYERS, ENC_DROPOUT)\n",
    "dec_attention = DecoderAttention(OUTPUT_DIM, DEC_EMB_DIM, HID_DIM, N_LAYERS, DEC_DROPOUT)\n",
    "model_attention = Seq2SeqAttention(enc, dec_attention, device).to(device)"
   ]
  },
  {
   "cell_type": "code",
   "execution_count": 48,
   "metadata": {
    "cellId": "urovrmndnxn1wed7phd1m",
    "collapsed": false,
    "jupyter": {
     "outputs_hidden": false
    }
   },
   "outputs": [
    {
     "data": {
      "text/plain": [
       "Seq2SeqAttention(\n",
       "  (encoder): Encoder(\n",
       "    (embedding): Embedding(9262, 256)\n",
       "    (rnn): LSTM(256, 512, num_layers=2, dropout=0.5)\n",
       "    (dropout): Dropout(p=0.5, inplace=False)\n",
       "  )\n",
       "  (decoder): DecoderAttention(\n",
       "    (embedding): Embedding(6727, 256)\n",
       "    (rnn): LSTM(256, 512, num_layers=2, dropout=0.5)\n",
       "    (attention): Attention(\n",
       "      (linear_in): Linear(in_features=512, out_features=512, bias=False)\n",
       "      (linear_out): Linear(in_features=1024, out_features=512, bias=False)\n",
       "      (softmax): Softmax(dim=-1)\n",
       "      (tanh): Tanh()\n",
       "    )\n",
       "    (out): Linear(in_features=512, out_features=6727, bias=True)\n",
       "    (dropout): Dropout(p=0.5, inplace=False)\n",
       "  )\n",
       ")"
      ]
     },
     "execution_count": 48,
     "metadata": {},
     "output_type": "execute_result"
    }
   ],
   "source": [
    "model_attention.apply(init_weights)"
   ]
  },
  {
   "cell_type": "code",
   "execution_count": 54,
   "metadata": {
    "cellId": "5egl0ittxgefy3p58y5oh",
    "collapsed": false,
    "jupyter": {
     "outputs_hidden": false
    }
   },
   "outputs": [
    {
     "name": "stdout",
     "output_type": "stream",
     "text": [
      "The model has 15,686,983 trainable parameters\n"
     ]
    }
   ],
   "source": [
    "results[\"attention\"][\"n_params\"] = count_parameters(model_attention)\n",
    "print(f'The model has {results[\"attention\"][\"n_params\"]:,} trainable parameters')"
   ]
  },
  {
   "cell_type": "code",
   "execution_count": 55,
   "metadata": {
    "cellId": "cs29gl7u77hljlakk5ddx",
    "collapsed": false,
    "jupyter": {
     "outputs_hidden": false
    }
   },
   "outputs": [],
   "source": [
    "optimizer_attention = optim.AdamW(model_attention.parameters())\n",
    "criterion_attention = nn.CrossEntropyLoss(ignore_index=PAD_IDX)\n",
    "lr_scheduler_attention = ReduceLROnPlateau(optimizer=optimizer_attention, patience=2, factor=0.2)"
   ]
  },
  {
   "cell_type": "code",
   "execution_count": 56,
   "metadata": {
    "cellId": "f78y7yn8wj7mh27wmch5ug",
    "collapsed": false,
    "jupyter": {
     "outputs_hidden": false
    }
   },
   "outputs": [
    {
     "data": {
      "image/png": "[encoded data removed]",
      "text/plain": [
       "<Figure size 864x576 with 2 Axes>"
      ]
     },
     "metadata": {
      "needs_background": "light"
     },
     "output_type": "display_data"
    },
    {
     "name": "stdout",
     "output_type": "stream",
     "text": [
      "Epoch: 15 | Time: 1m 16s\n",
      "\tTrain Loss: 1.928 | Train PPL:   6.874\n",
      "\t Val. Loss: 4.491 |  Val. PPL:  89.202\n"
     ]
    }
   ],
   "source": [
    "train_model(model_attention,\n",
    "            train_iterator,\n",
    "            valid_iterator,\n",
    "            optimizer_attention,\n",
    "            criterion_attention,\n",
    "            lr_scheduler_attention,\n",
    "            n_epochs=15,\n",
    "            model_name=\"attention\")"
   ]
  },
  {
   "cell_type": "code",
   "execution_count": 57,
   "metadata": {
    "cellId": "ntfd976ahsijmcwhkx5r9",
    "collapsed": false,
    "jupyter": {
     "outputs_hidden": false
    }
   },
   "outputs": [
    {
     "name": "stderr",
     "output_type": "stream",
     "text": [
      "59it [00:03, 15.94it/s]\n"
     ]
    }
   ],
   "source": [
    "original_text_attention, generated_text_attention = generate_texts(model_attention, test_iterator)"
   ]
  },
  {
   "cell_type": "code",
   "execution_count": 58,
   "metadata": {
    "cellId": "m00o9p7kezpba1wwmhsx",
    "collapsed": false,
    "jupyter": {
     "outputs_hidden": false
    }
   },
   "outputs": [
    {
     "data": {
      "text/plain": [
       "31.240721148226402"
      ]
     },
     "execution_count": 58,
     "metadata": {},
     "output_type": "execute_result"
    }
   ],
   "source": [
    "results[\"attention\"][\"bleu\"] = corpus_bleu([[text] for text in original_text_attention], generated_text_attention) * 100\n",
    "results[\"attention\"][\"bleu\"]"
   ]
  },
  {
   "cell_type": "code",
   "execution_count": 59,
   "metadata": {
    "cellId": "tkx07x47q2huwczduzkg0m",
    "collapsed": false,
    "jupyter": {
     "outputs_hidden": false
    }
   },
   "outputs": [
    {
     "name": "stdout",
     "output_type": "stream",
     "text": [
      "Original: parking is free .\n",
      "Generated: the property offers free parking .\n",
      "\n",
      "Original: guests can enjoy the on - site bar .\n",
      "Generated: guests can enjoy the on - site bar .\n",
      "\n",
      "Original: a hairdryer is provided upon request .\n",
      "Generated: hairdryers are available upon request .\n",
      "\n",
      "Original: free wifi is available .\n",
      "Generated: free wi - fi access is available .\n",
      "\n",
      "Original: some rooms have a balcony .\n",
      "Generated: some rooms have a balcony .\n",
      "\n"
     ]
    }
   ],
   "source": [
    "for idx in [1, 2, 3, 4, 5]:\n",
    "    src = batch.src[:, idx:idx + 1]\n",
    "    trg = batch.trg[:, idx:idx + 1]\n",
    "    generate_translation(src, trg, model_attention, TRG.vocab)"
   ]
  },
  {
   "cell_type": "markdown",
   "metadata": {
    "cellId": "1lg6jp01x25d7825eavmhj",
    "execution_id": "b9d5668d-75fa-4642-9745-cb1df9d55551"
   },
   "source": [
    "### Transformer"
   ]
  },
  {
   "cell_type": "code",
   "execution_count": 60,
   "metadata": {
    "cellId": "glwyy6l526fepsmvfg9j9",
    "collapsed": false,
    "jupyter": {
     "outputs_hidden": false
    }
   },
   "outputs": [],
   "source": [
    "Seq2SeqTransformer = my_network.Seq2SeqTransformer"
   ]
  },
  {
   "cell_type": "code",
   "execution_count": 61,
   "metadata": {
    "cellId": "qc02y6ugdqluotawap3f",
    "collapsed": false,
    "jupyter": {
     "outputs_hidden": false
    }
   },
   "outputs": [],
   "source": [
    "INPUT_DIM = len(SRC.vocab)\n",
    "OUTPUT_DIM = len(TRG.vocab)\n",
    "NHEAD = 2\n",
    "ENC_LAYERS = 2\n",
    "DEC_LAYERS = 2\n",
    "EMB_DIM = 512\n",
    "DROPOUT = 0.2\n",
    "\n",
    "model_transformer = Seq2SeqTransformer(INPUT_DIM, OUTPUT_DIM, EMB_DIM,\n",
    "                                       NHEAD, ENC_LAYERS, DEC_LAYERS).to(device)"
   ]
  },
  {
   "cell_type": "code",
   "execution_count": 62,
   "metadata": {
    "cellId": "rx7iiqp91sezoq49ssrdoh",
    "collapsed": false,
    "jupyter": {
     "outputs_hidden": false
    }
   },
   "outputs": [],
   "source": [
    "optimizer_transformer = optim.AdamW(model_transformer.parameters())\n",
    "criterion_transformer = nn.CrossEntropyLoss(ignore_index=PAD_IDX)\n",
    "lr_scheduler_transformer = ReduceLROnPlateau(optimizer=optimizer_transformer, patience=2, factor=0.2)"
   ]
  },
  {
   "cell_type": "code",
   "execution_count": 63,
   "metadata": {
    "cellId": "twpgy1jqxeddy4yyi0l7eh",
    "collapsed": false,
    "jupyter": {
     "outputs_hidden": false
    }
   },
   "outputs": [
    {
     "name": "stdout",
     "output_type": "stream",
     "text": [
      "The model has 26,352,200 trainable parameters\n"
     ]
    }
   ],
   "source": [
    "results[\"transformer\"][\"n_params\"] = count_parameters(model_transformer)\n",
    "print(f'The model has {results[\"transformer\"][\"n_params\"]:,} trainable parameters')"
   ]
  },
  {
   "cell_type": "code",
   "execution_count": 64,
   "metadata": {
    "cellId": "zkzq507d1cdf6glx0r55au",
    "collapsed": false,
    "jupyter": {
     "outputs_hidden": false
    }
   },
   "outputs": [],
   "source": [
    "def init_weights_transformer(m):\n",
    "    for p in m.parameters():\n",
    "        if p.dim() > 1:\n",
    "            nn.init.xavier_uniform_(p)"
   ]
  },
  {
   "cell_type": "code",
   "execution_count": 65,
   "metadata": {
    "cellId": "u2fh5bnnmtdin04pxhm8p",
    "collapsed": false,
    "jupyter": {
     "outputs_hidden": false
    }
   },
   "outputs": [
    {
     "data": {
      "text/plain": [
       "Seq2SeqTransformer(\n",
       "  (enc_emb): Embedding(9262, 512)\n",
       "  (dec_emb): Embedding(6727, 512)\n",
       "  (pos_encoder): PositionalEncoding(\n",
       "    (dropout): Dropout(p=0.1, inplace=False)\n",
       "  )\n",
       "  (transformer_model): Transformer(\n",
       "    (encoder): TransformerEncoder(\n",
       "      (layers): ModuleList(\n",
       "        (0-1): 2 x TransformerEncoderLayer(\n",
       "          (self_attn): MultiheadAttention(\n",
       "            (out_proj): NonDynamicallyQuantizableLinear(in_features=512, out_features=512, bias=True)\n",
       "          )\n",
       "          (linear1): Linear(in_features=512, out_features=2048, bias=True)\n",
       "          (dropout): Dropout(p=0.1, inplace=False)\n",
       "          (linear2): Linear(in_features=2048, out_features=512, bias=True)\n",
       "          (norm1): LayerNorm((512,), eps=1e-05, elementwise_affine=True)\n",
       "          (norm2): LayerNorm((512,), eps=1e-05, elementwise_affine=True)\n",
       "          (dropout1): Dropout(p=0.1, inplace=False)\n",
       "          (dropout2): Dropout(p=0.1, inplace=False)\n",
       "        )\n",
       "      )\n",
       "      (norm): LayerNorm((512,), eps=1e-05, elementwise_affine=True)\n",
       "    )\n",
       "    (decoder): TransformerDecoder(\n",
       "      (layers): ModuleList(\n",
       "        (0-1): 2 x TransformerDecoderLayer(\n",
       "          (self_attn): MultiheadAttention(\n",
       "            (out_proj): NonDynamicallyQuantizableLinear(in_features=512, out_features=512, bias=True)\n",
       "          )\n",
       "          (multihead_attn): MultiheadAttention(\n",
       "            (out_proj): NonDynamicallyQuantizableLinear(in_features=512, out_features=512, bias=True)\n",
       "          )\n",
       "          (linear1): Linear(in_features=512, out_features=2048, bias=True)\n",
       "          (dropout): Dropout(p=0.1, inplace=False)\n",
       "          (linear2): Linear(in_features=2048, out_features=512, bias=True)\n",
       "          (norm1): LayerNorm((512,), eps=1e-05, elementwise_affine=True)\n",
       "          (norm2): LayerNorm((512,), eps=1e-05, elementwise_affine=True)\n",
       "          (norm3): LayerNorm((512,), eps=1e-05, elementwise_affine=True)\n",
       "          (dropout1): Dropout(p=0.1, inplace=False)\n",
       "          (dropout2): Dropout(p=0.1, inplace=False)\n",
       "          (dropout3): Dropout(p=0.1, inplace=False)\n",
       "        )\n",
       "      )\n",
       "      (norm): LayerNorm((512,), eps=1e-05, elementwise_affine=True)\n",
       "    )\n",
       "  )\n",
       "  (linear): Linear(in_features=512, out_features=6727, bias=True)\n",
       ")"
      ]
     },
     "execution_count": 65,
     "metadata": {},
     "output_type": "execute_result"
    }
   ],
   "source": [
    "model_transformer.apply(init_weights_transformer)"
   ]
  },
  {
   "cell_type": "code",
   "execution_count": 66,
   "metadata": {
    "cellId": "k6d3wb32c6x3z8cdvut0g",
    "collapsed": false,
    "jupyter": {
     "outputs_hidden": false
    }
   },
   "outputs": [
    {
     "data": {
      "image/png": "[encoded data removed]",
      "text/plain": [
       "<Figure size 864x576 with 2 Axes>"
      ]
     },
     "metadata": {
      "needs_background": "light"
     },
     "output_type": "display_data"
    },
    {
     "name": "stdout",
     "output_type": "stream",
     "text": [
      "Epoch: 10 | Time: 0m 40s\n",
      "\tTrain Loss: 1.423 | Train PPL:   4.150\n",
      "\t Val. Loss: 10.667 |  Val. PPL: 42927.511\n"
     ]
    }
   ],
   "source": [
    "train_model(model_transformer,\n",
    "            train_iterator,\n",
    "            valid_iterator,\n",
    "            optimizer_transformer,\n",
    "            criterion_transformer,\n",
    "            lr_scheduler_transformer,\n",
    "            model_name=\"transformer\")"
   ]
  },
  {
   "cell_type": "code",
   "execution_count": 67,
   "metadata": {
    "cellId": "34b4rltvc888ep5wuf4e9g",
    "collapsed": false,
    "jupyter": {
     "outputs_hidden": false
    }
   },
   "outputs": [
    {
     "name": "stderr",
     "output_type": "stream",
     "text": [
      "59it [00:11,  5.07it/s]\n"
     ]
    }
   ],
   "source": [
    "original_text_transformer, generated_text_transformer = generate_texts(model_transformer, test_iterator)"
   ]
  },
  {
   "cell_type": "code",
   "execution_count": 68,
   "metadata": {
    "cellId": "5crrlc8cp9265qrdhx56qb",
    "collapsed": false,
    "jupyter": {
     "outputs_hidden": false
    }
   },
   "outputs": [
    {
     "data": {
      "text/plain": [
       "13.163978374992732"
      ]
     },
     "execution_count": 68,
     "metadata": {},
     "output_type": "execute_result"
    }
   ],
   "source": [
    "results[\"transformer\"][\"bleu\"] = corpus_bleu([[text] for text in original_text_transformer], generated_text_transformer) * 100\n",
    "results[\"transformer\"][\"bleu\"]"
   ]
  },
  {
   "cell_type": "code",
   "execution_count": 69,
   "metadata": {
    "cellId": "trybb5ad0kf9l93reqij5r",
    "collapsed": false,
    "jupyter": {
     "outputs_hidden": false
    }
   },
   "outputs": [
    {
     "name": "stdout",
     "output_type": "stream",
     "text": [
      "Original: parking is free .\n",
      "Generated: property offers free parking .\n",
      "\n",
      "Original: guests can enjoy the on - site bar .\n",
      "Generated: is also a bar on site .\n",
      "\n",
      "Original: a hairdryer is provided upon request .\n",
      "Generated: service is available .\n",
      "\n",
      "Original: free wifi is available .\n",
      "Generated: wifi access is available .\n",
      "\n",
      "Original: some rooms have a balcony .\n",
      "Generated: rooms have a balcony .\n",
      "\n"
     ]
    }
   ],
   "source": [
    "for idx in [1, 2, 3, 4, 5]:\n",
    "    src = batch.src[:, idx:idx + 1]\n",
    "    trg = batch.trg[:, idx:idx + 1]\n",
    "    generate_translation(src, trg, model_transformer, TRG.vocab)"
   ]
  },
  {
   "cell_type": "markdown",
   "metadata": {
    "cellId": "iz0jf84fn2ue8scl16uyf",
    "execution_id": "aabb7ec2-9757-4555-be8e-b61a9f47c130"
   },
   "source": [
    "### Conclusion"
   ]
  },
  {
   "cell_type": "code",
   "execution_count": 70,
   "metadata": {
    "cellId": "38vk82j2yvgxjtjs1gwzzn",
    "collapsed": false,
    "jupyter": {
     "outputs_hidden": false
    }
   },
   "outputs": [
    {
     "data": {
      "text/html": [
       "<div>\n",
       "<style scoped>\n",
       "    .dataframe tbody tr th:only-of-type {\n",
       "        vertical-align: middle;\n",
       "    }\n",
       "\n",
       "    .dataframe tbody tr th {\n",
       "        vertical-align: top;\n",
       "    }\n",
       "\n",
       "    .dataframe thead th {\n",
       "        text-align: right;\n",
       "    }\n",
       "</style>\n",
       "<table border=\"1\" class=\"dataframe\">\n",
       "  <thead>\n",
       "    <tr style=\"text-align: right;\">\n",
       "      <th></th>\n",
       "      <th>seq2seq</th>\n",
       "      <th>attention</th>\n",
       "      <th>transformer</th>\n",
       "    </tr>\n",
       "  </thead>\n",
       "  <tbody>\n",
       "    <tr>\n",
       "      <th>bleu</th>\n",
       "      <td>1.271338e+01</td>\n",
       "      <td>3.124072e+01</td>\n",
       "      <td>1.316398e+01</td>\n",
       "    </tr>\n",
       "    <tr>\n",
       "      <th>train_time</th>\n",
       "      <td>6.426948e+02</td>\n",
       "      <td>1.156563e+03</td>\n",
       "      <td>4.130778e+02</td>\n",
       "    </tr>\n",
       "    <tr>\n",
       "      <th>n_params</th>\n",
       "      <td>1.490055e+07</td>\n",
       "      <td>1.568698e+07</td>\n",
       "      <td>2.635220e+07</td>\n",
       "    </tr>\n",
       "  </tbody>\n",
       "</table>\n",
       "</div>"
      ],
      "text/plain": [
       "                 seq2seq     attention   transformer\n",
       "bleu        1.271338e+01  3.124072e+01  1.316398e+01\n",
       "train_time  6.426948e+02  1.156563e+03  4.130778e+02\n",
       "n_params    1.490055e+07  1.568698e+07  2.635220e+07"
      ]
     },
     "metadata": {},
     "output_type": "display_data"
    }
   ],
   "source": [
    "import pandas as pd\n",
    "display(pd.DataFrame(results).loc[[\"bleu\", \"train_time\", \"n_params\"]])"
   ]
  },
  {
   "cell_type": "markdown",
   "source": [
    "The best result were shown by the Seq2Seq model with attention. Introducing a learning rate scheduler (the first model) or a transformer (the third model) produce much worse results. The transformer network seems to be overfitting (by the looks of the loss graph). It could be a separate lab to try and find a solution for that."
   ],
   "metadata": {
    "collapsed": false
   }
  }
 ],
 "metadata": {
  "anaconda-cloud": {},
  "colab": {
   "collapsed_sections": [],
   "machine_shape": "hm",
   "name": "homework.ipynb",
   "provenance": []
  },
  "language_info": {
   "codemirror_mode": {
    "name": "ipython",
    "version": 3
   },
   "file_extension": ".py",
   "mimetype": "text/x-python",
   "name": "python",
   "nbconvert_exporter": "python",
   "pygments_lexer": "ipython3",
   "version": "3.7.7"
  },
  "notebookId": "87a99f07-ee32-47cf-aecf-da122368979d",
  "notebookPath": "lab02_Neural_Machine_Translation.ipynb"
 },
 "nbformat": 4,
 "nbformat_minor": 4
}
