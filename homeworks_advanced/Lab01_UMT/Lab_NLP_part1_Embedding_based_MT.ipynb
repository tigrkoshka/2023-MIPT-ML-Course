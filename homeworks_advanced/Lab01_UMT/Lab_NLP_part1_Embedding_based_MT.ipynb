{
 "cells": [
  {
   "cell_type": "markdown",
   "metadata": {
    "cellId": "pk6px5h2v18a6d6jo6bkm",
    "id": "eulvfJWl7ueY"
   },
   "source": [
    "# Lab 1\n",
    "\n",
    "\n",
    "## Part 1: Bilingual dictionary induction and unsupervised embedding-based MT (30%)\n",
    "*Note: this homework is based on materials from yandexdataschool [NLP course](https://github.com/yandexdataschool/nlp_course/). Feel free to check this awesome course if you wish to dig deeper.*\n",
    "\n",
    "*Refined by [Nikolay Karpachev](https://www.linkedin.com/in/nikolay-karpachev-b0146a104/), [Valery Marchenkov](https://www.linkedin.com/in/vmarchenkoff/)*"
   ]
  },
  {
   "cell_type": "markdown",
   "metadata": {
    "cellId": "lhxw6uy6iph4eq69gcdyzl",
    "id": "fV4rIjxa7uei"
   },
   "source": [
    "**In this homework** **<font color='red'>YOU</font>** will make machine translation system without using parallel corpora, alignment, attention, 100500 depth super-cool recurrent neural network and all that kind superstuff.\n",
    "\n",
    "But even without parallel corpora this system can be good enough (hopefully), in particular for similar languages."
   ]
  },
  {
   "cell_type": "markdown",
   "metadata": {
    "cellId": "okgmty14hjsppzailx5b",
    "id": "idSYq2GU7uew"
   },
   "source": [
    "### Frament of the Swadesh list for some slavic languages\n",
    "\n",
    "The Swadesh list is a lexicostatistical stuff. It's named after American linguist Morris Swadesh and contains basic lexis. This list are used to define subgroupings of languages, its relatedness.\n",
    "\n",
    "So we can see some kind of word invariance for different Slavic languages.\n",
    "\n",
    "\n",
    "| Russian         | Belorussian              | Ukrainian               | Polish             | Czech                         | Bulgarian            |\n",
    "|-----------------|--------------------------|-------------------------|--------------------|-------------------------------|-----------------------|\n",
    "| женщина         | жанчына, кабета, баба    | жінка                   | kobieta            | žena                          | жена                  |\n",
    "| мужчина         | мужчына                  | чоловік, мужчина        | mężczyzna          | muž                           | мъж                   |\n",
    "| человек         | чалавек                  | людина, чоловік         | człowiek           | člověk                        | човек                 |\n",
    "| ребёнок, дитя   | дзіця, дзіцёнак, немаўля | дитина, дитя            | dziecko            | dítě                          | дете                  |\n",
    "| жена            | жонка                    | дружина, жінка          | żona               | žena, manželka, choť          | съпруга, жена         |\n",
    "| муж             | муж, гаспадар            | чоловiк, муж            | mąż                | muž, manžel, choť             | съпруг, мъж           |\n",
    "| мать, мама      | маці, матка              | мати, матір, неня, мама | matka              | matka, máma, 'стар.' mateř    | майка                 |\n",
    "| отец, тятя      | бацька, тата             | батько, тато, татусь    | ojciec             | otec                          | баща, татко           |\n",
    "| много           | шмат, багата             | багато                  | wiele              | mnoho, hodně                  | много                 |\n",
    "| несколько       | некалькі, колькі         | декілька, кілька        | kilka              | několik, pár, trocha          | няколко               |\n",
    "| другой, иной    | іншы                     | інший                   | inny               | druhý, jiný                   | друг                  |\n",
    "| зверь, животное | жывёла, звер, істота     | тварина, звір           | zwierzę            | zvíře                         | животно               |\n",
    "| рыба            | рыба                     | риба                    | ryba               | ryba                          | риба                  |\n",
    "| птица           | птушка                   | птах, птиця             | ptak               | pták                          | птица                 |\n",
    "| собака, пёс     | сабака                   | собака, пес             | pies               | pes                           | куче, пес             |\n",
    "| вошь            | вош                      | воша                    | wesz               | veš                           | въшка                 |\n",
    "| змея, гад       | змяя                     | змія, гад               | wąż                | had                           | змия                  |\n",
    "| червь, червяк   | чарвяк                   | хробак, черв'як         | robak              | červ                          | червей                |\n",
    "| дерево          | дрэва                    | дерево                  | drzewo             | strom, dřevo                  | дърво                 |\n",
    "| лес             | лес                      | ліс                     | las                | les                           | гора, лес             |\n",
    "| палка           | кій, палка               | палиця                  | patyk, pręt, pałka | hůl, klacek, prut, kůl, pálka | палка, пръчка, бастун |"
   ]
  },
  {
   "cell_type": "markdown",
   "metadata": {
    "cellId": "swiut17fcknahn5mrkxhth",
    "id": "cNM3_fjr7ue2"
   },
   "source": [
    "But the context distribution of these languages demonstrates even more invariance. And we can use this fact for our for our purposes."
   ]
  },
  {
   "cell_type": "markdown",
   "metadata": {
    "cellId": "ykxbyvib9dnpr4wtqlj9jg",
    "id": "YLppwa527ue6"
   },
   "source": [
    "## Data"
   ]
  },
  {
   "cell_type": "markdown",
   "metadata": {
    "cellId": "vscv2asixbkwyzn4ptr5mm",
    "id": "MwGoVhRA7ufP"
   },
   "source": [
    "In this notebook we're going to use pretrained word vectors - FastText (original paper - https://arxiv.org/abs/1607.04606).\n",
    "\n",
    "You can download them from the official [website](https://fasttext.cc/docs/en/crawl-vectors.html). We're going to need embeddings for English and French languages."
   ]
  },
  {
   "cell_type": "code",
   "execution_count": null,
   "metadata": {
    "cellId": "onjapbpp6ffmvrwxs130no",
    "colab": {
     "base_uri": "https://localhost:8080/"
    },
    "id": "KV2-MpR-ugq-",
    "outputId": "36bb718d-65c0-4b32-b49d-68e73c15b7cd"
   },
   "outputs": [],
   "source": [
    "!wget -nc https://dl.fbaipublicfiles.com/fasttext/vectors-crawl/cc.en.300.vec.gz\n",
    "!gzip -d cc.en.300.vec.gz\n",
    "\n",
    "!wget -nc https://dl.fbaipublicfiles.com/fasttext/vectors-crawl/cc.fr.300.vec.gz\n",
    "!gzip -d cc.fr.300.vec.gz"
   ]
  },
  {
   "cell_type": "markdown",
   "metadata": {
    "cellId": "ioytcjavt8erjvhba2vrc",
    "id": "Kwg26PKLv88U"
   },
   "source": [
    "After downloading and extracting the vectors, we should be able to load them using the [gensim](https://radimrehurek.com/gensim/) library:"
   ]
  },
  {
   "cell_type": "code",
   "execution_count": 46,
   "metadata": {
    "cellId": "dr8lomvvlvcfe3bu6rhe5m",
    "id": "u1JjQv_97ufT"
   },
   "outputs": [],
   "source": [
    "from gensim.models import KeyedVectors\n",
    "import numpy as np\n",
    "\n",
    "\n",
    "en_emb = KeyedVectors.load_word2vec_format(\"cc.en.300.vec\")\n",
    "fr_emb = KeyedVectors.load_word2vec_format(\"cc.fr.300.vec\")"
   ]
  },
  {
   "cell_type": "markdown",
   "metadata": {
    "cellId": "uaouxsbjl2qtmhkeptxum",
    "id": "Sqb_XJhkMyHM"
   },
   "source": [
    "Once you've loaded the vectors, you can use the `KeyedVectors` interface to get word embeddings and/or query most similar words by embedding:"
   ]
  },
  {
   "cell_type": "code",
   "execution_count": 47,
   "metadata": {
    "cellId": "o8ijtsxkxwkgkj1rs0epys",
    "colab": {
     "base_uri": "https://localhost:8080/"
    },
    "id": "nTkXfT0W7ufk",
    "outputId": "6b8ed7a3-f23e-4598-e494-2d5800e62280"
   },
   "outputs": [
    {
     "data": {
      "text/plain": [
       "((300,), array([-0.0522,  0.0364, -0.1252,  0.0053,  0.0382], dtype=float32))"
      ]
     },
     "execution_count": 47,
     "metadata": {},
     "output_type": "execute_result"
    }
   ],
   "source": [
    "august_embedding = en_emb[\"august\"]\n",
    "august_embedding.shape, august_embedding[:5]"
   ]
  },
  {
   "cell_type": "code",
   "execution_count": 48,
   "metadata": {
    "cellId": "1sxs8m1m9v662muhdex9jw",
    "colab": {
     "base_uri": "https://localhost:8080/"
    },
    "id": "oQ2kCq-7NQPn",
    "outputId": "0622f613-479b-4b61-bc1d-a1e2f8fe3b70"
   },
   "outputs": [
    {
     "data": {
      "text/plain": [
       "[('august', 0.9999999403953552),\n",
       " ('september', 0.8252838850021362),\n",
       " ('october', 0.8111193180084229),\n",
       " ('june', 0.8050147891044617),\n",
       " ('july', 0.797055184841156),\n",
       " ('november', 0.788363516330719),\n",
       " ('february', 0.7831973433494568),\n",
       " ('december', 0.7824540138244629),\n",
       " ('january', 0.7743154168128967),\n",
       " ('april', 0.7621643543243408)]"
      ]
     },
     "execution_count": 48,
     "metadata": {},
     "output_type": "execute_result"
    }
   ],
   "source": [
    "en_emb.most_similar([august_embedding])"
   ]
  },
  {
   "cell_type": "markdown",
   "metadata": {
    "cellId": "0wli30aokgmb1m8nnfond2a",
    "execution_id": "6d263465-be0d-490d-9f94-8c33b8d7e52c",
    "id": "t5EcMMI6pxzL"
   },
   "source": [
    "The latter function also allows you to vary the amount of closest words via the `topn` argument:"
   ]
  },
  {
   "cell_type": "code",
   "execution_count": 49,
   "metadata": {
    "cellId": "vu7whge0ohidpjzbedlt3k",
    "colab": {
     "base_uri": "https://localhost:8080/"
    },
    "id": "bi6AF3z0p9Oo",
    "outputId": "420dde14-d208-4bdc-ab4b-9cab0847790c"
   },
   "outputs": [
    {
     "data": {
      "text/plain": [
       "[('august', 0.9999999403953552),\n",
       " ('september', 0.8252838850021362),\n",
       " ('october', 0.8111193180084229)]"
      ]
     },
     "execution_count": 49,
     "metadata": {},
     "output_type": "execute_result"
    }
   ],
   "source": [
    "en_emb.most_similar([august_embedding], topn=3)"
   ]
  },
  {
   "cell_type": "markdown",
   "metadata": {
    "cellId": "422fx5wjzbp2ztoqi9vpyv",
    "execution_id": "b2c4a475-264c-4a0f-b827-db0a8044221e",
    "id": "xw345NRXov4p"
   },
   "source": [
    "Another feature of `KeyedVectors` is that it allows to compute embeddings for multiple words simultaneously:"
   ]
  },
  {
   "cell_type": "code",
   "execution_count": 50,
   "metadata": {
    "cellId": "0oih8tvk987j5h6vycf0clq",
    "colab": {
     "base_uri": "https://localhost:8080/"
    },
    "id": "86OuYeLYow0C",
    "outputId": "d46d5166-7817-49f8-da47-0ffc2f6cd6c5"
   },
   "outputs": [
    {
     "data": {
      "text/plain": [
       "(2, 300)"
      ]
     },
     "execution_count": 50,
     "metadata": {},
     "output_type": "execute_result"
    }
   ],
   "source": [
    "en_emb[[\"august\", \"september\"]].shape"
   ]
  },
  {
   "cell_type": "markdown",
   "metadata": {
    "cellId": "y7xk3jupb7mjqqns9x1ft",
    "execution_id": "bed2ebf5-c170-4ea6-a535-dc5facfab913",
    "id": "3uGx5zHXQtfo"
   },
   "source": [
    "Everything above is true for the embeddings for French language."
   ]
  },
  {
   "cell_type": "code",
   "execution_count": 51,
   "metadata": {
    "cellId": "d2gkiuphijg6ts7lozxbqr",
    "colab": {
     "base_uri": "https://localhost:8080/"
    },
    "id": "vdBA8lcg7ufs",
    "outputId": "b523b412-214f-4dbe-9bc4-7a34f6771225"
   },
   "outputs": [
    {
     "data": {
      "text/plain": [
       "[('aout', 1.0),\n",
       " ('Aout', 0.8249964118003845),\n",
       " ('juillet', 0.8109882473945618),\n",
       " ('fevrier', 0.8072442412376404),\n",
       " ('septembre', 0.7838520407676697),\n",
       " ('août', 0.779176652431488),\n",
       " ('juin', 0.7692081332206726),\n",
       " ('octobre', 0.7597455382347107),\n",
       " ('decembre', 0.7595790028572083),\n",
       " ('avril', 0.7390779256820679)]"
      ]
     },
     "execution_count": 51,
     "metadata": {},
     "output_type": "execute_result"
    }
   ],
   "source": [
    "fr_emb.most_similar([fr_emb[\"aout\"]])"
   ]
  },
  {
   "cell_type": "markdown",
   "metadata": {
    "cellId": "oe4747j1efqv923fennuj",
    "execution_id": "acb7baab-5b38-45a8-b34f-85ecf619978f",
    "id": "F1Dkka5uQ37-"
   },
   "source": [
    "However, french and english embeddings were trained independently of each other. This means, that there is no obvious connection between values in embeddings for similar words in French and English:"
   ]
  },
  {
   "cell_type": "code",
   "execution_count": 52,
   "metadata": {
    "cellId": "fnfxueizyg20ue9kos569",
    "colab": {
     "base_uri": "https://localhost:8080/"
    },
    "id": "_yJvcKXO7uf0",
    "outputId": "562c2733-0564-4080-f916-fec2295df753"
   },
   "outputs": [
    {
     "data": {
      "text/plain": [
       "[('2003Pays', 0.23082853853702545),\n",
       " ('Montsoriu', 0.22505579888820648),\n",
       " ('2015Pays', 0.22218400239944458),\n",
       " ('2013Genre', 0.2095685601234436),\n",
       " ('AdiCloud', 0.2018650770187378),\n",
       " ('Bagua', 0.20061466097831726),\n",
       " ('2003Paysans', 0.2001495361328125),\n",
       " ('ValenceLa', 0.2001476287841797),\n",
       " ('Luddites', 0.19998176395893097),\n",
       " ('Guadalquivir', 0.19875513017177582)]"
      ]
     },
     "execution_count": 52,
     "metadata": {},
     "output_type": "execute_result"
    }
   ],
   "source": [
    "fr_emb.most_similar([en_emb[\"august\"]])"
   ]
  },
  {
   "cell_type": "markdown",
   "metadata": {
    "cellId": "enuvsc7shpmbp3m1vbovcs",
    "execution_id": "827c609b-8602-441d-9aaf-1717d70f68b8",
    "id": "Lia_h7W2qL8C"
   },
   "source": [
    "## Translation"
   ]
  },
  {
   "cell_type": "markdown",
   "metadata": {
    "cellId": "8w6hz4quhfagbu6cvzgufa",
    "execution_id": "61bc420e-2afa-43af-accf-5e775952d6c9",
    "id": "pNdYAR1q7uf6"
   },
   "source": [
    "We'll build a simple translator, which will try to predict the french embedding from the english one. For this we'll need a dataset of word pairs."
   ]
  },
  {
   "cell_type": "code",
   "execution_count": 53,
   "metadata": {
    "cellId": "nkc41qkh4wpklugc5sw5",
    "id": "CXbH86oQRprk"
   },
   "outputs": [],
   "source": [
    "def load_word_pairs(filename):\n",
    "    en_fr_pairs = []\n",
    "    en_vectors = []\n",
    "    fr_vectors = []\n",
    "    with open(filename, \"r\") as inpf:\n",
    "        for line in inpf:\n",
    "            en, fr = line.rstrip().split(\" \")\n",
    "            if en not in en_emb or fr not in fr_emb:\n",
    "                continue\n",
    "            en_fr_pairs.append((en, fr))\n",
    "            en_vectors.append(en_emb[en])\n",
    "            fr_vectors.append(fr_emb[fr])\n",
    "    return en_fr_pairs, np.array(en_vectors), np.array(fr_vectors)"
   ]
  },
  {
   "cell_type": "markdown",
   "metadata": {
    "cellId": "kc0wzapd1kr97i116hrv",
    "execution_id": "21ee5126-e688-4d29-a808-49c4e3ad29f0",
    "id": "wwjYGFE7Ui0N"
   },
   "source": [
    "We will train our model to predict embedding for the french word from embedding of its english counterpart. For this reason we split our train and test data into english and french words and compute corresponding embeddings to obtain `X` (english embeddings) and `y` (french embeddings)."
   ]
  },
  {
   "cell_type": "code",
   "execution_count": 54,
   "metadata": {
    "cellId": "hqjkbh5nyb6adpmceta5z",
    "colab": {
     "base_uri": "https://localhost:8080/"
    },
    "id": "yPvHHq7Cc_Oa",
    "outputId": "59827e18-22a5-4917-a905-db94b1a6c9a8"
   },
   "outputs": [
    {
     "name": "stderr",
     "output_type": "stream",
     "text": [
      "--2023-04-19 05:47:07--  https://raw.githubusercontent.com/girafe-ai/ml-course/23s_nes/homeworks/hw04_umt/en-fr.train.txt\n",
      "Resolving raw.githubusercontent.com (raw.githubusercontent.com)... 185.199.110.133, 185.199.111.133, 185.199.108.133, ...\n",
      "Connecting to raw.githubusercontent.com (raw.githubusercontent.com)|185.199.110.133|:443... connected.\n",
      "HTTP request sent, awaiting response... 200 OK\n",
      "Length: 178608 (174K) [text/plain]\n",
      "Saving to: ‘en-fr.train.txt’\n",
      "\n",
      "     0K .......... .......... .......... .......... .......... 28% 1.90M 0s\n",
      "    50K .......... .......... .......... .......... .......... 57% 7.86M 0s\n",
      "   100K .......... .......... .......... .......... .......... 85% 3.54M 0s\n",
      "   150K .......... .......... ....                            100% 14.6M=0.05s\n",
      "\n",
      "2023-04-19 05:47:08 (3.60 MB/s) - ‘en-fr.train.txt’ saved [178608/178608]\n",
      "\n",
      "--2023-04-19 05:47:08--  https://raw.githubusercontent.com/girafe-ai/ml-course/23s_nes/homeworks/hw04_umt/en-fr.test.txt\n",
      "Resolving raw.githubusercontent.com (raw.githubusercontent.com)... 185.199.110.133, 185.199.111.133, 185.199.108.133, ...\n",
      "Connecting to raw.githubusercontent.com (raw.githubusercontent.com)|185.199.110.133|:443... connected.\n",
      "HTTP request sent, awaiting response... 200 OK\n",
      "Length: 50509 (49K) [text/plain]\n",
      "Saving to: ‘en-fr.test.txt’\n",
      "\n",
      "     0K .......... .......... .......... .......... ......... 100% 2.17M=0.02s\n",
      "\n",
      "2023-04-19 05:47:08 (2.17 MB/s) - ‘en-fr.test.txt’ saved [50509/50509]\n",
      "\n"
     ]
    }
   ],
   "source": [
    "!wget -O en-fr.train.txt https://raw.githubusercontent.com/girafe-ai/ml-course/23s_nes/homeworks/hw04_umt/en-fr.train.txt\n",
    "!wget -O en-fr.test.txt https://raw.githubusercontent.com/girafe-ai/ml-course/23s_nes/homeworks/hw04_umt/en-fr.test.txt"
   ]
  },
  {
   "cell_type": "code",
   "execution_count": 55,
   "metadata": {
    "cellId": "42r03abtqat3fsrx3igfhv",
    "id": "K05ari5nSEcn"
   },
   "outputs": [],
   "source": [
    "en_fr_train, X_train, Y_train = load_word_pairs(\"en-fr.train.txt\")\n",
    "en_fr_test, X_test, Y_test = load_word_pairs(\"en-fr.test.txt\")"
   ]
  },
  {
   "cell_type": "code",
   "execution_count": 56,
   "metadata": {
    "cellId": "vti23xi2th6292fqq9cgy",
    "colab": {
     "base_uri": "https://localhost:8080/"
    },
    "id": "ithG80uDTYWr",
    "outputId": "5ea5c89b-7159-4392-9b90-07d0ab838c1e"
   },
   "outputs": [
    {
     "data": {
      "text/plain": [
       "[('which', 'lesquels'),\n",
       " ('which', 'laquelle'),\n",
       " ('which', 'lequel'),\n",
       " ('also', 'également'),\n",
       " ('also', 'aussi'),\n",
       " ('also', 'egalement'),\n",
       " ('were', 'étaient'),\n",
       " ('but', 'mais'),\n",
       " ('have', 'avoir'),\n",
       " ('have', 'ont'),\n",
       " ('one', 'un')]"
      ]
     },
     "execution_count": 56,
     "metadata": {},
     "output_type": "execute_result"
    }
   ],
   "source": [
    "en_fr_train[33:44]"
   ]
  },
  {
   "cell_type": "markdown",
   "metadata": {
    "cellId": "cqhb00drspvj4ghw4jw",
    "id": "-ZBBNvpz7ugQ"
   },
   "source": [
    "## Embedding space mapping (0.3 pts)"
   ]
  },
  {
   "cell_type": "markdown",
   "metadata": {
    "cellId": "3403to3239lfsmdrk45xxg",
    "execution_id": "bf084abb-ff6c-4554-a00d-80c37b2f0aa7",
    "id": "x_Dhk5gL7ugS"
   },
   "source": [
    "Let $x_i \\in \\mathrm{R}^d$ be the distributed representation of word $i$ in the source language, and $y_i \\in \\mathrm{R}^d$ is the vector representation of its translation. Our purpose is to learn such linear transform $W$ that minimizes euclidian distance between $Wx_i$ and $y_i$ for some subset of word embeddings. Thus we can formulate so-called [Procrustes problem](https://en.wikipedia.org/wiki/Orthogonal_Procrustes_problem):\n",
    "\n",
    "$$W^*= \\arg\\min_W \\sum_{i=1}^n\\|Wx_i - y_i\\|_2$$\n",
    "\n",
    "or\n",
    "\n",
    "$$W^*= \\arg\\min_W \\|XW^T - Y\\|_F$$\n",
    "\n",
    "where $\\|\\cdot\\|_F$ denotes Frobenius norm.\n",
    "\n",
    "> **Note:** in second formula, $W$ and $x$ seem to have switched places. This happens because the $X$ matrix is composed of objects $x_i$ in *rows* not *columns*, i.e. it is kind of composed of $x_i^T$. This means that $X \\in \\mathbb{R}^{N \\times D}$, where $N$ is the number of items and $D$ is the embedding dimensionality. The same is true for the $Y$."
   ]
  },
  {
   "cell_type": "markdown",
   "metadata": {
    "cellId": "1wr02nifw4vtk0cnr1a7z",
    "execution_id": "274dfaf3-09f4-4325-8de6-f891ae328857",
    "id": "acOjDdtL7ugY"
   },
   "source": [
    "$W^*= \\arg\\min_W \\sum_{i=1}^n\\|Wx_i - y_i\\|_2$ looks like simple multiple linear regression without bias. The `sklearn` allows you to turn off the bias in `LinearRegression` via the `fit_intercept` argument (in fact they simply call bias the intercept). So let's code."
   ]
  },
  {
   "cell_type": "code",
   "execution_count": 57,
   "metadata": {
    "cellId": "wzzkgc2yu9b5a5vsqiz5g",
    "id": "Lb-KN1be7uga"
   },
   "outputs": [
    {
     "data": {
      "text/plain": [
       "LinearRegression(copy_X=True, fit_intercept=False, n_jobs=None, normalize=False)"
      ]
     },
     "execution_count": 57,
     "metadata": {},
     "output_type": "execute_result"
    }
   ],
   "source": [
    "from sklearn.linear_model import LinearRegression\n",
    "\n",
    "\n",
    "mapping = LinearRegression(fit_intercept=False)\n",
    "mapping.fit(X_train, Y_train)"
   ]
  },
  {
   "cell_type": "markdown",
   "metadata": {
    "cellId": "jt61he2utkx199wz3fopk",
    "execution_id": "bbd4ba47-d148-4ecb-9809-3b8321bd914f",
    "id": "X7tqJwoY7ugf"
   },
   "source": [
    "Let's take a look at neigbours of the vector of word _\"august\"_ (_\"aout\"_ in French) after linear transform."
   ]
  },
  {
   "cell_type": "code",
   "execution_count": 58,
   "metadata": {
    "cellId": "hxt9scv44emap6wh97x99r",
    "colab": {
     "base_uri": "https://localhost:8080/"
    },
    "id": "31SrFSbn7ugi",
    "outputId": "7cc31f62-521e-4d10-b4db-e6b7c76aeee5"
   },
   "outputs": [
    {
     "data": {
      "text/plain": [
       "[('juin', 0.7553410530090332),\n",
       " ('aout', 0.7527693510055542),\n",
       " ('juillet', 0.7500795125961304),\n",
       " ('septembre', 0.748238205909729),\n",
       " ('mars', 0.7415983080863953),\n",
       " ('octobre', 0.7395485043525696),\n",
       " ('novembre', 0.7313360571861267),\n",
       " ('février', 0.7296543121337891),\n",
       " ('janvier', 0.7272254228591919),\n",
       " ('avril', 0.7249919176101685)]"
      ]
     },
     "execution_count": 58,
     "metadata": {},
     "output_type": "execute_result"
    }
   ],
   "source": [
    "august = mapping.predict(en_emb[\"august\"].reshape(1, -1))\n",
    "fr_emb.most_similar(august)"
   ]
  },
  {
   "cell_type": "markdown",
   "metadata": {
    "cellId": "pqoi4qmjah9l3ksrka25sa",
    "execution_id": "1597e12e-9efc-483f-a9a8-15d1f281e004",
    "id": "okSkjk597ugo"
   },
   "source": [
    "We can see that neighbourhood of this embedding cosists of different months, but right variant is on the ninth place."
   ]
  },
  {
   "cell_type": "markdown",
   "metadata": {
    "cellId": "kpz4tn9iogfn9f7dzecist",
    "execution_id": "b40a38fd-320d-4732-8ae9-43afaf4d65a5",
    "id": "o2uY6Y9B7ugt"
   },
   "source": [
    "As quality measure we will use precision top-1, top-5 and top-10 (for each transformed english embedding we count how many right target pairs are found in top N nearest neighbours in french embedding space)."
   ]
  },
  {
   "cell_type": "code",
   "execution_count": 67,
   "metadata": {
    "cellId": "d701mfg8nae1a1qhujmv6s",
    "id": "zptuho8LAfIE"
   },
   "outputs": [],
   "source": [
    "def precision(pairs, mapped_vectors, topn=1):\n",
    "    \"\"\"\n",
    "    :args:\n",
    "        pairs = list of right word pairs [(en_word_0, fr_word_0), ...]\n",
    "        mapped_vectors = list of embeddings after mapping from source embedding space to destination embedding space\n",
    "        topn = the number of nearest neighbours in destination embedding space to choose from\n",
    "    :returns:\n",
    "        precision_val, float number, total number of words for those we can find right translation at top K.\n",
    "    \"\"\"\n",
    "    assert len(pairs) == len(mapped_vectors)\n",
    "    total = len(pairs)\n",
    "    correct = 0\n",
    "    for i in range(total):\n",
    "        pair = pairs[i]\n",
    "        predicted_vector = mapped_vectors[i]\n",
    "\n",
    "        most_similar = fr_emb.most_similar(predicted_vector.reshape(1, -1), topn=topn)\n",
    "        for sim_pair in most_similar:\n",
    "            if sim_pair[0] == pair[1]:\n",
    "                correct += 1\n",
    "                break\n",
    "\n",
    "    return correct / total"
   ]
  },
  {
   "cell_type": "code",
   "execution_count": 68,
   "metadata": {
    "cellId": "60es18gch572apdyhyt01b",
    "id": "duhj9hpv7ugy"
   },
   "outputs": [],
   "source": [
    "assert precision([(\"august\", \"aout\")], august, topn=5) == 1.0\n",
    "assert precision([(\"august\", \"aout\")], august, topn=9) == 1.0\n",
    "assert precision([(\"august\", \"aout\")], august, topn=10) == 1.0"
   ]
  },
  {
   "cell_type": "markdown",
   "metadata": {
    "cellId": "7qyzaw52gwqslims1joos",
    "execution_id": "bb4bba67-eb98-4281-a8ca-aa8ce82b1214",
    "id": "z5A9tWtnuFx3"
   },
   "source": [
    "Note that our `precision` function accepts lists of pairs of words, whereas we have dataframes. However, it is not a problem: we can get a list (actually, numpy array) of pairs via the `values` property."
   ]
  },
  {
   "cell_type": "code",
   "execution_count": 69,
   "metadata": {
    "cellId": "1dhkfsgtjxqacwm2fopo",
    "id": "0-iyd5gP7ug5"
   },
   "outputs": [],
   "source": [
    "assert precision(en_fr_test[:100], X_test[:100]) == 0.0\n",
    "assert precision(en_fr_test[:100], Y_test[:100]) == 1.0"
   ]
  },
  {
   "cell_type": "markdown",
   "metadata": {
    "cellId": "6waa0cxpxko6roq21hxvvf",
    "execution_id": "be770745-5c5e-4108-8bce-e0ccf66e4d81",
    "id": "7DVV5lqrua_O"
   },
   "source": [
    "Let's see how well our model is doing."
   ]
  },
  {
   "cell_type": "code",
   "execution_count": 70,
   "metadata": {
    "cellId": "bpq3j7tg3l6lyv7zcmz15",
    "id": "U-ssEJ3x7uhA"
   },
   "outputs": [],
   "source": [
    "precision_top1 = precision(en_fr_test[:100], mapping.predict(X_test[:100]), 1)\n",
    "precision_top5 = precision(en_fr_test[:100], mapping.predict(X_test[:100]), 5)"
   ]
  },
  {
   "cell_type": "code",
   "execution_count": 71,
   "metadata": {
    "cellId": "qeg3128itzvp68dpl7ohp",
    "colab": {
     "base_uri": "https://localhost:8080/"
    },
    "id": "JOXKaYj1VHGC",
    "outputId": "6056f077-29b4-44b2-9359-9decbe938f53"
   },
   "outputs": [
    {
     "name": "stdout",
     "output_type": "stream",
     "text": [
      "0.38\n",
      "0.67\n"
     ]
    }
   ],
   "source": [
    "print(precision_top1)\n",
    "print(precision_top5)"
   ]
  },
  {
   "cell_type": "markdown",
   "metadata": {
    "cellId": "0x5how1k2xfclpdwkf7nlio",
    "id": "hf6Ou8bx7uhH"
   },
   "source": [
    "## Making it better (orthogonal Procrustean problem) (0.3 pts)"
   ]
  },
  {
   "cell_type": "markdown",
   "metadata": {
    "cellId": "lwj7kdkjwazafh9yes29j",
    "execution_id": "c08b2cca-9e5b-4f8e-a21e-2927b1388783",
    "id": "4oLs-drN7uhK"
   },
   "source": [
    "It can be shown that a self-consistent linear mapping between semantic spaces should be orthogonal. \n",
    "We can restrict transform $W$ to be orthogonal. Then we will solve next problem:\n",
    "\n",
    "$$(W^T)^*= \\arg\\min_{W^T} \\|XW^T - Y\\|_F \\text{, where: } W^TW = I$$\n",
    "\n",
    "$$I \\text{- identity matrix}$$\n",
    "\n",
    "Instead of making yet another regression problem we can find optimal orthogonal transformation using singular value decomposition. It turns out that optimal transformation $W^*$ can be expressed via SVD components:\n",
    "$$X^TY=U\\Sigma V^T\\text{, singular value decompostion}$$\n",
    "$$(W^T)^*=UV^T$$"
   ]
  },
  {
   "cell_type": "code",
   "execution_count": 72,
   "metadata": {
    "cellId": "l5v4oemxabdh6mp5qr17",
    "id": "DdFQ7qti7uhL"
   },
   "outputs": [],
   "source": [
    "import numpy as np\n",
    "\n",
    "u_matrix, sigma_matrix, vt_matrix = np.linalg.svd(X_train.T @ Y_train)\n",
    "mapping_svd = u_matrix @ vt_matrix"
   ]
  },
  {
   "cell_type": "markdown",
   "metadata": {
    "cellId": "do5k861xwiqhgjoe5tqqlw",
    "execution_id": "2459a2d3-f973-4147-9695-c4119ccb2f06",
    "id": "sehLFmlBysc-"
   },
   "source": [
    "Now our `mapping` is just a numpy array, meaning that it has no `predict` method. However, from the formulae above we know, that prediction is done using the matrix multiplication:"
   ]
  },
  {
   "cell_type": "code",
   "execution_count": 73,
   "metadata": {
    "cellId": "blaeok4wrxmyqsli5pn8ab",
    "colab": {
     "base_uri": "https://localhost:8080/"
    },
    "id": "OVOFYYa37uhX",
    "outputId": "0afda429-5c00-4b7c-9ec7-4bc348db2b88"
   },
   "outputs": [
    {
     "data": {
      "text/plain": [
       "[('aout', 0.6705766320228577),\n",
       " ('juin', 0.6591026186943054),\n",
       " ('juillet', 0.6516767740249634),\n",
       " ('septembre', 0.6453961133956909),\n",
       " ('octobre', 0.6392979025840759),\n",
       " ('mars', 0.6334785223007202),\n",
       " ('août', 0.6331560015678406),\n",
       " ('février', 0.6244350671768188),\n",
       " ('novembre', 0.6244062185287476),\n",
       " ('avril', 0.6175949573516846)]"
      ]
     },
     "execution_count": 73,
     "metadata": {},
     "output_type": "execute_result"
    }
   ],
   "source": [
    "fr_emb.most_similar([np.matmul(en_emb['august'], mapping_svd)])"
   ]
  },
  {
   "cell_type": "markdown",
   "metadata": {
    "cellId": "wsoak14baenv0ihcsf36tc",
    "execution_id": "ebb3f0d6-24b2-4191-b88b-91a55bc23ee7",
    "id": "h4qKCmq7zJDK"
   },
   "source": [
    "Now let's compute our precision values and see, whether our trick did improve the results."
   ]
  },
  {
   "cell_type": "code",
   "execution_count": 74,
   "metadata": {
    "cellId": "kwvyoqj02slaodu7ndg08b",
    "colab": {
     "base_uri": "https://localhost:8080/"
    },
    "id": "r297sYP37uhb",
    "outputId": "03635012-c0f1-4773-fc0e-0e7663e5a7c2"
   },
   "outputs": [
    {
     "name": "stdout",
     "output_type": "stream",
     "text": [
      "0.36\n",
      "0.68\n"
     ]
    }
   ],
   "source": [
    "print(precision(en_fr_test[:100], np.matmul(X_test[:100], mapping_svd)))\n",
    "print(precision(en_fr_test[:100], np.matmul(X_test[:100], mapping_svd), 5))"
   ]
  },
  {
   "cell_type": "markdown",
   "metadata": {
    "cellId": "kc2544hfpgajm1xwiep5",
    "execution_id": "55b157f9-a7c7-4157-94e5-5bf90dc814ef",
    "id": "hvUZ72U5AfJg"
   },
   "source": [
    "## Unsupervised embedding-based MT (0.4 pts)"
   ]
  },
  {
   "cell_type": "markdown",
   "metadata": {
    "cellId": "bb1ouq2ofyvlthwxtejuxk",
    "execution_id": "1c1855bc-6844-43dd-bb1e-a3682634c746",
    "id": "LLyuVfHBLrJn"
   },
   "source": [
    "Now, let's build our word embeddings-based translator!"
   ]
  },
  {
   "cell_type": "markdown",
   "metadata": {
    "cellId": "ghwgsqn867plbbcc2feomi",
    "execution_id": "c26940ee-891d-41c5-91ee-6aee6a748b50",
    "id": "oa3dAZHv1wjY"
   },
   "source": [
    "Now let's translate these sentences word-by-word. Before that, however, don't forget to tokenize your sentences. For that you may (or may not) find the `nltk.tokenize.WordPunctTokenizer` to be very useful."
   ]
  },
  {
   "cell_type": "code",
   "execution_count": 83,
   "metadata": {
    "cellId": "w8dq6xmmcea5w9zhgnziq"
   },
   "outputs": [],
   "source": [
    "import nltk\n",
    "\n",
    "tokenizer = nltk.tokenize.WordPunctTokenizer()"
   ]
  },
  {
   "cell_type": "code",
   "execution_count": 109,
   "metadata": {
    "cellId": "uiam1g8651fobg9jvmzrqm",
    "id": "FGksC7l_NMi9"
   },
   "outputs": [],
   "source": [
    "import string\n",
    "\n",
    "# do not try to translate digits and smiles\n",
    "set_as_is = set(string.digits + \":)(/\")\n",
    "\n",
    "def translate(sentence):\n",
    "    \"\"\"\n",
    "    :args:\n",
    "        sentence - sentence in English (str)\n",
    "    :returns:\n",
    "        translation - sentence in French (str)\n",
    "\n",
    "    * find english embedding for each word in sentence\n",
    "    * transform english embedding vector\n",
    "    * find nearest french word and replace\n",
    "    \"\"\"\n",
    "\n",
    "    words = tokenizer.tokenize(sentence)\n",
    "    translated = []\n",
    "\n",
    "    for word in words:\n",
    "        if set(word) <= set_as_is:\n",
    "            translated.append(word)\n",
    "            continue\n",
    "        \n",
    "        if word not in en_emb:\n",
    "            translated.append(\"UNK\")\n",
    "            continue\n",
    "        \n",
    "        translated_embedding = np.matmul(en_emb[word], mapping_svd)\n",
    "        translated.append(fr_emb.most_similar([translated_embedding])[0][0])\n",
    "\n",
    "    return \" \".join(translated)"
   ]
  },
  {
   "cell_type": "code",
   "execution_count": 110,
   "metadata": {
    "cellId": "uv8mat26z9wz86ws6z4ce",
    "id": "4hbbMy-tNxlf"
   },
   "outputs": [],
   "source": [
    "assert translate(\".\") == \".\"\n",
    "assert translate(\"I walk around Paris\") == \"je marcher autour Paris\""
   ]
  },
  {
   "cell_type": "markdown",
   "metadata": {
    "cellId": "503kr5vggz677m0g14xhj",
    "execution_id": "4bcf5975-a1f0-47e7-a226-70d0a725a447",
    "id": "ia6I2ce7O_HI"
   },
   "source": [
    "Now you can play with your model and try to get as accurate translations as possible. **Note**: one big issue is out-of-vocabulary words. Try to think of various ways of handling it (you can start with translating each of them to a special **UNK** token and then move to more sophisticated approaches). Good luck!"
   ]
  },
  {
   "cell_type": "code",
   "execution_count": 111,
   "metadata": {
    "cellId": "x6tif5ccx9mydivki7waim",
    "colab": {
     "base_uri": "https://localhost:8080/"
    },
    "id": "17Azt44TW9s3",
    "outputId": "d230d2e5-4c2a-4e18-90cc-5227e3abfade"
   },
   "outputs": [
    {
     "name": "stderr",
     "output_type": "stream",
     "text": [
      "[nltk_data] Downloading package twitter_samples to\n",
      "[nltk_data]     /home/jupyter/nltk_data...\n",
      "[nltk_data]   Package twitter_samples is already up-to-date!\n",
      "[nltk_data] Downloading package stopwords to\n",
      "[nltk_data]     /home/jupyter/nltk_data...\n",
      "[nltk_data]   Package stopwords is already up-to-date!\n"
     ]
    }
   ],
   "source": [
    "import numpy as np\n",
    "import pandas as pd\n",
    "import nltk\n",
    "from nltk.corpus import stopwords\n",
    "from nltk.stem import PorterStemmer\n",
    "from nltk.tokenize import TweetTokenizer\n",
    "from nltk.corpus import stopwords, twitter_samples\n",
    "import re\n",
    "import string\n",
    "\n",
    "nltk.download('twitter_samples')\n",
    "nltk.download('stopwords')\n",
    "\n",
    "def process_tweet(tweet):\n",
    "    '''\n",
    "    Input:\n",
    "        tweet: a string containing a tweet\n",
    "    Output:\n",
    "        tweets_clean: a list of words containing the processed tweet\n",
    "\n",
    "    '''\n",
    "    stemmer = PorterStemmer()\n",
    "    stopwords_english = stopwords.words('english')\n",
    "    # remove stock market tickers like $GE\n",
    "    tweet = re.sub(r'\\$\\w*', '', tweet)\n",
    "    # remove old style retweet text \"RT\"\n",
    "    tweet = re.sub(r'^RT[\\s]+', '', tweet)\n",
    "    # remove hyperlinks\n",
    "    tweet = re.sub(r'https?:\\/\\/.*[\\r\\n]*', '', tweet)\n",
    "    # remove hashtags\n",
    "    # only removing the hash # sign from the word\n",
    "    tweet = re.sub(r'#', '', tweet)\n",
    "    # tokenize tweets\n",
    "    tokenizer = TweetTokenizer(preserve_case=False, strip_handles=True,\n",
    "                               reduce_len=True)\n",
    "    tweet_tokens = tokenizer.tokenize(tweet)\n",
    "\n",
    "    tweets_clean = []\n",
    "    for word in tweet_tokens:\n",
    "        # if (word not in stopwords_english and  # remove stopwords\n",
    "        #     word not in string.punctuation):  # remove punctuation\n",
    "        if word not in string.punctuation:\n",
    "            tweets_clean.append(word)\n",
    "            # stem_word = stemmer.stem(word)  # stemming word\n",
    "            # tweets_clean.append(stem_word)\n",
    "\n",
    "    return \" \".join(tweets_clean)"
   ]
  },
  {
   "cell_type": "code",
   "execution_count": 112,
   "metadata": {
    "cellId": "tr8fm5r9w5iryyrr8y5p",
    "colab": {
     "base_uri": "https://localhost:8080/"
    },
    "id": "nawoCF7kXLyE",
    "outputId": "ec0bff98-a916-4e23-d096-ffd0d94913e7"
   },
   "outputs": [
    {
     "data": {
      "text/plain": [
       "['#FollowFriday @wncer1 @Defense_gouv for being top influencers in my community this week :)',\n",
       " \"Who Wouldn't Love These Big....Juicy....Selfies :) - http://t.co/QVzjgd1uFo http://t.co/oWBL11eQRY\",\n",
       " '@Mish23615351  follow @jnlazts &amp; http://t.co/RCvcYYO0Iq follow u back :)',\n",
       " \"@jjulieredburn Perfect, so you already know what's waiting for you :)\",\n",
       " 'Great new opportunity for junior triathletes aged 12 and 13 at the Gatorade series! Get your entries in :) http://t.co/of3DyOzML0']"
      ]
     },
     "execution_count": 112,
     "metadata": {},
     "output_type": "execute_result"
    }
   ],
   "source": [
    "twitter_samples.strings('positive_tweets.json')[10:15]"
   ]
  },
  {
   "cell_type": "code",
   "execution_count": 113,
   "metadata": {
    "cellId": "dp7tz9bcggohwv6puga42",
    "colab": {
     "base_uri": "https://localhost:8080/"
    },
    "id": "6XW5avSmX1CD",
    "outputId": "0eea70b4-9726-46f8-dbef-fc948a2d0b7f"
   },
   "outputs": [
    {
     "name": "stdout",
     "output_type": "stream",
     "text": [
      "#FollowFriday @wncer1 @Defense_gouv for being top influencers in my community this week :)\n",
      "\n",
      "followfriday for being top influencers in my community this week :)\n",
      "-----------------\n",
      "Who Wouldn't Love These Big....Juicy....Selfies :) - http://t.co/QVzjgd1uFo http://t.co/oWBL11eQRY\n",
      "\n",
      "who wouldn't love these big ... juicy ... selfies :)\n",
      "-----------------\n",
      "@Mish23615351  follow @jnlazts &amp; http://t.co/RCvcYYO0Iq follow u back :)\n",
      "\n",
      "follow\n",
      "-----------------\n",
      "@jjulieredburn Perfect, so you already know what's waiting for you :)\n",
      "\n",
      "perfect so you already know what's waiting for you :)\n",
      "-----------------\n",
      "Great new opportunity for junior triathletes aged 12 and 13 at the Gatorade series! Get your entries in :) http://t.co/of3DyOzML0\n",
      "\n",
      "great new opportunity for junior triathletes aged 12 and 13 at the gatorade series get your entries in :)\n",
      "-----------------\n"
     ]
    }
   ],
   "source": [
    "for i in twitter_samples.strings('positive_tweets.json')[10:15]:\n",
    "    print(i, process_tweet(i), sep='\\n\\n', end='\\n-----------------\\n')"
   ]
  },
  {
   "cell_type": "markdown",
   "metadata": {
    "cellId": "w0ceiwu11nave0p1cuolil",
    "execution_id": "44233d9d-acf8-4e7e-a54e-80db31ea4cc9",
    "id": "x4zEK62iaxzc"
   },
   "source": [
    "Your translation:"
   ]
  },
  {
   "cell_type": "code",
   "execution_count": 114,
   "metadata": {
    "cellId": "o4knpa5m01pn7a4cq1vxm",
    "id": "9-lFLSclXDip"
   },
   "outputs": [
    {
     "name": "stdout",
     "output_type": "stream",
     "text": [
      "#FollowFriday @France_Inte @PKuchly57 @Milipol_Paris for being top engaged members in my community this week :)\n",
      "\n",
      "followfriday for being top engaged members in my community this week :)\n",
      "\n",
      "twitt pour être top engagé membres dans mon communauté cette semaine :)\n",
      "-----------------\n",
      "@Lamb2ja Hey James! How odd :/ Please call our Contact Centre on 02392441234 and we will be able to assist you :) Many thanks!\n",
      "\n",
      "hey james how odd :/ please call our contact centre on 02392441234 and we will be able to assist you :) many thanks\n",
      "\n",
      "hey christopher comment bizarre :/ veuillez appeler notre contacter centre sur 02392441234 et nous pourra être puisse amener aider vous :) nombreux merci\n",
      "-----------------\n",
      "@DespiteOfficial we had a listen last night :) As You Bleed is an amazing track. When are you in Scotland?!\n",
      "\n",
      "we had a listen last night :) as you bleed is an amazing track when are you in scotland\n",
      "\n",
      "nous avait un écouter dernière nuit :) comme vous saigner est un incroyable track quand sont vous dans ecosse\n",
      "-----------------\n",
      "@97sides CONGRATS :)\n",
      "\n",
      "congrats :)\n",
      "\n",
      "félicitation :)\n",
      "-----------------\n",
      "yeaaaah yippppy!!!  my accnt verified rqst has succeed got a blue tick mark on my fb profile :) in 15 days\n",
      "\n",
      "yeaaah yipppy my accnt verified rqst has succeed got a blue tick mark on my fb profile :) in 15 days\n",
      "\n",
      "hahaha UNK mon cic vérifiée UNK été réussir avais un bleu tique marquer sur mon fb profil :) dans 15 jours\n",
      "-----------------\n",
      "@BhaktisBanter @PallaviRuhail This one is irresistible :)\n",
      "#FlipkartFashionFriday http://t.co/EbZ0L2VENM\n",
      "\n",
      "this one is irresistible :) flipkartfashionfriday\n",
      "\n",
      "cette autre est irrésistible :) UNK\n",
      "-----------------\n",
      "We don't like to keep our lovely customers waiting for long! We hope you enjoy! Happy Friday! - LWWF :) https://t.co/smyYriipxI\n",
      "\n",
      "we don't like to keep our lovely customers waiting for long we hope you enjoy happy friday lwwf :)\n",
      "\n",
      "nous peux \" c veux amener garder notre joli clients attendre pour longue nous espère vous savourer heureux samedi UNK :)\n",
      "-----------------\n",
      "@Impatientraider On second thought, there’s just not enough time for a DD :) But new shorts entering system. Sheep must be buying.\n",
      "\n",
      "on second thought there ’ s just not enough time for a dd :) but new shorts entering system sheep must be buying\n",
      "\n",
      "sur deuxième pensé évident c c juste pas suffisamment temps pour un enfnat :) mais nouveau shorts entrant système brebis doit être acheter\n",
      "-----------------\n",
      "Jgh , but we have to go to Bayan :D bye\n",
      "\n",
      "jgh but we have to go to bayan :D bye\n",
      "\n",
      "UNK mais nous ont amener aller amener bayan : R aurevoir\n",
      "-----------------\n",
      "As an act of mischievousness, am calling the ETL layer of our in-house warehousing app Katamari.\n",
      "\n",
      "Well… as the name implies :p.\n",
      "\n",
      "as an act of mischievousness am calling the etl layer of our in-house warehousing app katamari well … as the name implies :p\n",
      "\n",
      "comme un acte de espièglerie suis appeler dans ged couche de notre dans ( maison entrepôts appli bomberman bien … comme dans nom sous-entend : p\n",
      "-----------------\n"
     ]
    }
   ],
   "source": [
    "for i in twitter_samples.strings('positive_tweets.json')[:10]:\n",
    "    print(i, process_tweet(i), translate(process_tweet(i)), sep='\\n\\n', end='\\n-----------------\\n')"
   ]
  },
  {
   "cell_type": "markdown",
   "metadata": {
    "cellId": "p7tso4sn26qgq9umofn55d",
    "id": "PXMxWUtipDD8"
   },
   "source": [
    "Great! "
   ]
  }
 ],
 "metadata": {
  "anaconda-cloud": {},
  "colab": {
   "machine_shape": "hm",
   "provenance": []
  },
  "language_info": {
   "codemirror_mode": {
    "name": "ipython",
    "version": 3
   },
   "file_extension": ".py",
   "mimetype": "text/x-python",
   "name": "python",
   "nbconvert_exporter": "python",
   "pygments_lexer": "ipython3",
   "version": "3.7.7"
  },
  "notebookId": "e7bd8184-ebc8-4093-853e-f5637845c3d4",
  "notebookPath": "MLCourse/homeworks_advanced/Lab01_UMT/Lab_NLP_part1_Embedding_based_MT.ipynb"
 },
 "nbformat": 4,
 "nbformat_minor": 4
}
