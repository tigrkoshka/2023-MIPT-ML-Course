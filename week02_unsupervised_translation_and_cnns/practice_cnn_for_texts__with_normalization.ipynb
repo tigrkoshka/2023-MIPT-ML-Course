{
  "cells": [
    {
      "cell_type": "markdown",
      "metadata": {
        "id": "13pL--6rycN3"
      },
      "source": [
        "# Practice: Dealing with texts using CNN\n",
        "_Reference: Based on YSDA [materials](https://github.com/yandexdataschool/nlp_course/blob/master/week02_classification/seminar.ipynb). Special thanks to [Oleg Vasilev](https://github.com/Omrigan/) for the core assignment idea._\n",
        "\n",
        "Today we're gonna apply the newly learned tools for the task of predicting job salary.\n",
        "\n",
        "<img src=\"https://storage.googleapis.com/kaggle-competitions/kaggle/3342/media/salary%20prediction%20engine%20v2.png\" width=400px>"
      ]
    },
    {
      "cell_type": "markdown",
      "metadata": {
        "id": "34x92vWQycN_"
      },
      "source": [
        "## About the challenge\n",
        "For starters, let's download and unpack the data.\n",
        "\n",
        "You can also get it from [Yandex.Disk](https://yadi.sk/d/vVEOWPFY3NruT7) or [the competition page](https://www.kaggle.com/c/job-salary-prediction/data) (pick `Train_rev1.*`)."
      ]
    },
    {
      "cell_type": "code",
      "execution_count": 1,
      "metadata": {
        "colab": {
          "base_uri": "https://localhost:8080/"
        },
        "id": "vwN72gd4ycOA",
        "outputId": "3a2b7acf-505f-49fe-9cfd-8783d8d188a6"
      },
      "outputs": [
        {
          "output_type": "stream",
          "name": "stdout",
          "text": [
            "  % Total    % Received % Xferd  Average Speed   Time    Time     Time  Current\n",
            "                                 Dload  Upload   Total   Spent    Left  Speed\n",
            "100   128    0   128    0     0    358      0 --:--:-- --:--:-- --:--:--   358\n",
            "100   342  100   342    0     0    379      0 --:--:-- --:--:-- --:--:--     0\n",
            "100  119M  100  119M    0     0  9712k      0  0:00:12  0:00:12 --:--:-- 11.9M\n"
          ]
        }
      ],
      "source": [
        "!curl -L \"https://www.dropbox.com/s/5msc5ix7ndyba10/Train_rev1.csv.tar.gz?dl=1\" -o Train_rev1.csv.tar.gz\n",
        "!tar xzf Train_rev1.csv.tar.gz"
      ]
    },
    {
      "cell_type": "code",
      "execution_count": 2,
      "metadata": {
        "colab": {
          "base_uri": "https://localhost:8080/"
        },
        "outputId": "14138a04-5ce1-4311-f2bc-d615b774179e",
        "id": "xIjzhbXEpHfT"
      },
      "outputs": [
        {
          "output_type": "execute_result",
          "data": {
            "text/plain": [
              "(244768, 12)"
            ]
          },
          "metadata": {},
          "execution_count": 2
        }
      ],
      "source": [
        "import pandas as pd\n",
        "\n",
        "\n",
        "data = pd.read_csv(\"Train_rev1.csv\", index_col=None)\n",
        "data.shape"
      ]
    },
    {
      "cell_type": "markdown",
      "metadata": {
        "id": "z7kznuJfycOH"
      },
      "source": [
        "One problem with salary prediction is that it's oddly distributed: there are many people who are paid standard salaries and a few that get tons o money. The distribution is fat-tailed on the right side, which is inconvenient for MSE minimization.\n",
        "\n",
        "There are several techniques to combat this: using a different loss function, predicting log-target instead of raw target or even replacing targets with their percentiles among all salaries in the training set. We gonna use logarithm for now."
      ]
    },
    {
      "cell_type": "code",
      "source": [
        "\n",
        "data.info()"
      ],
      "metadata": {
        "id": "vgGbDJpQO2lH",
        "outputId": "32cbf314-eff7-43c5-cab0-14940e1c895f",
        "colab": {
          "base_uri": "https://localhost:8080/"
        }
      },
      "execution_count": 5,
      "outputs": [
        {
          "output_type": "stream",
          "name": "stdout",
          "text": [
            "<class 'pandas.core.frame.DataFrame'>\n",
            "RangeIndex: 244768 entries, 0 to 244767\n",
            "Data columns (total 13 columns):\n",
            " #   Column              Non-Null Count   Dtype  \n",
            "---  ------              --------------   -----  \n",
            " 0   Id                  244768 non-null  int64  \n",
            " 1   Title               244767 non-null  object \n",
            " 2   FullDescription     244768 non-null  object \n",
            " 3   LocationRaw         244768 non-null  object \n",
            " 4   LocationNormalized  244768 non-null  object \n",
            " 5   ContractType        65442 non-null   object \n",
            " 6   ContractTime        180863 non-null  object \n",
            " 7   Company             212338 non-null  object \n",
            " 8   Category            244768 non-null  object \n",
            " 9   SalaryRaw           244768 non-null  object \n",
            " 10  SalaryNormalized    244768 non-null  int64  \n",
            " 11  SourceName          244767 non-null  object \n",
            " 12  Log1pSalary         244768 non-null  float32\n",
            "dtypes: float32(1), int64(2), object(10)\n",
            "memory usage: 23.3+ MB\n"
          ]
        }
      ]
    },
    {
      "cell_type": "code",
      "source": [
        "plt.plot(np.arange(1, 1000, 0.1), np.log(np.arange(1, 1000, 0.1)))"
      ],
      "metadata": {
        "id": "Iofrz23JP1rX",
        "outputId": "ec7c1712-72fe-48fb-df17-2886fa40e4c4",
        "colab": {
          "base_uri": "https://localhost:8080/",
          "height": 303
        }
      },
      "execution_count": 9,
      "outputs": [
        {
          "output_type": "execute_result",
          "data": {
            "text/plain": [
              "[<matplotlib.lines.Line2D at 0x7fd6dd5c7040>]"
            ]
          },
          "metadata": {},
          "execution_count": 9
        },
        {
          "output_type": "display_data",
          "data": {
            "text/plain": [
              "<Figure size 432x288 with 1 Axes>"
            ],
            "image/png": "[encoded data removed]"
          },
          "metadata": {
            "needs_background": "light"
          }
        }
      ]
    },
    {
      "cell_type": "code",
      "source": [
        "np.sum(np.array(np.array(data[\"SalaryNormalized\"]).astype(\"float32\") > 150000, dtype=int))"
      ],
      "metadata": {
        "id": "7Z53bAFgQJrm",
        "outputId": "92eda2c2-000d-41d8-d1d0-02db89a1e44a",
        "colab": {
          "base_uri": "https://localhost:8080/"
        }
      },
      "execution_count": 22,
      "outputs": [
        {
          "output_type": "execute_result",
          "data": {
            "text/plain": [
              "60"
            ]
          },
          "metadata": {},
          "execution_count": 22
        }
      ]
    },
    {
      "cell_type": "code",
      "source": [
        "data[\"SalaryNormalized\"].values"
      ],
      "metadata": {
        "id": "ixxMMjLOQoi_",
        "outputId": "8bbb6a69-5dba-4f8f-f2dd-50d24f707ee2",
        "colab": {
          "base_uri": "https://localhost:8080/"
        }
      },
      "execution_count": 19,
      "outputs": [
        {
          "output_type": "execute_result",
          "data": {
            "text/plain": [
              "array([25000, 30000, 30000, ..., 22800, 22800, 42500])"
            ]
          },
          "metadata": {},
          "execution_count": 19
        }
      ]
    },
    {
      "cell_type": "code",
      "source": [
        "np.array(data[\"SalaryNormalized\"]).astype(\"float32\")"
      ],
      "metadata": {
        "id": "mJr6XTHRQhVJ",
        "outputId": "74683404-99b4-4b13-cb80-83323efdf927",
        "colab": {
          "base_uri": "https://localhost:8080/"
        }
      },
      "execution_count": 20,
      "outputs": [
        {
          "output_type": "execute_result",
          "data": {
            "text/plain": [
              "array([25000., 30000., 30000., ..., 22800., 22800., 42500.], dtype=float32)"
            ]
          },
          "metadata": {},
          "execution_count": 20
        }
      ]
    },
    {
      "cell_type": "code",
      "source": [
        "|plt.figure(figsize=[8, 8])\n",
        "plt.hist(data[\"SalaryNormalized\"], bins=50)\n"
      ],
      "metadata": {
        "id": "Fgf0aw6xPOJR",
        "outputId": "465741af-8483-4917-f067-2c033019bb92",
        "colab": {
          "base_uri": "https://localhost:8080/",
          "height": 833
        }
      },
      "execution_count": 8,
      "outputs": [
        {
          "output_type": "execute_result",
          "data": {
            "text/plain": [
              "(array([1.2780e+03, 6.6330e+03, 2.1225e+04, 2.6960e+04, 2.5728e+04,\n",
              "        2.9043e+04, 2.2905e+04, 2.5611e+04, 2.0010e+04, 9.0250e+03,\n",
              "        1.2706e+04, 8.0400e+03, 8.4660e+03, 2.7830e+03, 7.1170e+03,\n",
              "        3.4080e+03, 2.8230e+03, 2.7610e+03, 1.1300e+03, 1.6880e+03,\n",
              "        1.3590e+03, 1.8260e+03, 3.6300e+02, 8.5000e+02, 7.3400e+02,\n",
              "        1.3000e+01, 3.5000e+01, 0.0000e+00, 9.0000e+00, 3.9000e+01,\n",
              "        4.0000e+00, 2.0000e+00, 1.3000e+01, 6.8000e+01, 1.0000e+01,\n",
              "        2.0000e+01, 0.0000e+00, 2.5000e+01, 8.0000e+00, 3.0000e+00,\n",
              "        2.0000e+00, 4.0000e+00, 1.0000e+00, 1.2000e+01, 9.0000e+00,\n",
              "        1.0000e+00, 0.0000e+00, 8.0000e+00, 0.0000e+00, 1.0000e+01]),\n",
              " array([  5000.,   8900.,  12800.,  16700.,  20600.,  24500.,  28400.,\n",
              "         32300.,  36200.,  40100.,  44000.,  47900.,  51800.,  55700.,\n",
              "         59600.,  63500.,  67400.,  71300.,  75200.,  79100.,  83000.,\n",
              "         86900.,  90800.,  94700.,  98600., 102500., 106400., 110300.,\n",
              "        114200., 118100., 122000., 125900., 129800., 133700., 137600.,\n",
              "        141500., 145400., 149300., 153200., 157100., 161000., 164900.,\n",
              "        168800., 172700., 176600., 180500., 184400., 188300., 192200.,\n",
              "        196100., 200000.]),\n",
              " <a list of 50 Patch objects>)"
            ]
          },
          "metadata": {},
          "execution_count": 8
        },
        {
          "output_type": "display_data",
          "data": {
            "text/plain": [
              "<Figure size 576x576 with 1 Axes>"
            ],
            "image/png": "[encoded data removed]"
          },
          "metadata": {
            "needs_background": "light"
          }
        }
      ]
    },
    {
      "cell_type": "code",
      "execution_count": 3,
      "metadata": {
        "colab": {
          "base_uri": "https://localhost:8080/",
          "height": 286
        },
        "id": "UuuKIKfrycOH",
        "outputId": "bd4ab73b-4de6-4afa-ccb4-8f4eeaa1320a"
      },
      "outputs": [
        {
          "output_type": "display_data",
          "data": {
            "text/plain": [
              "<Figure size 576x288 with 2 Axes>"
            ],
            "image/png": "[encoded data removed]"
          },
          "metadata": {
            "needs_background": "light"
          }
        }
      ],
      "source": [
        "import matplotlib.pyplot as plt\n",
        "import numpy as np\n",
        "\n",
        "\n",
        "data[\"Log1pSalary\"] = np.log1p(data[\"SalaryNormalized\"]).astype(\"float32\")\n",
        "\n",
        "plt.figure(figsize=[8, 4])\n",
        "plt.subplot(1, 2, 1)\n",
        "plt.hist(data[\"SalaryNormalized\"], bins=20)\n",
        "\n",
        "plt.subplot(1, 2, 2)\n",
        "plt.hist(data[\"Log1pSalary\"], bins=20)\n",
        "\n",
        "plt.show()"
      ]
    },
    {
      "cell_type": "markdown",
      "metadata": {
        "id": "Fcu-qmHRycOK"
      },
      "source": [
        "Our task is to predict one number, __Log1pSalary__.\n",
        "\n",
        "To do so, our model can access a number of features:\n",
        "* Free text: __`Title`__ and  __`FullDescription`__\n",
        "* Categorical: __`Category`__, __`Company`__, __`LocationNormalized`__, __`ContractType`__, and __`ContractTime`__."
      ]
    },
    {
      "cell_type": "code",
      "execution_count": 23,
      "metadata": {
        "colab": {
          "base_uri": "https://localhost:8080/",
          "height": 398
        },
        "id": "p9vyA_erycOK",
        "outputId": "dbfea227-52cc-4eb9-9a17-b54f2c576374"
      },
      "outputs": [
        {
          "output_type": "execute_result",
          "data": {
            "text/plain": [
              "              Id                                              Title  \\\n",
              "197004  71830381  Trade Finance / Corporate Banking Relationship...   \n",
              "164053  71231758                Medical Affairs/Drug Safety Manager   \n",
              "121485  69932949      Leisure Facility Supervisor (Evening Weekend)   \n",
              "\n",
              "                                          FullDescription  \\\n",
              "197004  My client, a leading Asian investment bank, ar...   \n",
              "164053  Introduction A great opportunity for an experi...   \n",
              "121485  Leisure Facility Supervisor (Evening Learning ...   \n",
              "\n",
              "                           LocationRaw LocationNormalized ContractType  \\\n",
              "197004                          London             London          NaN   \n",
              "164053                       Berkshire          Berkshire    full_time   \n",
              "121485  Milton Keynes, Buckinghamshire      Milton Keynes    part_time   \n",
              "\n",
              "       ContractTime                    Company                   Category  \\\n",
              "197004          NaN             Selby Jennings  Accounting & Finance Jobs   \n",
              "164053          NaN  Carrot Pharma Recruitment         Other/General Jobs   \n",
              "121485          NaN                  R21 Media                Travel Jobs   \n",
              "\n",
              "                                    SalaryRaw  SalaryNormalized  \\\n",
              "197004                38000 - 42000 per annum             40000   \n",
              "164053  60000 per annum + Competitive Package             60000   \n",
              "121485                    15983 - 19462/annum             17722   \n",
              "\n",
              "                 SourceName  Log1pSalary  \n",
              "197004    eFinancialCareers    10.596660  \n",
              "164053  wileyjobnetwork.com    11.002116  \n",
              "121485     cv-library.co.uk     9.782619  "
            ],
            "text/html": [
              "\n",
              "  <div id=\"df-f1e55e66-7224-464a-9147-96b78e26f97e\">\n",
              "    <div class=\"colab-df-container\">\n",
              "      <div>\n",
              "<style scoped>\n",
              "    .dataframe tbody tr th:only-of-type {\n",
              "        vertical-align: middle;\n",
              "    }\n",
              "\n",
              "    .dataframe tbody tr th {\n",
              "        vertical-align: top;\n",
              "    }\n",
              "\n",
              "    .dataframe thead th {\n",
              "        text-align: right;\n",
              "    }\n",
              "</style>\n",
              "<table border=\"1\" class=\"dataframe\">\n",
              "  <thead>\n",
              "    <tr style=\"text-align: right;\">\n",
              "      <th></th>\n",
              "      <th>Id</th>\n",
              "      <th>Title</th>\n",
              "      <th>FullDescription</th>\n",
              "      <th>LocationRaw</th>\n",
              "      <th>LocationNormalized</th>\n",
              "      <th>ContractType</th>\n",
              "      <th>ContractTime</th>\n",
              "      <th>Company</th>\n",
              "      <th>Category</th>\n",
              "      <th>SalaryRaw</th>\n",
              "      <th>SalaryNormalized</th>\n",
              "      <th>SourceName</th>\n",
              "      <th>Log1pSalary</th>\n",
              "    </tr>\n",
              "  </thead>\n",
              "  <tbody>\n",
              "    <tr>\n",
              "      <th>197004</th>\n",
              "      <td>71830381</td>\n",
              "      <td>Trade Finance / Corporate Banking Relationship...</td>\n",
              "      <td>My client, a leading Asian investment bank, ar...</td>\n",
              "      <td>London</td>\n",
              "      <td>London</td>\n",
              "      <td>NaN</td>\n",
              "      <td>NaN</td>\n",
              "      <td>Selby Jennings</td>\n",
              "      <td>Accounting &amp; Finance Jobs</td>\n",
              "      <td>38000 - 42000 per annum</td>\n",
              "      <td>40000</td>\n",
              "      <td>eFinancialCareers</td>\n",
              "      <td>10.596660</td>\n",
              "    </tr>\n",
              "    <tr>\n",
              "      <th>164053</th>\n",
              "      <td>71231758</td>\n",
              "      <td>Medical Affairs/Drug Safety Manager</td>\n",
              "      <td>Introduction A great opportunity for an experi...</td>\n",
              "      <td>Berkshire</td>\n",
              "      <td>Berkshire</td>\n",
              "      <td>full_time</td>\n",
              "      <td>NaN</td>\n",
              "      <td>Carrot Pharma Recruitment</td>\n",
              "      <td>Other/General Jobs</td>\n",
              "      <td>60000 per annum + Competitive Package</td>\n",
              "      <td>60000</td>\n",
              "      <td>wileyjobnetwork.com</td>\n",
              "      <td>11.002116</td>\n",
              "    </tr>\n",
              "    <tr>\n",
              "      <th>121485</th>\n",
              "      <td>69932949</td>\n",
              "      <td>Leisure Facility Supervisor (Evening Weekend)</td>\n",
              "      <td>Leisure Facility Supervisor (Evening Learning ...</td>\n",
              "      <td>Milton Keynes, Buckinghamshire</td>\n",
              "      <td>Milton Keynes</td>\n",
              "      <td>part_time</td>\n",
              "      <td>NaN</td>\n",
              "      <td>R21 Media</td>\n",
              "      <td>Travel Jobs</td>\n",
              "      <td>15983 - 19462/annum</td>\n",
              "      <td>17722</td>\n",
              "      <td>cv-library.co.uk</td>\n",
              "      <td>9.782619</td>\n",
              "    </tr>\n",
              "  </tbody>\n",
              "</table>\n",
              "</div>\n",
              "      <button class=\"colab-df-convert\" onclick=\"convertToInteractive('df-f1e55e66-7224-464a-9147-96b78e26f97e')\"\n",
              "              title=\"Convert this dataframe to an interactive table.\"\n",
              "              style=\"display:none;\">\n",
              "        \n",
              "  <svg xmlns=\"http://www.w3.org/2000/svg\" height=\"24px\"viewBox=\"0 0 24 24\"\n",
              "       width=\"24px\">\n",
              "    <path d=\"M0 0h24v24H0V0z\" fill=\"none\"/>\n",
              "    <path d=\"M18.56 5.44l.94 2.06.94-2.06 2.06-.94-2.06-.94-.94-2.06-.94 2.06-2.06.94zm-11 1L8.5 8.5l.94-2.06 2.06-.94-2.06-.94L8.5 2.5l-.94 2.06-2.06.94zm10 10l.94 2.06.94-2.06 2.06-.94-2.06-.94-.94-2.06-.94 2.06-2.06.94z\"/><path d=\"M17.41 7.96l-1.37-1.37c-.4-.4-.92-.59-1.43-.59-.52 0-1.04.2-1.43.59L10.3 9.45l-7.72 7.72c-.78.78-.78 2.05 0 2.83L4 21.41c.39.39.9.59 1.41.59.51 0 1.02-.2 1.41-.59l7.78-7.78 2.81-2.81c.8-.78.8-2.07 0-2.86zM5.41 20L4 18.59l7.72-7.72 1.47 1.35L5.41 20z\"/>\n",
              "  </svg>\n",
              "      </button>\n",
              "      \n",
              "  <style>\n",
              "    .colab-df-container {\n",
              "      display:flex;\n",
              "      flex-wrap:wrap;\n",
              "      gap: 12px;\n",
              "    }\n",
              "\n",
              "    .colab-df-convert {\n",
              "      background-color: #E8F0FE;\n",
              "      border: none;\n",
              "      border-radius: 50%;\n",
              "      cursor: pointer;\n",
              "      display: none;\n",
              "      fill: #1967D2;\n",
              "      height: 32px;\n",
              "      padding: 0 0 0 0;\n",
              "      width: 32px;\n",
              "    }\n",
              "\n",
              "    .colab-df-convert:hover {\n",
              "      background-color: #E2EBFA;\n",
              "      box-shadow: 0px 1px 2px rgba(60, 64, 67, 0.3), 0px 1px 3px 1px rgba(60, 64, 67, 0.15);\n",
              "      fill: #174EA6;\n",
              "    }\n",
              "\n",
              "    [theme=dark] .colab-df-convert {\n",
              "      background-color: #3B4455;\n",
              "      fill: #D2E3FC;\n",
              "    }\n",
              "\n",
              "    [theme=dark] .colab-df-convert:hover {\n",
              "      background-color: #434B5C;\n",
              "      box-shadow: 0px 1px 3px 1px rgba(0, 0, 0, 0.15);\n",
              "      filter: drop-shadow(0px 1px 2px rgba(0, 0, 0, 0.3));\n",
              "      fill: #FFFFFF;\n",
              "    }\n",
              "  </style>\n",
              "\n",
              "      <script>\n",
              "        const buttonEl =\n",
              "          document.querySelector('#df-f1e55e66-7224-464a-9147-96b78e26f97e button.colab-df-convert');\n",
              "        buttonEl.style.display =\n",
              "          google.colab.kernel.accessAllowed ? 'block' : 'none';\n",
              "\n",
              "        async function convertToInteractive(key) {\n",
              "          const element = document.querySelector('#df-f1e55e66-7224-464a-9147-96b78e26f97e');\n",
              "          const dataTable =\n",
              "            await google.colab.kernel.invokeFunction('convertToInteractive',\n",
              "                                                     [key], {});\n",
              "          if (!dataTable) return;\n",
              "\n",
              "          const docLinkHtml = 'Like what you see? Visit the ' +\n",
              "            '<a target=\"_blank\" href=https://colab.research.google.com/notebooks/data_table.ipynb>data table notebook</a>'\n",
              "            + ' to learn more about interactive tables.';\n",
              "          element.innerHTML = '';\n",
              "          dataTable['output_type'] = 'display_data';\n",
              "          await google.colab.output.renderOutput(dataTable, element);\n",
              "          const docLink = document.createElement('div');\n",
              "          docLink.innerHTML = docLinkHtml;\n",
              "          element.appendChild(docLink);\n",
              "        }\n",
              "      </script>\n",
              "    </div>\n",
              "  </div>\n",
              "  "
            ]
          },
          "metadata": {},
          "execution_count": 23
        }
      ],
      "source": [
        "text_columns = [\"Title\", \"FullDescription\"]\n",
        "categorical_columns = [\"Category\", \"Company\", \"LocationNormalized\", \"ContractType\", \"ContractTime\"]\n",
        "target_column = \"Log1pSalary\"\n",
        "\n",
        "data[categorical_columns] = data[categorical_columns].fillna(\"NaN\")\n",
        "data[text_columns] = data[text_columns].fillna(\"NaN\")\n",
        "\n",
        "data.sample(3)"
      ]
    },
    {
      "cell_type": "markdown",
      "metadata": {
        "id": "IUdclucmycON"
      },
      "source": [
        "## Preprocessing text data\n",
        "\n",
        "Just like last week, applying NLP to a problem begins from tokenization: splitting raw text into sequences of tokens (words, punctuation, etc).\n",
        "\n",
        "__Your task__ is to lowercase and tokenize all texts under `Title` and `FullDescription` columns. Store the tokenized data as a __space-separated__ string of tokens for performance reasons.\n",
        "\n",
        "It's okay to use nltk tokenizers. Assertions were designed for WordPunctTokenizer, slight deviations are okay."
      ]
    },
    {
      "cell_type": "code",
      "execution_count": 24,
      "metadata": {
        "colab": {
          "base_uri": "https://localhost:8080/"
        },
        "id": "YzeOxD_aycOO",
        "outputId": "9699088c-1fc3-48a5-9921-f36037bb77ba"
      },
      "outputs": [
        {
          "output_type": "stream",
          "name": "stdout",
          "text": [
            "Raw text:\n",
            "2         Mathematical Modeller / Simulation Analyst / O...\n",
            "100002    A successful and high achieving specialist sch...\n",
            "200002    Web Designer  HTML, CSS, JavaScript, Photoshop...\n",
            "Name: FullDescription, dtype: object\n"
          ]
        }
      ],
      "source": [
        "print(\"Raw text:\")\n",
        "print(data[\"FullDescription\"][2::100000])"
      ]
    },
    {
      "cell_type": "code",
      "execution_count": 25,
      "metadata": {
        "id": "RUWkpd7PycOQ"
      },
      "outputs": [],
      "source": [
        "from nltk.tokenize import WordPunctTokenizer\n",
        "\n",
        "\n",
        "tokenizer = WordPunctTokenizer()\n",
        "\n",
        "# YOUR CODE HERE\n",
        "# Lowercase and tokenize titles and descriptions (text_columns).\n",
        "# Store items as space-separated strings of tokens.\n",
        "def normalize(text):  # noqa: E302\n",
        "    tokens = tokenizer.tokenize(str(text).lower())\n",
        "    return \" \".join(tokens)\n",
        "\n",
        "\n",
        "data[text_columns] = data[text_columns].applymap(normalize)"
      ]
    },
    {
      "cell_type": "code",
      "execution_count": 26,
      "metadata": {
        "colab": {
          "base_uri": "https://localhost:8080/"
        },
        "id": "Gs-6lnS_ycOU",
        "outputId": "910b1a67-901e-4faf-d9a6-edf20b6f835f"
      },
      "outputs": [
        {
          "output_type": "stream",
          "name": "stdout",
          "text": [
            "Tokenized:\n",
            "2         mathematical modeller / simulation analyst / o...\n",
            "100002    a successful and high achieving specialist sch...\n",
            "200002    web designer html , css , javascript , photosh...\n",
            "Name: FullDescription, dtype: object\n"
          ]
        }
      ],
      "source": [
        "print(\"Tokenized:\")\n",
        "print(data[\"FullDescription\"][2::100000])\n",
        "assert data[\"FullDescription\"][2][:50] == \"mathematical modeller / simulation analyst / opera\"\n",
        "assert data[\"Title\"][54321] == \"international digital account manager ( german )\""
      ]
    },
    {
      "cell_type": "markdown",
      "metadata": {
        "id": "ouE3L2hyycOX"
      },
      "source": [
        "Not all words are equally useful. Some of them are typos or rare words that are only present a few times. \n",
        "\n",
        "Let's count how many times is each word present in the data so that we can build a \"white list\" of known words."
      ]
    },
    {
      "cell_type": "code",
      "execution_count": 27,
      "metadata": {
        "id": "iC7hBwwjycOX"
      },
      "outputs": [],
      "source": [
        "from collections import Counter\n",
        "\n",
        "\n",
        "# YOUR CODE HERE\n",
        "# Count how many times does each token occur in both \"Title\" and \"FullDescription\".\n",
        "# Build a dictionary { token -> count }.\n",
        "# Hint: you may or may not want to use collections.Counter\n",
        "# token_counts =\n",
        "token_counts = Counter()\n",
        "for text in data[text_columns].values.flatten():\n",
        "    token_counts.update(text.split(\" \"))"
      ]
    },
    {
      "cell_type": "code",
      "execution_count": 29,
      "metadata": {
        "colab": {
          "base_uri": "https://localhost:8080/"
        },
        "id": "GiOWbc15ycOb",
        "outputId": "046f3d6b-06ae-4bce-f3db-3e8945c956d4"
      },
      "outputs": [
        {
          "output_type": "stream",
          "name": "stdout",
          "text": [
            "Total unique tokens : 202704\n",
            "('and', 2657388)\n",
            "('.', 2523216)\n",
            "(',', 2318606)\n",
            "('the', 2080994)\n",
            "('to', 2019884)\n",
            "...\n",
            "('stephanietraveltraderecruitmnt', 1)\n",
            "('ruabon', 1)\n",
            "('lowehays', 1)\n",
            "Correct!\n"
          ]
        }
      ],
      "source": [
        "print(\"Total unique tokens :\", len(token_counts))\n",
        "print(\"\\n\".join(map(str, token_counts.most_common(n=5))))\n",
        "print(\"...\")\n",
        "print(\"\\n\".join(map(str, token_counts.most_common()[-3:])))\n",
        "\n",
        "assert token_counts.most_common(1)[0][1] in range(2600000, 2700000)\n",
        "assert len(token_counts) in range(200000, 210000)\n",
        "print(\"Correct!\")"
      ]
    },
    {
      "cell_type": "markdown",
      "source": [
        "Let's see how many words are there for each count."
      ],
      "metadata": {
        "id": "W2ih1LV4YhtL"
      }
    },
    {
      "cell_type": "code",
      "execution_count": 30,
      "metadata": {
        "colab": {
          "base_uri": "https://localhost:8080/",
          "height": 300
        },
        "id": "nd5v3BNfycOf",
        "outputId": "ca856044-d6b4-4a0b-dc7d-651cba3b6072"
      },
      "outputs": [
        {
          "output_type": "display_data",
          "data": {
            "text/plain": [
              "<Figure size 432x288 with 1 Axes>"
            ],
            "image/png": "[encoded data removed]"
          },
          "metadata": {
            "needs_background": "light"
          }
        }
      ],
      "source": [
        "plt.hist(list(token_counts.values()), range=[0, 10 ** 4], bins=50, log=True)\n",
        "plt.xlabel(\"Word counts\")\n",
        "plt.show()"
      ]
    },
    {
      "cell_type": "markdown",
      "metadata": {
        "id": "znuXxeghycOh"
      },
      "source": [
        "Now we will filter tokens a list of all tokens that occur at least 10 times."
      ]
    },
    {
      "cell_type": "code",
      "execution_count": 31,
      "metadata": {
        "id": "SeNFBWx5ycOh"
      },
      "outputs": [],
      "source": [
        "min_count = 10\n",
        "\n",
        "# YOUR CODE HERE\n",
        "# We shall only consider tokens that had at least min_count occurences.\n",
        "# Create a list of such tokens.\n",
        "# tokens = ...\n",
        "tokens = [token for token, count in token_counts.items() if count >= min_count]"
      ]
    },
    {
      "cell_type": "code",
      "execution_count": 32,
      "metadata": {
        "colab": {
          "base_uri": "https://localhost:8080/"
        },
        "id": "RATIRyPKycOk",
        "outputId": "932d736d-3a8d-4ef2-cb63-3bf6e0adf155"
      },
      "outputs": [
        {
          "output_type": "stream",
          "name": "stdout",
          "text": [
            "Vocabulary size: 34158\n",
            "Correct!\n"
          ]
        }
      ],
      "source": [
        "# Add a special tokens for unknown and empty words\n",
        "UNK, PAD = \"UNK\", \"PAD\"\n",
        "tokens = [UNK, PAD] + sorted(tokens)\n",
        "print(\"Vocabulary size:\", len(tokens))\n",
        "\n",
        "assert type(tokens) == list\n",
        "assert len(tokens) in range(32000, 35000)\n",
        "assert \"me\" in tokens\n",
        "assert UNK in tokens\n",
        "print(\"Correct!\")"
      ]
    },
    {
      "cell_type": "markdown",
      "metadata": {
        "id": "cqEsgbjZycOo"
      },
      "source": [
        "Build an inverse token index: a dictionary from token to it's index in `tokens`."
      ]
    },
    {
      "cell_type": "code",
      "execution_count": 33,
      "metadata": {
        "id": "L60lo1l_ycOq"
      },
      "outputs": [],
      "source": [
        "# YOUR CODE HERE\n",
        "# token_to_idx = ...\n",
        "token_to_idx = {token: idx for idx, token in enumerate(tokens)}"
      ]
    },
    {
      "cell_type": "code",
      "execution_count": 34,
      "metadata": {
        "colab": {
          "base_uri": "https://localhost:8080/"
        },
        "id": "DeAoVo4mycOr",
        "outputId": "ce1f4d24-79f7-4547-cb3e-3e7cccca6649"
      },
      "outputs": [
        {
          "output_type": "stream",
          "name": "stdout",
          "text": [
            "Correct!\n"
          ]
        }
      ],
      "source": [
        "assert isinstance(token_to_idx, dict)\n",
        "assert len(token_to_idx) == len(tokens)\n",
        "for tok in tokens:\n",
        "    assert tokens[token_to_idx[tok]] == tok\n",
        "\n",
        "print(\"Correct!\")"
      ]
    },
    {
      "cell_type": "markdown",
      "metadata": {
        "id": "cmJAkq3gycOv"
      },
      "source": [
        "And finally, let's use the vocabulary you've built to map text lines into neural network-digestible matrices."
      ]
    },
    {
      "cell_type": "code",
      "execution_count": 35,
      "metadata": {
        "id": "JEsLeBjVycOw"
      },
      "outputs": [],
      "source": [
        "UNK_IDX = token_to_idx[UNK]\n",
        "PAD_IDX = token_to_idx[PAD]\n",
        "\n",
        "\n",
        "def as_matrix(sequences, max_len=None):\n",
        "    \"\"\"Convert a list of tokens into a matrix with padding\"\"\"\n",
        "    if isinstance(sequences[0], str):\n",
        "        sequences = [seq.split(\" \") for seq in sequences]\n",
        "\n",
        "    sequences_max_len = max(len(seq) for seq in sequences)\n",
        "    if max_len is None:\n",
        "        max_len = sequences_max_len\n",
        "    else:\n",
        "        max_len = min(sequences_max_len, max_len)\n",
        "\n",
        "    matrix = np.full((len(sequences), max_len), PAD_IDX)\n",
        "    for i, seq in enumerate(sequences):\n",
        "        for j, token in enumerate(seq):\n",
        "            if j >= max_len:\n",
        "                break\n",
        "\n",
        "            matrix[i, j] = token_to_idx.get(token, UNK_IDX)\n",
        "\n",
        "    return matrix"
      ]
    },
    {
      "cell_type": "code",
      "execution_count": 36,
      "metadata": {
        "colab": {
          "base_uri": "https://localhost:8080/"
        },
        "id": "JiBlPkdKycOy",
        "outputId": "fa877ffc-305b-4515-d004-ec8f8e72e1d2"
      },
      "outputs": [
        {
          "output_type": "stream",
          "name": "stdout",
          "text": [
            "Lines:\n",
            "engineering systems analyst\n",
            "hr assistant\n",
            "senior ec & i engineer\n",
            "\n",
            "Matrix:\n",
            "[[10807 30161  2166     1     1]\n",
            " [15020  2844     1     1     1]\n",
            " [27645 10201    16 15215 10804]]\n"
          ]
        }
      ],
      "source": [
        "print(\"Lines:\")\n",
        "print(\"\\n\".join(data[\"Title\"][::100000].values), end=\"\\n\\n\")\n",
        "print(\"Matrix:\")\n",
        "print(as_matrix(data[\"Title\"][::100000]))"
      ]
    },
    {
      "cell_type": "markdown",
      "metadata": {
        "id": "nGOdZ3-dycO4"
      },
      "source": [
        "Now let's  encode the categirical data we have.\n",
        "\n",
        "As usual, we shall use one-hot encoding for simplicity. Kudos if you implement more advanced encodings: tf-idf, pseudo-time-series, etc."
      ]
    },
    {
      "cell_type": "code",
      "source": [
        "from sklearn.feature_extraction import DictVectorizer\n",
        "\n",
        "\n",
        "# We only consider top-1k most frequent companies to minimize memory usage\n",
        "company_counts = Counter(data[\"Company\"])\n",
        "top_companies = set(name for name, count in company_counts.most_common(1000))\n",
        "data[\"Company\"] = data[\"Company\"].apply(\n",
        "    lambda company: company if company in top_companies else \"Other\"\n",
        ")\n",
        "\n",
        "categorical_vectorizer = DictVectorizer(dtype=np.float32, sparse=False)\n",
        "categorical_vectorizer.fit(data[categorical_columns].apply(dict, axis=1));"
      ],
      "metadata": {
        "id": "pg12nLQijNJg"
      },
      "execution_count": 37,
      "outputs": []
    },
    {
      "cell_type": "markdown",
      "metadata": {
        "id": "yk4jmtAYycO8"
      },
      "source": [
        "## The deep learning part\n",
        "\n",
        "Once we've learned to tokenize the data, let's design a machine learning experiment.\n",
        "\n",
        "As before, we won't focus too much on validation, opting for a simple train-test split.\n",
        "\n",
        "__To be completely rigorous,__ we've comitted a small crime here: we used the whole data for tokenization and vocabulary building. A more strict way would be to do that part on training set only. You may want to do that and measure the magnitude of changes."
      ]
    },
    {
      "cell_type": "code",
      "execution_count": 38,
      "metadata": {
        "colab": {
          "base_uri": "https://localhost:8080/"
        },
        "id": "TngLcWA0ycO_",
        "outputId": "6444d8e4-7a28-458c-ee10-0fbfb49730b6"
      },
      "outputs": [
        {
          "output_type": "stream",
          "name": "stdout",
          "text": [
            "Train size =  195814\n",
            "Validation size =  48954\n"
          ]
        }
      ],
      "source": [
        "from sklearn.model_selection import train_test_split\n",
        "\n",
        "\n",
        "data_train, data_val = train_test_split(data, test_size=0.2, random_state=42)\n",
        "data_train.index = range(len(data_train))\n",
        "data_val.index = range(len(data_val))\n",
        "\n",
        "print(\"Train size = \", len(data_train))\n",
        "print(\"Validation size = \", len(data_val))"
      ]
    },
    {
      "cell_type": "code",
      "execution_count": 39,
      "metadata": {
        "id": "2PXuKgOSycPB"
      },
      "outputs": [],
      "source": [
        "def make_batch(data, max_len=None, word_dropout=0):\n",
        "    \"\"\"\n",
        "    Creates a neural-network-friendly dict from the batch data.\n",
        "    :param word_dropout: replaces token index with UNK_IDX with this probability\n",
        "    :returns: a dict with {'title' : int64[batch, title_max_len]\n",
        "    \"\"\"\n",
        "    batch = {}\n",
        "    batch[\"Title\"] = as_matrix(data[\"Title\"].values, max_len)\n",
        "    batch[\"FullDescription\"] = as_matrix(data[\"FullDescription\"].values, max_len)\n",
        "    batch[\"Categorical\"] = categorical_vectorizer.transform(\n",
        "        data[categorical_columns].apply(dict, axis=1)\n",
        "    )\n",
        "\n",
        "    if word_dropout != 0:\n",
        "        batch[\"FullDescription\"] = apply_word_dropout(batch[\"FullDescription\"], 1.0 - word_dropout)\n",
        "\n",
        "    if target_column in data.columns:\n",
        "        batch[target_column] = data[target_column].values\n",
        "\n",
        "    return batch\n",
        "\n",
        "\n",
        "def apply_word_dropout(matrix, keep_prob, replace_with=UNK_IDX):\n",
        "    dropout_mask = np.random.choice(2, np.shape(matrix), p=[keep_prob, 1 - keep_prob])\n",
        "    dropout_mask &= matrix != PAD_IDX\n",
        "    return np.choose(dropout_mask, [matrix, np.full_like(matrix, replace_with)])"
      ]
    },
    {
      "cell_type": "code",
      "execution_count": 40,
      "metadata": {
        "id": "I6LpEQf0ycPD",
        "colab": {
          "base_uri": "https://localhost:8080/"
        },
        "outputId": "2edf4e0b-bfb6-4407-8c62-22ecd18018af"
      },
      "outputs": [
        {
          "output_type": "stream",
          "name": "stdout",
          "text": [
            "Example batch:\n",
            "{'Title': array([[27645, 29893, 33674,     1,     1,     1,     1],\n",
            "       [29239,   197, 19175, 20042, 15554, 23162,  4051],\n",
            "       [10609, 30412, 17746,    33,  8705, 29157,    65]]), 'FullDescription': array([[27645, 29893, 33674, 32939,   982, 27645, 29893, 33674, 16451,\n",
            "        32939],\n",
            "       [29239,   197, 19175, 20042, 15554, 23162,  4051, 25511,   907,\n",
            "           82],\n",
            "       [30746, 21956, 20601,  6409, 16451,  8165, 27493,   982, 30412,\n",
            "        17746]]), 'Categorical': array([[0., 0., 0., ..., 0., 0., 0.],\n",
            "       [0., 0., 0., ..., 0., 0., 0.],\n",
            "       [0., 0., 0., ..., 0., 0., 0.]], dtype=float32), 'Log1pSalary': array([ 9.71154 , 10.463132, 10.71444 ], dtype=float32)}\n",
            "FullDescription shape: (3, 10)\n"
          ]
        }
      ],
      "source": [
        "example_batch = make_batch(data_train[:3], max_len=10)\n",
        "print(\"Example batch:\")\n",
        "print(example_batch)\n",
        "print(\"FullDescription shape:\", example_batch[\"FullDescription\"].shape)"
      ]
    },
    {
      "cell_type": "code",
      "execution_count": 42,
      "metadata": {
        "id": "nBfN182zpHfd"
      },
      "outputs": [],
      "source": [
        "def iterate_minibatches(data, batch_size=256, shuffle=True, cycle=False, **kwargs):\n",
        "    \"\"\"iterates minibatches of data in random order\"\"\"\n",
        "    while True:\n",
        "        indices = np.arange(len(data))\n",
        "        if shuffle:\n",
        "            indices = np.random.permutation(indices)\n",
        "\n",
        "        for start in range(0, len(indices), batch_size):\n",
        "            batch = make_batch(data.iloc[indices[start : start + batch_size]], **kwargs)\n",
        "            target = batch.pop(target_column)\n",
        "            yield batch, target\n",
        "\n",
        "        if not cycle:\n",
        "            break"
      ]
    },
    {
      "cell_type": "markdown",
      "metadata": {
        "id": "iQAQPx3-pHfd"
      },
      "source": [
        "To generate minibatches we will use simple pyton generator."
      ]
    },
    {
      "cell_type": "code",
      "source": [
        "iterator = iterate_minibatches(data_train, 3)\n",
        "batch, target = next(iterator)"
      ],
      "metadata": {
        "id": "fCeb-W9EodjZ"
      },
      "execution_count": 43,
      "outputs": []
    },
    {
      "cell_type": "code",
      "source": [
        "batch"
      ],
      "metadata": {
        "id": "h7IMFE68TcP0",
        "outputId": "9668fe66-c845-4b38-8ac9-1ecac1864a6f",
        "colab": {
          "base_uri": "https://localhost:8080/"
        }
      },
      "execution_count": 44,
      "outputs": [
        {
          "output_type": "execute_result",
          "data": {
            "text/plain": [
              "{'Title': array([[30690, 24750,  2166, 17782, 31100, 33664, 33554,  8113,  3636],\n",
              "        [ 6993, 21660,     1,     1,     1,     1,     1,     1,     1],\n",
              "        [21440,  7501, 28649,     1,     1,     1,     1,     1,     1]]),\n",
              " 'FullDescription': array([[30678,  2166, 24750, ..., 27823, 22100,   169],\n",
              "        [31100, 10880, 30746, ...,     1,     1,     1],\n",
              "        [33070,  2572,  8165, ...,     1,     1,     1]]),\n",
              " 'Categorical': array([[0., 0., 0., ..., 0., 0., 0.],\n",
              "        [0., 0., 1., ..., 0., 0., 0.],\n",
              "        [0., 0., 0., ..., 0., 0., 0.]], dtype=float32)}"
            ]
          },
          "metadata": {},
          "execution_count": 44
        }
      ]
    },
    {
      "cell_type": "markdown",
      "metadata": {
        "id": "0eI5h9UMycPF"
      },
      "source": [
        "## Architecture\n",
        "\n",
        "Our main model consists of three branches:\n",
        "* Title encoder\n",
        "* Description encoder\n",
        "* Categorical features encoder\n",
        "\n",
        "We will then feed all 3 branches into one common network that predicts salary.\n",
        "\n",
        "<img src=\"https://github.com/yandexdataschool/nlp_course/raw/master/resources/w2_conv_arch.png\" width=600px>\n",
        "\n",
        "This clearly doesn't fit into PyTorch __Sequential__ interface. To build such a network, one will have to use [__PyTorch nn.Module API__](https://pytorch.org/docs/stable/nn.html#torch.nn.Module)."
      ]
    },
    {
      "cell_type": "markdown",
      "metadata": {
        "id": "SbhrCEl1pHfc"
      },
      "source": [
        "But to start with let's build the simple model using only the part of the data. Let's create the baseline solution using only the description part (so it should definetely fit into the Sequential model)."
      ]
    },
    {
      "cell_type": "code",
      "execution_count": 72,
      "metadata": {
        "id": "2jjPFvWZpHfc"
      },
      "outputs": [],
      "source": [
        "import torch.nn as nn\n",
        "\n",
        "\n",
        "# Initially, our FullDescription has a shape [batch_size, seq_len].\n",
        "# After an Embedding layer shape will be [batch_size, seq_len, embedding_size].\n",
        "# However, Conv1d layer expects batches of shape [batch_size, embedding_size, seq_len].\n",
        "# We will use this layer to fix this misunderstanding.\n",
        "class Reorder(nn.Module):\n",
        "    def forward(self, input):\n",
        "        return input.permute((0, 2, 1))"
      ]
    },
    {
      "cell_type": "code",
      "execution_count": 116,
      "metadata": {
        "id": "6LPx2UKepHfd"
      },
      "outputs": [],
      "source": [
        "simple_model = nn.Sequential(\n",
        "    # YOUR CODE HERE\n",
        "    nn.Embedding(len(tokens), 64),\n",
        "    Reorder(),\n",
        "    nn.Conv1d(64, 128, kernel_size=3),\n",
        "    nn.ReLU(),\n",
        "    nn.Conv1d(128, 128, kernel_size=3),\n",
        "    nn.ReLU(),\n",
        "    nn.BatchNorm1d(128),\n",
        "    nn.Conv1d(128, 128, kernel_size=3),\n",
        "    nn.ReLU(),\n",
        "    nn.AdaptiveMaxPool1d(1),\n",
        "    nn.Flatten(),\n",
        "    nn.Linear(128, 1),\n",
        ")"
      ]
    },
    {
      "cell_type": "markdown",
      "metadata": {
        "id": "uMu66aNSpHfd"
      },
      "source": [
        "__Remember!__ We are working with regression problem and predicting only one number."
      ]
    },
    {
      "cell_type": "code",
      "execution_count": 117,
      "metadata": {
        "id": "CerptbpcpHfd",
        "outputId": "9fc7bd07-e0f1-44e0-9a3d-50d627871fca",
        "colab": {
          "base_uri": "https://localhost:8080/",
          "height": 222
        }
      },
      "outputs": [
        {
          "output_type": "error",
          "ename": "IndexError",
          "evalue": "ignored",
          "traceback": [
            "\u001b[0;31m---------------------------------------------------------------------------\u001b[0m",
            "\u001b[0;31mIndexError\u001b[0m                                Traceback (most recent call last)",
            "\u001b[0;32m<ipython-input-117-fb80221333bd>\u001b[0m in \u001b[0;36m<module>\u001b[0;34m\u001b[0m\n\u001b[1;32m      3\u001b[0m \u001b[0;34m\u001b[0m\u001b[0m\n\u001b[1;32m      4\u001b[0m \u001b[0;31m# Check your model. `torch.long` tensors are required for nn.Embedding layers.\u001b[0m\u001b[0;34m\u001b[0m\u001b[0;34m\u001b[0m\u001b[0;34m\u001b[0m\u001b[0m\n\u001b[0;32m----> 5\u001b[0;31m \u001b[0msimple_model\u001b[0m\u001b[0;34m(\u001b[0m\u001b[0mtorch\u001b[0m\u001b[0;34m.\u001b[0m\u001b[0mtensor\u001b[0m\u001b[0;34m(\u001b[0m\u001b[0mbatch\u001b[0m\u001b[0;34m[\u001b[0m\u001b[0;34m\"FullDescription\"\u001b[0m\u001b[0;34m]\u001b[0m\u001b[0;34m,\u001b[0m \u001b[0mdtype\u001b[0m\u001b[0;34m=\u001b[0m\u001b[0mtorch\u001b[0m\u001b[0;34m.\u001b[0m\u001b[0mlong\u001b[0m\u001b[0;34m)\u001b[0m\u001b[0;34m)\u001b[0m\u001b[0;34m\u001b[0m\u001b[0;34m\u001b[0m\u001b[0m\n\u001b[0m",
            "\u001b[0;31mIndexError\u001b[0m: too many indices for tensor of dimension 2"
          ]
        }
      ],
      "source": [
        "import torch\n",
        "\n",
        "\n",
        "# Check your model. `torch.long` tensors are required for nn.Embedding layers.\n",
        "simple_model(torch.tensor(batch[\"FullDescription\"], dtype=torch.long))"
      ]
    },
    {
      "cell_type": "code",
      "source": [
        "def get_grad_norm(model_params):\n",
        "    norm = 0\n",
        "    for _, p in model_params:\n",
        "        try:\n",
        "            norm += torch.linalg.norm(p.grad.detach().data).item()**2\n",
        "        except:\n",
        "            pass\n",
        "    return norm**0.5"
      ],
      "metadata": {
        "id": "c9t2GkXsUEXk"
      },
      "execution_count": 125,
      "outputs": []
    },
    {
      "cell_type": "code",
      "execution_count": 126,
      "metadata": {
        "id": "1G-n-458pHfd"
      },
      "outputs": [],
      "source": [
        "device = torch.device(\"cuda\" if torch.cuda.is_available() else \"cpu\")\n",
        "simple_model.to(device);"
      ]
    },
    {
      "cell_type": "code",
      "source": [
        "from torch.nn.utils import clip_grad_norm_"
      ],
      "metadata": {
        "id": "TVFSKVwmZtEE"
      },
      "execution_count": 127,
      "outputs": []
    },
    {
      "cell_type": "markdown",
      "metadata": {
        "id": "8hUa3gBepHfd"
      },
      "source": [
        "And now simple training pipeline:"
      ]
    },
    {
      "cell_type": "code",
      "execution_count": 128,
      "metadata": {
        "id": "tKiy4otdpHfd",
        "outputId": "6e11c0d3-f470-4d02-95fe-b4a989db28a4",
        "colab": {
          "base_uri": "https://localhost:8080/",
          "height": 286
        }
      },
      "outputs": [
        {
          "output_type": "display_data",
          "data": {
            "text/plain": [
              "<Figure size 576x288 with 2 Axes>"
            ],
            "image/png": "[encoded data removed]"
          },
          "metadata": {
            "needs_background": "light"
          }
        }
      ],
      "source": [
        "from IPython.display import clear_output\n",
        "\n",
        "\n",
        "epochs = 1\n",
        "model = simple_model\n",
        "opt = torch.optim.Adam(model.parameters())\n",
        "criterion = nn.MSELoss()\n",
        "grad_norms = []\n",
        "\n",
        "history = []\n",
        "for epoch in range(epochs):\n",
        "    for batch, target in iterate_minibatches(data_train):\n",
        "        # Preprocessing the batch data and target\n",
        "        batch = torch.tensor(batch[\"FullDescription\"], dtype=torch.long, device=device)\n",
        "        target = torch.tensor(target, device=device)\n",
        "\n",
        "        predictions = model(batch)\n",
        "        predictions = predictions.flatten()\n",
        "\n",
        "        # YOUR CODE HERE\n",
        "        # Compute loss.\n",
        "        loss = criterion(predictions, target)\n",
        "\n",
        "        # YOUR CODE HERE\n",
        "        # Train with backprop.\n",
        "        opt.zero_grad()\n",
        "        loss.backward()\n",
        "        clip_grad_norm_(model.parameters(), max_norm=20)\n",
        "        opt.step()\n",
        "        grad_norms.append(get_grad_norm(model.named_parameters()))\n",
        "\n",
        "        history.append(loss.item())\n",
        "        if len(history) % 10 == 0:\n",
        "            clear_output(wait=True)\n",
        "            plt.figure(figsize=[8, 4])\n",
        "            plt.subplot(1, 2, 1)\n",
        "            plt.plot(history[5:], label=\"loss\")\n",
        "\n",
        "            plt.subplot(1, 2, 2)\n",
        "            plt.plot(grad_norms, label=\"norms\")            \n",
        "            plt.legend()\n",
        "            plt.show()"
      ]
    },
    {
      "cell_type": "markdown",
      "metadata": {
        "id": "eOXdOBCnpHfe"
      },
      "source": [
        "To evaluate the model we can switch it to `eval` state. Let's check the model quality."
      ]
    },
    {
      "cell_type": "code",
      "execution_count": 129,
      "metadata": {
        "id": "eaiQRrfCpHfe",
        "colab": {
          "base_uri": "https://localhost:8080/"
        },
        "outputId": "64876197-bb58-4168-9b36-b9cb1a252194"
      },
      "outputs": [
        {
          "output_type": "stream",
          "name": "stdout",
          "text": [
            "Train:\n",
            "MSE: 0.15700\n",
            "MAE: 0.28310\n",
            "Val:\n",
            "MSE: 0.17233\n",
            "MAE: 0.29534\n"
          ]
        }
      ],
      "source": [
        "@torch.no_grad()\n",
        "def evaluate_model(model, data, batch_size=256, name=None, **kwargs):\n",
        "    squared_error = abs_error = num_samples = 0.0\n",
        "    data_iterator = iterate_minibatches(data, batch_size, shuffle=False, **kwargs)\n",
        "    for batch, target in data_iterator:\n",
        "        batch = torch.tensor(batch[\"FullDescription\"], dtype=torch.long, device=device)\n",
        "        pred = model(batch)[:, 0].cpu().numpy()\n",
        "\n",
        "        squared_error += np.sum(np.square(pred - target))\n",
        "        abs_error += np.sum(np.abs(pred - target))\n",
        "        num_samples += len(target)\n",
        "\n",
        "    if name is not None:\n",
        "        print(f\"{name}:\")\n",
        "\n",
        "    print(f\"MSE: {squared_error / num_samples:.5f}\")\n",
        "    print(f\"MAE: {abs_error / num_samples:.5f}\")\n",
        "\n",
        "\n",
        "evaluate_model(simple_model, data_train, name=\"Train\")\n",
        "evaluate_model(simple_model, data_val, name=\"Val\")"
      ]
    },
    {
      "cell_type": "code",
      "source": [
        "np.exp(0.37744)"
      ],
      "metadata": {
        "id": "G6NI60fSXOWy",
        "outputId": "179f3abd-da72-4e10-f3e5-7ab4d62e75d0",
        "colab": {
          "base_uri": "https://localhost:8080/"
        }
      },
      "execution_count": 106,
      "outputs": [
        {
          "output_type": "execute_result",
          "data": {
            "text/plain": [
              "1.458545928413187"
            ]
          },
          "metadata": {},
          "execution_count": 106
        }
      ]
    },
    {
      "cell_type": "markdown",
      "metadata": {
        "id": "hUUchHCnpHfe"
      },
      "source": [
        "### Bonus area 1: three-headed network.\n",
        "\n",
        "Now you can try to implement the network we've discussed above. Use [__PyTorch nn.Module API__](https://pytorch.org/docs/stable/nn.html#torch.nn.Module)."
      ]
    },
    {
      "cell_type": "code",
      "execution_count": null,
      "metadata": {
        "id": "SOG-2OK2pHfe"
      },
      "outputs": [],
      "source": [
        "class ThreeInputsNet(nn.Module):\n",
        "    def __init__(\n",
        "        self,\n",
        "        n_tokens=len(tokens),\n",
        "        n_cat_features=len(categorical_vectorizer.vocabulary_),\n",
        "        hid_size=64,\n",
        "    ):\n",
        "        super().__init__()\n",
        "\n",
        "        self.title_emb = nn.Embedding(n_tokens, hid_size)\n",
        "        # YOUR CODE HERE\n",
        "        # Define modules to process the title.\n",
        "\n",
        "        self.desc_emb = nn.Embedding(n_tokens, hid_size)\n",
        "        # YOUR CODE HERE\n",
        "        # Define modules to process the description.\n",
        "\n",
        "        # YOUR CODE HERE\n",
        "        # Define modules to process the categorical features.\n",
        "        # self.category_out = ...\n",
        "\n",
        "        # YOUR CODE HERE\n",
        "        # Define fully-connected part which will take outputs of\n",
        "        # three heads and return the result.\n",
        "        # self.out = ...\n",
        "\n",
        "    def forward(self, whole_input):\n",
        "        input1, input2, input3 = whole_input\n",
        "        title_beg = self.title_emb(input1).permute((0, 2, 1))\n",
        "        # YOUR CODE HERE\n",
        "        # Process the title.\n",
        "        # title = ...\n",
        "\n",
        "        full_beg = self.full_emb(input2).permute((0, 2, 1))\n",
        "        # YOUR CODE HERE\n",
        "        # Process the description.\n",
        "        # desc = ...\n",
        "\n",
        "        # YOUR CODE HERE\n",
        "        # Process the categorical features.\n",
        "        # category = ...\n",
        "\n",
        "        concatenated = torch.cat(\n",
        "            [\n",
        "                title.view(title.size(0), -1),\n",
        "                desc.view(desc.size(0), -1),\n",
        "                category.view(category.size(0), -1),\n",
        "            ],\n",
        "            dim=1,\n",
        "        )\n",
        "\n",
        "        # YOUR CODE HERE\n",
        "        # Process the concatenated features to generate network output.\n",
        "        # out = ...\n",
        "\n",
        "        return out"
      ]
    },
    {
      "cell_type": "markdown",
      "metadata": {
        "id": "kAigoulWpHfe"
      },
      "source": [
        "### Bonus area 2: comparing RNN to CNN\n",
        "Try implementing simple RNN (or LSTM) and applying it to this task. Compare the quality/performance of these networks. \n",
        "*Hint: try to build networks with ~same number of paremeters.*"
      ]
    },
    {
      "cell_type": "code",
      "execution_count": null,
      "metadata": {
        "id": "rQVzJyCMpHfe"
      },
      "outputs": [],
      "source": [
        "# YOUR CODE HERE"
      ]
    },
    {
      "cell_type": "markdown",
      "metadata": {
        "id": "jPn2Q0wXpHfe"
      },
      "source": [
        "### Bonus area 3: fixing the data leaks\n",
        "Fix the data leak we ignored in the beginning of the __Deep Learning part__. Compare results with and without data leaks using same architectures and training time.\n"
      ]
    },
    {
      "cell_type": "code",
      "execution_count": null,
      "metadata": {
        "id": "DVgBWPpjpHfe"
      },
      "outputs": [],
      "source": [
        "# YOUR CODE HERE"
      ]
    },
    {
      "cell_type": "markdown",
      "metadata": {
        "id": "V-iOq02ZpHfe"
      },
      "source": [
        "__Terrible start-up idea #1962:__ make a tool that automaticaly rephrases your job description (or CV) to meet salary expectations :)"
      ]
    }
  ],
  "metadata": {
    "colab": {
      "name": "binpord_practice_cnn_for_texts.ipynb",
      "provenance": []
    },
    "kernelspec": {
      "display_name": "Python 3",
      "name": "python3"
    },
    "language_info": {
      "name": "python"
    },
    "accelerator": "GPU",
    "gpuClass": "standard"
  },
  "nbformat": 4,
  "nbformat_minor": 0
}