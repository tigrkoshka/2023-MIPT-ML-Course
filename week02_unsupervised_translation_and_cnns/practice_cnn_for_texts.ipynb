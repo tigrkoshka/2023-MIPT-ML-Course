{
  "cells": [
    {
      "cell_type": "markdown",
      "metadata": {
        "id": "13pL--6rycN3"
      },
      "source": [
        "# Practice: Dealing with texts using CNN\n",
        "_Reference: Based on YSDA [materials](https://github.com/yandexdataschool/nlp_course/blob/master/week02_classification/seminar.ipynb). Special thanks to [Oleg Vasilev](https://github.com/Omrigan/) for the core assignment idea._\n",
        "\n",
        "Today we're gonna apply the newly learned tools for the task of predicting job salary.\n",
        "\n",
        "<img src=\"https://storage.googleapis.com/kaggle-competitions/kaggle/3342/media/salary%20prediction%20engine%20v2.png\" width=400px>"
      ]
    },
    {
      "cell_type": "markdown",
      "metadata": {
        "id": "34x92vWQycN_"
      },
      "source": [
        "## About the challenge\n",
        "For starters, let's download and unpack the data.\n",
        "\n",
        "You can also get it from [Yandex.Disk](https://yadi.sk/d/vVEOWPFY3NruT7) or [the competition page](https://www.kaggle.com/c/job-salary-prediction/data) (pick `Train_rev1.*`)."
      ]
    },
    {
      "cell_type": "code",
      "execution_count": 1,
      "metadata": {
        "colab": {
          "base_uri": "https://localhost:8080/"
        },
        "id": "vwN72gd4ycOA",
        "outputId": "bfa88ab6-d073-407f-975f-92f09caf63e3"
      },
      "outputs": [
        {
          "output_type": "stream",
          "name": "stdout",
          "text": [
            "  % Total    % Received % Xferd  Average Speed   Time    Time     Time  Current\n",
            "                                 Dload  Upload   Total   Spent    Left  Speed\n",
            "100   128    0   128    0     0    206      0 --:--:-- --:--:-- --:--:--   206\n",
            "100   342  100   342    0     0    301      0  0:00:01  0:00:01 --:--:--     0\n",
            "100  119M  100  119M    0     0  13.3M      0  0:00:08  0:00:08 --:--:-- 17.6M\n"
          ]
        }
      ],
      "source": [
        "!curl -L \"https://www.dropbox.com/s/5msc5ix7ndyba10/Train_rev1.csv.tar.gz?dl=1\" -o Train_rev1.csv.tar.gz\n",
        "!tar xzf Train_rev1.csv.tar.gz"
      ]
    },
    {
      "cell_type": "code",
      "execution_count": 2,
      "metadata": {
        "colab": {
          "base_uri": "https://localhost:8080/"
        },
        "outputId": "424fd622-b0ca-4404-b5c6-d31eb7854c35",
        "id": "xIjzhbXEpHfT"
      },
      "outputs": [
        {
          "output_type": "execute_result",
          "data": {
            "text/plain": [
              "(244768, 12)"
            ]
          },
          "metadata": {},
          "execution_count": 2
        }
      ],
      "source": [
        "import pandas as pd\n",
        "\n",
        "\n",
        "data = pd.read_csv(\"Train_rev1.csv\", index_col=None)\n",
        "data.shape"
      ]
    },
    {
      "cell_type": "markdown",
      "metadata": {
        "id": "z7kznuJfycOH"
      },
      "source": [
        "One problem with salary prediction is that it's oddly distributed: there are many people who are paid standard salaries and a few that get tons o money. The distribution is fat-tailed on the right side, which is inconvenient for MSE minimization.\n",
        "\n",
        "There are several techniques to combat this: using a different loss function, predicting log-target instead of raw target or even replacing targets with their percentiles among all salaries in the training set. We gonna use logarithm for now."
      ]
    },
    {
      "cell_type": "code",
      "source": [
        "\n",
        "data.info()"
      ],
      "metadata": {
        "id": "vgGbDJpQO2lH",
        "outputId": "3575a85a-e4fe-4fc1-d870-8f41595b08e6",
        "colab": {
          "base_uri": "https://localhost:8080/"
        }
      },
      "execution_count": 3,
      "outputs": [
        {
          "output_type": "stream",
          "name": "stdout",
          "text": [
            "<class 'pandas.core.frame.DataFrame'>\n",
            "RangeIndex: 244768 entries, 0 to 244767\n",
            "Data columns (total 12 columns):\n",
            " #   Column              Non-Null Count   Dtype \n",
            "---  ------              --------------   ----- \n",
            " 0   Id                  244768 non-null  int64 \n",
            " 1   Title               244767 non-null  object\n",
            " 2   FullDescription     244768 non-null  object\n",
            " 3   LocationRaw         244768 non-null  object\n",
            " 4   LocationNormalized  244768 non-null  object\n",
            " 5   ContractType        65442 non-null   object\n",
            " 6   ContractTime        180863 non-null  object\n",
            " 7   Company             212338 non-null  object\n",
            " 8   Category            244768 non-null  object\n",
            " 9   SalaryRaw           244768 non-null  object\n",
            " 10  SalaryNormalized    244768 non-null  int64 \n",
            " 11  SourceName          244767 non-null  object\n",
            "dtypes: int64(2), object(10)\n",
            "memory usage: 22.4+ MB\n"
          ]
        }
      ]
    },
    {
      "cell_type": "code",
      "execution_count": 13,
      "metadata": {
        "colab": {
          "base_uri": "https://localhost:8080/",
          "height": 285
        },
        "id": "UuuKIKfrycOH",
        "outputId": "7bd6ce85-d8f4-4a35-a86c-63743423a989"
      },
      "outputs": [
        {
          "output_type": "display_data",
          "data": {
            "text/plain": [
              "<Figure size 576x288 with 2 Axes>"
            ],
            "image/png": "[encoded data removed]"
          },
          "metadata": {
            "needs_background": "light"
          }
        }
      ],
      "source": [
        "import matplotlib.pyplot as plt\n",
        "import numpy as np\n",
        "\n",
        "\n",
        "data[\"Log1pSalary\"] = np.log1p(data[\"SalaryNormalized\"]).astype(\"float32\")\n",
        "\n",
        "plt.figure(figsize=[8, 4])\n",
        "plt.subplot(1, 2, 1)\n",
        "plt.hist(data[\"SalaryNormalized\"], bins=20)\n",
        "\n",
        "plt.subplot(1, 2, 2)\n",
        "plt.hist(data[\"Log1pSalary\"], bins=20)\n",
        "\n",
        "plt.show()"
      ]
    },
    {
      "cell_type": "markdown",
      "metadata": {
        "id": "Fcu-qmHRycOK"
      },
      "source": [
        "Our task is to predict one number, __Log1pSalary__.\n",
        "\n",
        "To do so, our model can access a number of features:\n",
        "* Free text: __`Title`__ and  __`FullDescription`__\n",
        "* Categorical: __`Category`__, __`Company`__, __`LocationNormalized`__, __`ContractType`__, and __`ContractTime`__."
      ]
    },
    {
      "cell_type": "code",
      "execution_count": 14,
      "metadata": {
        "colab": {
          "base_uri": "https://localhost:8080/",
          "height": 164
        },
        "id": "p9vyA_erycOK",
        "outputId": "fd49030e-d9cc-45bb-bbd0-3c66bf6a25e6"
      },
      "outputs": [
        {
          "output_type": "execute_result",
          "data": {
            "text/plain": [
              "              Id                                              Title  \\\n",
              "231413  72457403                                Finance Team Leader   \n",
              "104471  69572828                                 Direct Sales Agent   \n",
              "242904  72689629  Locum Acute Inpatient Physiotherapist South We...   \n",
              "\n",
              "                                          FullDescription  \\\n",
              "231413  The successful applicant for this Permanent Fi...   \n",
              "104471  Direct Sales AgentSelf EmployedCommission only...   \n",
              "242904  JustPhysio are currently looking for a band 6 ...   \n",
              "\n",
              "                           LocationRaw LocationNormalized ContractType  \\\n",
              "231413  Bracknell Berkshire South East          Bracknell          NaN   \n",
              "104471     Buckinghamshire - Aylesbury          Aylesbury    full_time   \n",
              "242904        South West,Not Specified                 UK          NaN   \n",
              "\n",
              "       ContractTime                 Company                   Category  \\\n",
              "231413    permanent  Page Personnel Finance  Accounting & Finance Jobs   \n",
              "104471    permanent             London4Jobs     Customer Services Jobs   \n",
              "242904     contract            Jobsite Jobs  Healthcare & Nursing Jobs   \n",
              "\n",
              "                                  SalaryRaw  SalaryNormalized  \\\n",
              "231413             23000 to 28000 per annum             25500   \n",
              "104471                          12500-30000             21250   \n",
              "242904  23.00 - 26.00 GBP Hourly + benefits             47040   \n",
              "\n",
              "               SourceName  Log1pSalary  \n",
              "231413      totaljobs.com    10.146473  \n",
              "104471  london4jobs.co.uk     9.964159  \n",
              "242904      jobsite.co.uk    10.758775  "
            ],
            "text/html": [
              "\n",
              "  <div id=\"df-31f1cd93-8cb5-4614-9672-0974505ccddd\">\n",
              "    <div class=\"colab-df-container\">\n",
              "      <div>\n",
              "<style scoped>\n",
              "    .dataframe tbody tr th:only-of-type {\n",
              "        vertical-align: middle;\n",
              "    }\n",
              "\n",
              "    .dataframe tbody tr th {\n",
              "        vertical-align: top;\n",
              "    }\n",
              "\n",
              "    .dataframe thead th {\n",
              "        text-align: right;\n",
              "    }\n",
              "</style>\n",
              "<table border=\"1\" class=\"dataframe\">\n",
              "  <thead>\n",
              "    <tr style=\"text-align: right;\">\n",
              "      <th></th>\n",
              "      <th>Id</th>\n",
              "      <th>Title</th>\n",
              "      <th>FullDescription</th>\n",
              "      <th>LocationRaw</th>\n",
              "      <th>LocationNormalized</th>\n",
              "      <th>ContractType</th>\n",
              "      <th>ContractTime</th>\n",
              "      <th>Company</th>\n",
              "      <th>Category</th>\n",
              "      <th>SalaryRaw</th>\n",
              "      <th>SalaryNormalized</th>\n",
              "      <th>SourceName</th>\n",
              "      <th>Log1pSalary</th>\n",
              "    </tr>\n",
              "  </thead>\n",
              "  <tbody>\n",
              "    <tr>\n",
              "      <th>231413</th>\n",
              "      <td>72457403</td>\n",
              "      <td>Finance Team Leader</td>\n",
              "      <td>The successful applicant for this Permanent Fi...</td>\n",
              "      <td>Bracknell Berkshire South East</td>\n",
              "      <td>Bracknell</td>\n",
              "      <td>NaN</td>\n",
              "      <td>permanent</td>\n",
              "      <td>Page Personnel Finance</td>\n",
              "      <td>Accounting &amp; Finance Jobs</td>\n",
              "      <td>23000 to 28000 per annum</td>\n",
              "      <td>25500</td>\n",
              "      <td>totaljobs.com</td>\n",
              "      <td>10.146473</td>\n",
              "    </tr>\n",
              "    <tr>\n",
              "      <th>104471</th>\n",
              "      <td>69572828</td>\n",
              "      <td>Direct Sales Agent</td>\n",
              "      <td>Direct Sales AgentSelf EmployedCommission only...</td>\n",
              "      <td>Buckinghamshire - Aylesbury</td>\n",
              "      <td>Aylesbury</td>\n",
              "      <td>full_time</td>\n",
              "      <td>permanent</td>\n",
              "      <td>London4Jobs</td>\n",
              "      <td>Customer Services Jobs</td>\n",
              "      <td>12500-30000</td>\n",
              "      <td>21250</td>\n",
              "      <td>london4jobs.co.uk</td>\n",
              "      <td>9.964159</td>\n",
              "    </tr>\n",
              "    <tr>\n",
              "      <th>242904</th>\n",
              "      <td>72689629</td>\n",
              "      <td>Locum Acute Inpatient Physiotherapist South We...</td>\n",
              "      <td>JustPhysio are currently looking for a band 6 ...</td>\n",
              "      <td>South West,Not Specified</td>\n",
              "      <td>UK</td>\n",
              "      <td>NaN</td>\n",
              "      <td>contract</td>\n",
              "      <td>Jobsite Jobs</td>\n",
              "      <td>Healthcare &amp; Nursing Jobs</td>\n",
              "      <td>23.00 - 26.00 GBP Hourly + benefits</td>\n",
              "      <td>47040</td>\n",
              "      <td>jobsite.co.uk</td>\n",
              "      <td>10.758775</td>\n",
              "    </tr>\n",
              "  </tbody>\n",
              "</table>\n",
              "</div>\n",
              "      <button class=\"colab-df-convert\" onclick=\"convertToInteractive('df-31f1cd93-8cb5-4614-9672-0974505ccddd')\"\n",
              "              title=\"Convert this dataframe to an interactive table.\"\n",
              "              style=\"display:none;\">\n",
              "        \n",
              "  <svg xmlns=\"http://www.w3.org/2000/svg\" height=\"24px\"viewBox=\"0 0 24 24\"\n",
              "       width=\"24px\">\n",
              "    <path d=\"M0 0h24v24H0V0z\" fill=\"none\"/>\n",
              "    <path d=\"M18.56 5.44l.94 2.06.94-2.06 2.06-.94-2.06-.94-.94-2.06-.94 2.06-2.06.94zm-11 1L8.5 8.5l.94-2.06 2.06-.94-2.06-.94L8.5 2.5l-.94 2.06-2.06.94zm10 10l.94 2.06.94-2.06 2.06-.94-2.06-.94-.94-2.06-.94 2.06-2.06.94z\"/><path d=\"M17.41 7.96l-1.37-1.37c-.4-.4-.92-.59-1.43-.59-.52 0-1.04.2-1.43.59L10.3 9.45l-7.72 7.72c-.78.78-.78 2.05 0 2.83L4 21.41c.39.39.9.59 1.41.59.51 0 1.02-.2 1.41-.59l7.78-7.78 2.81-2.81c.8-.78.8-2.07 0-2.86zM5.41 20L4 18.59l7.72-7.72 1.47 1.35L5.41 20z\"/>\n",
              "  </svg>\n",
              "      </button>\n",
              "      \n",
              "  <style>\n",
              "    .colab-df-container {\n",
              "      display:flex;\n",
              "      flex-wrap:wrap;\n",
              "      gap: 12px;\n",
              "    }\n",
              "\n",
              "    .colab-df-convert {\n",
              "      background-color: #E8F0FE;\n",
              "      border: none;\n",
              "      border-radius: 50%;\n",
              "      cursor: pointer;\n",
              "      display: none;\n",
              "      fill: #1967D2;\n",
              "      height: 32px;\n",
              "      padding: 0 0 0 0;\n",
              "      width: 32px;\n",
              "    }\n",
              "\n",
              "    .colab-df-convert:hover {\n",
              "      background-color: #E2EBFA;\n",
              "      box-shadow: 0px 1px 2px rgba(60, 64, 67, 0.3), 0px 1px 3px 1px rgba(60, 64, 67, 0.15);\n",
              "      fill: #174EA6;\n",
              "    }\n",
              "\n",
              "    [theme=dark] .colab-df-convert {\n",
              "      background-color: #3B4455;\n",
              "      fill: #D2E3FC;\n",
              "    }\n",
              "\n",
              "    [theme=dark] .colab-df-convert:hover {\n",
              "      background-color: #434B5C;\n",
              "      box-shadow: 0px 1px 3px 1px rgba(0, 0, 0, 0.15);\n",
              "      filter: drop-shadow(0px 1px 2px rgba(0, 0, 0, 0.3));\n",
              "      fill: #FFFFFF;\n",
              "    }\n",
              "  </style>\n",
              "\n",
              "      <script>\n",
              "        const buttonEl =\n",
              "          document.querySelector('#df-31f1cd93-8cb5-4614-9672-0974505ccddd button.colab-df-convert');\n",
              "        buttonEl.style.display =\n",
              "          google.colab.kernel.accessAllowed ? 'block' : 'none';\n",
              "\n",
              "        async function convertToInteractive(key) {\n",
              "          const element = document.querySelector('#df-31f1cd93-8cb5-4614-9672-0974505ccddd');\n",
              "          const dataTable =\n",
              "            await google.colab.kernel.invokeFunction('convertToInteractive',\n",
              "                                                     [key], {});\n",
              "          if (!dataTable) return;\n",
              "\n",
              "          const docLinkHtml = 'Like what you see? Visit the ' +\n",
              "            '<a target=\"_blank\" href=https://colab.research.google.com/notebooks/data_table.ipynb>data table notebook</a>'\n",
              "            + ' to learn more about interactive tables.';\n",
              "          element.innerHTML = '';\n",
              "          dataTable['output_type'] = 'display_data';\n",
              "          await google.colab.output.renderOutput(dataTable, element);\n",
              "          const docLink = document.createElement('div');\n",
              "          docLink.innerHTML = docLinkHtml;\n",
              "          element.appendChild(docLink);\n",
              "        }\n",
              "      </script>\n",
              "    </div>\n",
              "  </div>\n",
              "  "
            ]
          },
          "metadata": {},
          "execution_count": 14
        }
      ],
      "source": [
        "text_columns = [\"Title\", \"FullDescription\"]\n",
        "categorical_columns = [\"Category\", \"Company\", \"LocationNormalized\", \"ContractType\", \"ContractTime\"]\n",
        "target_column = \"Log1pSalary\"\n",
        "\n",
        "data[categorical_columns] = data[categorical_columns].fillna(\"NaN\")\n",
        "data[text_columns] = data[text_columns].fillna(\"NaN\")\n",
        "\n",
        "data.sample(3)"
      ]
    },
    {
      "cell_type": "markdown",
      "metadata": {
        "id": "IUdclucmycON"
      },
      "source": [
        "## Preprocessing text data\n",
        "\n",
        "Just like last week, applying NLP to a problem begins from tokenization: splitting raw text into sequences of tokens (words, punctuation, etc).\n",
        "\n",
        "__Your task__ is to lowercase and tokenize all texts under `Title` and `FullDescription` columns. Store the tokenized data as a __space-separated__ string of tokens for performance reasons.\n",
        "\n",
        "It's okay to use nltk tokenizers. Assertions were designed for WordPunctTokenizer, slight deviations are okay."
      ]
    },
    {
      "cell_type": "code",
      "execution_count": 15,
      "metadata": {
        "colab": {
          "base_uri": "https://localhost:8080/"
        },
        "id": "YzeOxD_aycOO",
        "outputId": "e802a880-545b-4ee6-c707-151e127a99c8"
      },
      "outputs": [
        {
          "output_type": "stream",
          "name": "stdout",
          "text": [
            "Raw text:\n",
            "2         Mathematical Modeller / Simulation Analyst / O...\n",
            "100002    A successful and high achieving specialist sch...\n",
            "200002    Web Designer  HTML, CSS, JavaScript, Photoshop...\n",
            "Name: FullDescription, dtype: object\n"
          ]
        }
      ],
      "source": [
        "print(\"Raw text:\")\n",
        "print(data[\"FullDescription\"][2::100000])"
      ]
    },
    {
      "cell_type": "code",
      "execution_count": 16,
      "metadata": {
        "id": "RUWkpd7PycOQ"
      },
      "outputs": [],
      "source": [
        "from nltk.tokenize import WordPunctTokenizer\n",
        "\n",
        "\n",
        "tokenizer = WordPunctTokenizer()\n",
        "\n",
        "# YOUR CODE HERE\n",
        "# Lowercase and tokenize titles and descriptions (text_columns).\n",
        "# Store items as space-separated strings of tokens.\n",
        "def normalize(text):  # noqa: E302\n",
        "    tokens = tokenizer.tokenize(str(text).lower())\n",
        "    return \" \".join(tokens)\n",
        "\n",
        "\n",
        "data[text_columns] = data[text_columns].applymap(normalize)"
      ]
    },
    {
      "cell_type": "code",
      "execution_count": 17,
      "metadata": {
        "colab": {
          "base_uri": "https://localhost:8080/"
        },
        "id": "Gs-6lnS_ycOU",
        "outputId": "074b12be-544e-4469-c63b-591b4f99fefa"
      },
      "outputs": [
        {
          "output_type": "stream",
          "name": "stdout",
          "text": [
            "Tokenized:\n",
            "2         mathematical modeller / simulation analyst / o...\n",
            "100002    a successful and high achieving specialist sch...\n",
            "200002    web designer html , css , javascript , photosh...\n",
            "Name: FullDescription, dtype: object\n"
          ]
        }
      ],
      "source": [
        "print(\"Tokenized:\")\n",
        "print(data[\"FullDescription\"][2::100000])\n",
        "assert data[\"FullDescription\"][2][:50] == \"mathematical modeller / simulation analyst / opera\"\n",
        "assert data[\"Title\"][54321] == \"international digital account manager ( german )\""
      ]
    },
    {
      "cell_type": "markdown",
      "metadata": {
        "id": "ouE3L2hyycOX"
      },
      "source": [
        "Not all words are equally useful. Some of them are typos or rare words that are only present a few times. \n",
        "\n",
        "Let's count how many times is each word present in the data so that we can build a \"white list\" of known words."
      ]
    },
    {
      "cell_type": "code",
      "execution_count": 18,
      "metadata": {
        "id": "iC7hBwwjycOX"
      },
      "outputs": [],
      "source": [
        "from collections import Counter\n",
        "\n",
        "\n",
        "# YOUR CODE HERE\n",
        "# Count how many times does each token occur in both \"Title\" and \"FullDescription\".\n",
        "# Build a dictionary { token -> count }.\n",
        "# Hint: you may or may not want to use collections.Counter\n",
        "# token_counts =\n",
        "token_counts = Counter()\n",
        "for text in data[text_columns].values.flatten():\n",
        "    token_counts.update(text.split(\" \"))"
      ]
    },
    {
      "cell_type": "code",
      "execution_count": 19,
      "metadata": {
        "colab": {
          "base_uri": "https://localhost:8080/"
        },
        "id": "GiOWbc15ycOb",
        "outputId": "882cf705-263a-49f7-c6f8-0bedecc8e5e8"
      },
      "outputs": [
        {
          "output_type": "stream",
          "name": "stdout",
          "text": [
            "Total unique tokens : 202704\n",
            "('and', 2657388)\n",
            "('.', 2523216)\n",
            "(',', 2318606)\n",
            "('the', 2080994)\n",
            "('to', 2019884)\n",
            "...\n",
            "('stephanietraveltraderecruitmnt', 1)\n",
            "('ruabon', 1)\n",
            "('lowehays', 1)\n",
            "Correct!\n"
          ]
        }
      ],
      "source": [
        "print(\"Total unique tokens :\", len(token_counts))\n",
        "print(\"\\n\".join(map(str, token_counts.most_common(n=5))))\n",
        "print(\"...\")\n",
        "print(\"\\n\".join(map(str, token_counts.most_common()[-3:])))\n",
        "\n",
        "assert token_counts.most_common(1)[0][1] in range(2600000, 2700000)\n",
        "assert len(token_counts) in range(200000, 210000)\n",
        "print(\"Correct!\")"
      ]
    },
    {
      "cell_type": "markdown",
      "source": [
        "Let's see how many words are there for each count."
      ],
      "metadata": {
        "id": "W2ih1LV4YhtL"
      }
    },
    {
      "cell_type": "code",
      "execution_count": 20,
      "metadata": {
        "colab": {
          "base_uri": "https://localhost:8080/",
          "height": 300
        },
        "id": "nd5v3BNfycOf",
        "outputId": "17b25ec9-abe8-46e1-c6b6-e181f57f5770"
      },
      "outputs": [
        {
          "output_type": "display_data",
          "data": {
            "text/plain": [
              "<Figure size 432x288 with 1 Axes>"
            ],
            "image/png": "[encoded data removed]"
          },
          "metadata": {
            "needs_background": "light"
          }
        }
      ],
      "source": [
        "plt.hist(list(token_counts.values()), range=[0, 10 ** 4], bins=50, log=True)\n",
        "plt.xlabel(\"Word counts\")\n",
        "plt.show()"
      ]
    },
    {
      "cell_type": "markdown",
      "metadata": {
        "id": "znuXxeghycOh"
      },
      "source": [
        "Now we will filter tokens a list of all tokens that occur at least 10 times."
      ]
    },
    {
      "cell_type": "code",
      "execution_count": 21,
      "metadata": {
        "id": "SeNFBWx5ycOh"
      },
      "outputs": [],
      "source": [
        "min_count = 10\n",
        "\n",
        "# YOUR CODE HERE\n",
        "# We shall only consider tokens that had at least min_count occurences.\n",
        "# Create a list of such tokens.\n",
        "# tokens = ...\n",
        "tokens = [token for token, count in token_counts.items() if count >= min_count]"
      ]
    },
    {
      "cell_type": "code",
      "execution_count": 22,
      "metadata": {
        "colab": {
          "base_uri": "https://localhost:8080/"
        },
        "id": "RATIRyPKycOk",
        "outputId": "3c460f0d-0fb3-4d8d-e3b4-f0e922f49dad"
      },
      "outputs": [
        {
          "output_type": "stream",
          "name": "stdout",
          "text": [
            "Vocabulary size: 34158\n",
            "Correct!\n"
          ]
        }
      ],
      "source": [
        "# Add a special tokens for unknown and empty words\n",
        "UNK, PAD = \"UNK\", \"PAD\"\n",
        "tokens = [UNK, PAD] + sorted(tokens)\n",
        "print(\"Vocabulary size:\", len(tokens))\n",
        "\n",
        "assert type(tokens) == list\n",
        "assert len(tokens) in range(32000, 35000)\n",
        "assert \"me\" in tokens\n",
        "assert UNK in tokens\n",
        "print(\"Correct!\")"
      ]
    },
    {
      "cell_type": "markdown",
      "metadata": {
        "id": "cqEsgbjZycOo"
      },
      "source": [
        "Build an inverse token index: a dictionary from token to it's index in `tokens`."
      ]
    },
    {
      "cell_type": "code",
      "execution_count": 23,
      "metadata": {
        "id": "L60lo1l_ycOq"
      },
      "outputs": [],
      "source": [
        "# YOUR CODE HERE\n",
        "# token_to_idx = ...\n",
        "token_to_idx = {token: idx for idx, token in enumerate(tokens)}"
      ]
    },
    {
      "cell_type": "code",
      "execution_count": 24,
      "metadata": {
        "colab": {
          "base_uri": "https://localhost:8080/"
        },
        "id": "DeAoVo4mycOr",
        "outputId": "4f713f23-6bf1-45fa-87bb-26f2f2521532"
      },
      "outputs": [
        {
          "output_type": "stream",
          "name": "stdout",
          "text": [
            "Correct!\n"
          ]
        }
      ],
      "source": [
        "assert isinstance(token_to_idx, dict)\n",
        "assert len(token_to_idx) == len(tokens)\n",
        "for tok in tokens:\n",
        "    assert tokens[token_to_idx[tok]] == tok\n",
        "\n",
        "print(\"Correct!\")"
      ]
    },
    {
      "cell_type": "markdown",
      "metadata": {
        "id": "cmJAkq3gycOv"
      },
      "source": [
        "And finally, let's use the vocabulary you've built to map text lines into neural network-digestible matrices."
      ]
    },
    {
      "cell_type": "code",
      "execution_count": 25,
      "metadata": {
        "id": "JEsLeBjVycOw"
      },
      "outputs": [],
      "source": [
        "UNK_IDX = token_to_idx[UNK]\n",
        "PAD_IDX = token_to_idx[PAD]\n",
        "\n",
        "\n",
        "def as_matrix(sequences, max_len=None):\n",
        "    \"\"\"Convert a list of tokens into a matrix with padding\"\"\"\n",
        "    if isinstance(sequences[0], str):\n",
        "        sequences = [seq.split(\" \") for seq in sequences]\n",
        "\n",
        "    sequences_max_len = max(len(seq) for seq in sequences)\n",
        "    if max_len is None:\n",
        "        max_len = sequences_max_len\n",
        "    else:\n",
        "        max_len = min(sequences_max_len, max_len)\n",
        "\n",
        "    matrix = np.full((len(sequences), max_len), PAD_IDX)\n",
        "    for i, seq in enumerate(sequences):\n",
        "        for j, token in enumerate(seq):\n",
        "            if j >= max_len:\n",
        "                break\n",
        "\n",
        "            matrix[i, j] = token_to_idx.get(token, UNK_IDX)\n",
        "\n",
        "    return matrix"
      ]
    },
    {
      "cell_type": "code",
      "execution_count": 26,
      "metadata": {
        "colab": {
          "base_uri": "https://localhost:8080/"
        },
        "id": "JiBlPkdKycOy",
        "outputId": "bb7961b2-70bf-49f5-ce40-9f98e6340bec"
      },
      "outputs": [
        {
          "output_type": "stream",
          "name": "stdout",
          "text": [
            "Lines:\n",
            "engineering systems analyst\n",
            "hr assistant\n",
            "senior ec & i engineer\n",
            "\n",
            "Matrix:\n",
            "[[10807 30161  2166     1     1]\n",
            " [15020  2844     1     1     1]\n",
            " [27645 10201    16 15215 10804]]\n"
          ]
        }
      ],
      "source": [
        "print(\"Lines:\")\n",
        "print(\"\\n\".join(data[\"Title\"][::100000].values), end=\"\\n\\n\")\n",
        "print(\"Matrix:\")\n",
        "print(as_matrix(data[\"Title\"][::100000]))"
      ]
    },
    {
      "cell_type": "markdown",
      "metadata": {
        "id": "nGOdZ3-dycO4"
      },
      "source": [
        "Now let's  encode the categirical data we have.\n",
        "\n",
        "As usual, we shall use one-hot encoding for simplicity. Kudos if you implement more advanced encodings: tf-idf, pseudo-time-series, etc."
      ]
    },
    {
      "cell_type": "code",
      "source": [
        "from sklearn.feature_extraction import DictVectorizer\n",
        "\n",
        "\n",
        "# We only consider top-1k most frequent companies to minimize memory usage\n",
        "company_counts = Counter(data[\"Company\"])\n",
        "top_companies = set(name for name, count in company_counts.most_common(1000))\n",
        "data[\"Company\"] = data[\"Company\"].apply(\n",
        "    lambda company: company if company in top_companies else \"Other\"\n",
        ")\n",
        "\n",
        "categorical_vectorizer = DictVectorizer(dtype=np.float32, sparse=False)\n",
        "categorical_vectorizer.fit(data[categorical_columns].apply(dict, axis=1));"
      ],
      "metadata": {
        "id": "pg12nLQijNJg"
      },
      "execution_count": 27,
      "outputs": []
    },
    {
      "cell_type": "markdown",
      "metadata": {
        "id": "yk4jmtAYycO8"
      },
      "source": [
        "## The deep learning part\n",
        "\n",
        "Once we've learned to tokenize the data, let's design a machine learning experiment.\n",
        "\n",
        "As before, we won't focus too much on validation, opting for a simple train-test split.\n",
        "\n",
        "__To be completely rigorous,__ we've comitted a small crime here: we used the whole data for tokenization and vocabulary building. A more strict way would be to do that part on training set only. You may want to do that and measure the magnitude of changes."
      ]
    },
    {
      "cell_type": "code",
      "execution_count": 28,
      "metadata": {
        "colab": {
          "base_uri": "https://localhost:8080/"
        },
        "id": "TngLcWA0ycO_",
        "outputId": "0e38375b-8d80-48bf-813f-0fbec28e7ec0"
      },
      "outputs": [
        {
          "output_type": "stream",
          "name": "stdout",
          "text": [
            "Train size =  195814\n",
            "Validation size =  48954\n"
          ]
        }
      ],
      "source": [
        "from sklearn.model_selection import train_test_split\n",
        "\n",
        "\n",
        "data_train, data_val = train_test_split(data, test_size=0.2, random_state=42)\n",
        "data_train.index = range(len(data_train))\n",
        "data_val.index = range(len(data_val))\n",
        "\n",
        "print(\"Train size = \", len(data_train))\n",
        "print(\"Validation size = \", len(data_val))"
      ]
    },
    {
      "cell_type": "code",
      "execution_count": 29,
      "metadata": {
        "id": "2PXuKgOSycPB"
      },
      "outputs": [],
      "source": [
        "def make_batch(data, max_len=None, word_dropout=0):\n",
        "    \"\"\"\n",
        "    Creates a neural-network-friendly dict from the batch data.\n",
        "    :param word_dropout: replaces token index with UNK_IDX with this probability\n",
        "    :returns: a dict with {'title' : int64[batch, title_max_len]\n",
        "    \"\"\"\n",
        "    batch = {}\n",
        "    batch[\"Title\"] = as_matrix(data[\"Title\"].values, max_len)\n",
        "    batch[\"FullDescription\"] = as_matrix(data[\"FullDescription\"].values, max_len)\n",
        "    batch[\"Categorical\"] = categorical_vectorizer.transform(\n",
        "        data[categorical_columns].apply(dict, axis=1)\n",
        "    )\n",
        "\n",
        "    if word_dropout != 0:\n",
        "        batch[\"FullDescription\"] = apply_word_dropout(batch[\"FullDescription\"], 1.0 - word_dropout)\n",
        "\n",
        "    if target_column in data.columns:\n",
        "        batch[target_column] = data[target_column].values\n",
        "\n",
        "    return batch\n",
        "\n",
        "\n",
        "def apply_word_dropout(matrix, keep_prob, replace_with=UNK_IDX):\n",
        "    dropout_mask = np.random.choice(2, np.shape(matrix), p=[keep_prob, 1 - keep_prob])\n",
        "    dropout_mask &= matrix != PAD_IDX\n",
        "    return np.choose(dropout_mask, [matrix, np.full_like(matrix, replace_with)])"
      ]
    },
    {
      "cell_type": "code",
      "execution_count": 30,
      "metadata": {
        "id": "I6LpEQf0ycPD",
        "colab": {
          "base_uri": "https://localhost:8080/"
        },
        "outputId": "5c87cd18-d917-499a-8a4a-7210219ef085"
      },
      "outputs": [
        {
          "output_type": "stream",
          "name": "stdout",
          "text": [
            "Example batch:\n",
            "{'Title': array([[27645, 29893, 33674,     1,     1,     1,     1],\n",
            "       [29239,   197, 19175, 20042, 15554, 23162,  4051],\n",
            "       [10609, 30412, 17746,    33,  8705, 29157,    65]]), 'FullDescription': array([[27645, 29893, 33674, 32939,   982, 27645, 29893, 33674, 16451,\n",
            "        32939],\n",
            "       [29239,   197, 19175, 20042, 15554, 23162,  4051, 25511,   907,\n",
            "           82],\n",
            "       [30746, 21956, 20601,  6409, 16451,  8165, 27493,   982, 30412,\n",
            "        17746]]), 'Categorical': array([[0., 0., 0., ..., 0., 0., 0.],\n",
            "       [0., 0., 0., ..., 0., 0., 0.],\n",
            "       [0., 0., 0., ..., 0., 0., 0.]], dtype=float32), 'Log1pSalary': array([ 9.71154 , 10.463132, 10.71444 ], dtype=float32)}\n",
            "FullDescription shape: (3, 10)\n"
          ]
        }
      ],
      "source": [
        "example_batch = make_batch(data_train[:3], max_len=10)\n",
        "print(\"Example batch:\")\n",
        "print(example_batch)\n",
        "print(\"FullDescription shape:\", example_batch[\"FullDescription\"].shape)"
      ]
    },
    {
      "cell_type": "code",
      "execution_count": 31,
      "metadata": {
        "id": "nBfN182zpHfd"
      },
      "outputs": [],
      "source": [
        "def iterate_minibatches(data, batch_size=256, shuffle=True, cycle=False, **kwargs):\n",
        "    \"\"\"iterates minibatches of data in random order\"\"\"\n",
        "    while True:\n",
        "        indices = np.arange(len(data))\n",
        "        if shuffle:\n",
        "            indices = np.random.permutation(indices)\n",
        "\n",
        "        for start in range(0, len(indices), batch_size):\n",
        "            batch = make_batch(data.iloc[indices[start : start + batch_size]], **kwargs)\n",
        "            target = batch.pop(target_column)\n",
        "            yield batch, target\n",
        "\n",
        "        if not cycle:\n",
        "            break"
      ]
    },
    {
      "cell_type": "markdown",
      "metadata": {
        "id": "iQAQPx3-pHfd"
      },
      "source": [
        "To generate minibatches we will use simple pyton generator."
      ]
    },
    {
      "cell_type": "code",
      "source": [
        "iterator = iterate_minibatches(data_train, 3)\n",
        "batch, target = next(iterator)"
      ],
      "metadata": {
        "id": "fCeb-W9EodjZ"
      },
      "execution_count": 32,
      "outputs": []
    },
    {
      "cell_type": "code",
      "source": [
        "batch"
      ],
      "metadata": {
        "id": "h7IMFE68TcP0",
        "outputId": "7b06733f-c02b-43c7-c3d6-1e6c8ac9eb3d",
        "colab": {
          "base_uri": "https://localhost:8080/"
        }
      },
      "execution_count": 33,
      "outputs": [
        {
          "output_type": "execute_result",
          "data": {
            "text/plain": [
              "{'Title': array([[ 6358, 21926, 32957,     1,     1,     1,     1],\n",
              "        [17843, 27460, 21822, 30586,     1,     1,     1],\n",
              "        [ 9667, 29893,  2844,   197, 25771,  5385,  2844]]),\n",
              " 'FullDescription': array([[30746, 32957, 16451,  2142, 11696,  5025,  8878,   158, 30793,\n",
              "         30746, 32957,  6358, 21926, 14220,  2142, 15518, 26621, 31100,\n",
              "         23437, 15554, 30746, 10883, 30742,   982, 26941,  2189, 33181,\n",
              "         24044, 33689, 10969, 16451, 18778,  2920,  1914, 31008,   169,\n",
              "         30746, 24695, 21634, 30847, 26621, 16451, 31100,  6353, 30746,\n",
              "         29428, 15554,  1187, 33554,   982, 23908, 27249,   158, 33327,\n",
              "         15598,   907, 32294,   982, 26423, 21788, 12437,  6355,  6358,\n",
              "          5728,  2189, 32918, 32579,   982, 27198, 31273,  2189, 12635,\n",
              "         23427,  6358, 31128, 30048, 32170,  8607, 12890, 18285,  3609,\n",
              "          2189, 11672,  2575,  6466, 31100, 30746,  4883, 18215, 23273,\n",
              "         11673,  2189, 16160,  6358, 30746, 32957, 21654,  2189, 19583,\n",
              "         26668,  7138,  2573, 29960, 30746, 26621, 26023, 28679, 33366,\n",
              "         14220, 11558,  2189, 31986, 21634,  7647, 25665,  2189, 16451,\n",
              "          6770, 32294,     0, 12437, 18680,   158,  5247, 33664, 32152,\n",
              "           158, 14220,   982, 14326, 12587, 14442,  2189, 11709, 12587,\n",
              "          9026,   169, 16542, 16451, 11171, 30742, 33996, 14246, 24107,\n",
              "          6358, 11558,   169, 14967, 21634, 33664,   907, 20102, 31100,\n",
              "         12866,    82,    82,  9976, 31100, 21922, 26018, 33996, 19233,\n",
              "         21567,  3642,  2757, 31100, 33664, 22261, 30810, 14967,   169,\n",
              "         30847, 16826, 32989, 22107, 23713,  2689, 33829,   169, 31235,\n",
              "           169,  6745,   197, 16847,   197,     0,    82,     1,     1,\n",
              "             1,     1,     1,     1,     1,     1,     1,     1,     1,\n",
              "             1,     1,     1,     1,     1,     1,     1,     1,     1,\n",
              "             1,     1,     1,     1,     1,     1,     1,     1,     1,\n",
              "             1,     1,     1,     1,     1,     1,     1,     1,     1,\n",
              "             1,     1,     1,     1,     1,     1,     1,     1,     1,\n",
              "             1],\n",
              "        [22209,  6409,   158,   982, 33181, 26125, 12285, 21634, 28642,\n",
              "           158, 16451,  8165, 18414, 12587,   982, 31364, 31380, 17843,\n",
              "         27460, 31100, 16898, 30757, 23837,   169,  2689, 22589, 21634,\n",
              "           982,  7574, 30412, 21634, 29893, 29113,   158, 30847, 23669,\n",
              "         26023, 15436,  3004, 31100,  9026,   158, 29552,  1479, 28318,\n",
              "          2189, 30746,  1059, 31100, 20518,   169,  6870, 33554,  6423,\n",
              "         33435,  1994, 12637, 22589, 21634, 30847, 26621, 28553,  7155,\n",
              "         31100, 30253, 31100, 22924,  2920,  1914, 17947, 16451, 11171,\n",
              "           169, 30847, 16451,   982, 11866, 21956, 31100, 16898,   982,\n",
              "         18386, 11185, 12285, 30742, 30225, 24121, 15554, 30757, 29552,\n",
              "         25992, 15554, 30746, 19037, 23379,  2189, 10836,   982, 32554,\n",
              "         13575, 33689, 10969,     1,     1,     1,     1,     1,     1,\n",
              "             1,     1,     1,     1,     1,     1,     1,     1,     1,\n",
              "             1,     1,     1,     1,     1,     1,     1,     1,     1,\n",
              "             1,     1,     1,     1,     1,     1,     1,     1,     1,\n",
              "             1,     1,     1,     1,     1,     1,     1,     1,     1,\n",
              "             1,     1,     1,     1,     1,     1,     1,     1,     1,\n",
              "             1,     1,     1,     1,     1,     1,     1,     1,     1,\n",
              "             1,     1,     1,     1,     1,     1,     1,     1,     1,\n",
              "             1,     1,     1,     1,     1,     1,     1,     1,     1,\n",
              "             1,     1,     1,     1,     1,     1,     1,     1,     1,\n",
              "             1,     1,     1,     1,     1,     1,     1,     1,     1,\n",
              "             1,     1,     1,     1,     1,     1,     1,     1,     1,\n",
              "             1,     1,     1,     1,     1,     1,     1,     1,     1,\n",
              "             1,     1,     1,     1,     1,     1,     1,     1,     1,\n",
              "             1,     1,     1,     1,     1,     1,     1,     1,     1,\n",
              "             1],\n",
              "        [34008, 18858, 27764, 14220,  3717, 27781, 32170,  5065, 19270,\n",
              "         29400,  2189, 30746, 28681,  5385, 13831, 31100, 18853,   982,\n",
              "         21421, 21634,  2858, 18234,  9089,  1315, 30746,  7715,   169,\n",
              "         34008, 24512,    82, 14963, 29117,   158,  9667, 29893,  2189,\n",
              "         23038,  5385,  5065,  2627, 31100,  7858,  2142, 10969,  6759,\n",
              "         27481,   158,  6769,  2189, 29893, 15554,   982, 25062, 21634,\n",
              "         21805,  2189, 31782,  3707,  2357,   169, 33070,  2572, 18414,\n",
              "         12587, 30746, 12546, 22924, 33366, 27874, 22209, 22647, 12587,\n",
              "         24841, 27764, 31100, 16898, 22209,  9083,   158, 18837,  7736,\n",
              "         15554,     0,   169, 30788, 33435,  3642, 31782, 31804, 21634,\n",
              "         29893, 26627, 33566, 30746,  2858, 18234,  9083,   158,  9667,\n",
              "         29893,  2189,  5385,  2855,   169, 33070,  2572, 18414, 12587,\n",
              "           982,  9667, 29893,  2844, 31100, 33664,   329,   169,   704,\n",
              "         14967, 22941, 33149,   158, 33070,  1994, 14246, 25771,  5385,\n",
              "          2844, 14967,  3168,   169,  4396, 30810, 26627, 33763, 15596,\n",
              "         33689,  2004, 33153,   169,  9667, 29893, 26627, 33435, 14246,\n",
              "         30895, 17213,  2575, 21634, 10041,   907,  6358, 21634,  6864,\n",
              "          2575,   158, 27771, 18581, 15554, 30746, 26167,  2189, 24521,\n",
              "          2142, 14963, 21634,  9667, 29893, 31100, 15690, 26082,   169,\n",
              "         10102, 27960, 33435,  7038, 10504, 21634,  1914, 30895, 10041,\n",
              "           169,  5385, 33435,  3642, 24513,  2689, 26009, 21788,  2142,\n",
              "         15690,  3571,   158, 33554, 26082, 24680, 30746,  5385, 30822,\n",
              "         32937,   169, 12587, 20190, 15805,  2189,  2142,  2412, 12637,\n",
              "         23463,  7349,  1829, 34000,    33, 25638, 11193, 18864,    65,\n",
              "         21788,    82,    82, 30847, 16826, 32989, 22107, 23713,  2689,\n",
              "         33829,   169, 31235,   169,  6745,   197, 16847,   197,     0,\n",
              "            82]]),\n",
              " 'Categorical': array([[0., 0., 0., ..., 0., 0., 0.],\n",
              "        [0., 0., 0., ..., 0., 0., 0.],\n",
              "        [0., 0., 0., ..., 0., 0., 0.]], dtype=float32)}"
            ]
          },
          "metadata": {},
          "execution_count": 33
        }
      ]
    },
    {
      "cell_type": "markdown",
      "metadata": {
        "id": "0eI5h9UMycPF"
      },
      "source": [
        "## Architecture\n",
        "\n",
        "Our main model consists of three branches:\n",
        "* Title encoder\n",
        "* Description encoder\n",
        "* Categorical features encoder\n",
        "\n",
        "We will then feed all 3 branches into one common network that predicts salary.\n",
        "\n",
        "<img src=\"https://github.com/yandexdataschool/nlp_course/raw/master/resources/w2_conv_arch.png\" width=600px>\n",
        "\n",
        "This clearly doesn't fit into PyTorch __Sequential__ interface. To build such a network, one will have to use [__PyTorch nn.Module API__](https://pytorch.org/docs/stable/nn.html#torch.nn.Module)."
      ]
    },
    {
      "cell_type": "markdown",
      "metadata": {
        "id": "SbhrCEl1pHfc"
      },
      "source": [
        "But to start with let's build the simple model using only the part of the data. Let's create the baseline solution using only the description part (so it should definetely fit into the Sequential model)."
      ]
    },
    {
      "cell_type": "code",
      "execution_count": 34,
      "metadata": {
        "id": "2jjPFvWZpHfc"
      },
      "outputs": [],
      "source": [
        "import torch.nn as nn\n",
        "\n",
        "\n",
        "# Initially, our FullDescription has a shape [batch_size, seq_len].\n",
        "# After an Embedding layer shape will be [batch_size, seq_len, embedding_size].\n",
        "# However, Conv1d layer expects batches of shape [batch_size, embedding_size, seq_len].\n",
        "# We will use this layer to fix this misunderstanding.\n",
        "class Reorder(nn.Module):\n",
        "    def forward(self, input):\n",
        "        return input.permute((0, 2, 1))"
      ]
    },
    {
      "cell_type": "code",
      "execution_count": null,
      "metadata": {
        "id": "6LPx2UKepHfd"
      },
      "outputs": [],
      "source": [
        "simple_model = nn.Sequential(\n",
        "    # YOUR CODE HERE\n",
        "    nn.Embedding(len(tokens), 64),\n",
        "    Reorder(),\n",
        "    nn.Conv1d(64, 128, kernel_size=3),\n",
        "    nn.ReLU(),\n",
        "    nn.Conv1d(128, 128, kernel_size=3),\n",
        "    nn.ReLU(),\n",
        "    nn.BatchNorm1d(128),\n",
        "    nn.Conv1d(128, 128, kernel_size=3),\n",
        "    nn.ReLU(),\n",
        "    nn.AdaptiveMaxPool1d(1),\n",
        "    nn.Flatten(),\n",
        "    nn.Linear(128, 1),\n",
        ")"
      ]
    },
    {
      "cell_type": "markdown",
      "metadata": {
        "id": "uMu66aNSpHfd"
      },
      "source": [
        "__Remember!__ We are working with regression problem and predicting only one number."
      ]
    },
    {
      "cell_type": "code",
      "execution_count": null,
      "metadata": {
        "id": "CerptbpcpHfd",
        "outputId": "9fc7bd07-e0f1-44e0-9a3d-50d627871fca",
        "colab": {
          "base_uri": "https://localhost:8080/",
          "height": 222
        }
      },
      "outputs": [
        {
          "output_type": "error",
          "ename": "IndexError",
          "evalue": "ignored",
          "traceback": [
            "\u001b[0;31m---------------------------------------------------------------------------\u001b[0m",
            "\u001b[0;31mIndexError\u001b[0m                                Traceback (most recent call last)",
            "\u001b[0;32m<ipython-input-117-fb80221333bd>\u001b[0m in \u001b[0;36m<module>\u001b[0;34m\u001b[0m\n\u001b[1;32m      3\u001b[0m \u001b[0;34m\u001b[0m\u001b[0m\n\u001b[1;32m      4\u001b[0m \u001b[0;31m# Check your model. `torch.long` tensors are required for nn.Embedding layers.\u001b[0m\u001b[0;34m\u001b[0m\u001b[0;34m\u001b[0m\u001b[0;34m\u001b[0m\u001b[0m\n\u001b[0;32m----> 5\u001b[0;31m \u001b[0msimple_model\u001b[0m\u001b[0;34m(\u001b[0m\u001b[0mtorch\u001b[0m\u001b[0;34m.\u001b[0m\u001b[0mtensor\u001b[0m\u001b[0;34m(\u001b[0m\u001b[0mbatch\u001b[0m\u001b[0;34m[\u001b[0m\u001b[0;34m\"FullDescription\"\u001b[0m\u001b[0;34m]\u001b[0m\u001b[0;34m,\u001b[0m \u001b[0mdtype\u001b[0m\u001b[0;34m=\u001b[0m\u001b[0mtorch\u001b[0m\u001b[0;34m.\u001b[0m\u001b[0mlong\u001b[0m\u001b[0;34m)\u001b[0m\u001b[0;34m)\u001b[0m\u001b[0;34m\u001b[0m\u001b[0;34m\u001b[0m\u001b[0m\n\u001b[0m",
            "\u001b[0;31mIndexError\u001b[0m: too many indices for tensor of dimension 2"
          ]
        }
      ],
      "source": [
        "import torch\n",
        "\n",
        "\n",
        "# Check your model. `torch.long` tensors are required for nn.Embedding layers.\n",
        "simple_model(torch.tensor(batch[\"FullDescription\"], dtype=torch.long))"
      ]
    },
    {
      "cell_type": "code",
      "source": [
        "def get_grad_norm(model_params):\n",
        "    norm = 0\n",
        "    for _, p in model_params:\n",
        "        try:\n",
        "            norm += torch.linalg.norm(p.grad.detach().data).item()**2\n",
        "        except:\n",
        "            pass\n",
        "    return norm**0.5"
      ],
      "metadata": {
        "id": "c9t2GkXsUEXk"
      },
      "execution_count": null,
      "outputs": []
    },
    {
      "cell_type": "code",
      "execution_count": null,
      "metadata": {
        "id": "1G-n-458pHfd"
      },
      "outputs": [],
      "source": [
        "device = torch.device(\"cuda\" if torch.cuda.is_available() else \"cpu\")\n",
        "simple_model.to(device);"
      ]
    },
    {
      "cell_type": "code",
      "source": [
        "from torch.nn.utils import clip_grad_norm_"
      ],
      "metadata": {
        "id": "TVFSKVwmZtEE"
      },
      "execution_count": null,
      "outputs": []
    },
    {
      "cell_type": "markdown",
      "metadata": {
        "id": "8hUa3gBepHfd"
      },
      "source": [
        "And now simple training pipeline:"
      ]
    },
    {
      "cell_type": "code",
      "execution_count": null,
      "metadata": {
        "id": "tKiy4otdpHfd",
        "outputId": "6e11c0d3-f470-4d02-95fe-b4a989db28a4",
        "colab": {
          "base_uri": "https://localhost:8080/",
          "height": 286
        }
      },
      "outputs": [
        {
          "output_type": "display_data",
          "data": {
            "text/plain": [
              "<Figure size 576x288 with 2 Axes>"
            ],
            "image/png": "[encoded data removed]"
          },
          "metadata": {
            "needs_background": "light"
          }
        }
      ],
      "source": [
        "from IPython.display import clear_output\n",
        "\n",
        "\n",
        "epochs = 1\n",
        "model = simple_model\n",
        "opt = torch.optim.Adam(model.parameters())\n",
        "criterion = nn.MSELoss()\n",
        "grad_norms = []\n",
        "\n",
        "history = []\n",
        "for epoch in range(epochs):\n",
        "    for batch, target in iterate_minibatches(data_train):\n",
        "        # Preprocessing the batch data and target\n",
        "        batch = torch.tensor(batch[\"FullDescription\"], dtype=torch.long, device=device)\n",
        "        target = torch.tensor(target, device=device)\n",
        "\n",
        "        predictions = model(batch)\n",
        "        predictions = predictions.flatten()\n",
        "\n",
        "        # YOUR CODE HERE\n",
        "        # Compute loss.\n",
        "        loss = criterion(predictions, target)\n",
        "\n",
        "        # YOUR CODE HERE\n",
        "        # Train with backprop.\n",
        "        opt.zero_grad()\n",
        "        loss.backward()\n",
        "        clip_grad_norm_(model.parameters(), max_norm=20)\n",
        "        opt.step()\n",
        "        grad_norms.append(get_grad_norm(model.named_parameters()))\n",
        "\n",
        "        history.append(loss.item())\n",
        "        if len(history) % 10 == 0:\n",
        "            clear_output(wait=True)\n",
        "            plt.figure(figsize=[8, 4])\n",
        "            plt.subplot(1, 2, 1)\n",
        "            plt.plot(history[5:], label=\"loss\")\n",
        "\n",
        "            plt.subplot(1, 2, 2)\n",
        "            plt.plot(grad_norms, label=\"norms\")            \n",
        "            plt.legend()\n",
        "            plt.show()"
      ]
    },
    {
      "cell_type": "markdown",
      "metadata": {
        "id": "eOXdOBCnpHfe"
      },
      "source": [
        "To evaluate the model we can switch it to `eval` state. Let's check the model quality."
      ]
    },
    {
      "cell_type": "code",
      "execution_count": null,
      "metadata": {
        "id": "eaiQRrfCpHfe",
        "colab": {
          "base_uri": "https://localhost:8080/"
        },
        "outputId": "64876197-bb58-4168-9b36-b9cb1a252194"
      },
      "outputs": [
        {
          "output_type": "stream",
          "name": "stdout",
          "text": [
            "Train:\n",
            "MSE: 0.15700\n",
            "MAE: 0.28310\n",
            "Val:\n",
            "MSE: 0.17233\n",
            "MAE: 0.29534\n"
          ]
        }
      ],
      "source": [
        "@torch.no_grad()\n",
        "def evaluate_model(model, data, batch_size=256, name=None, **kwargs):\n",
        "    squared_error = abs_error = num_samples = 0.0\n",
        "    data_iterator = iterate_minibatches(data, batch_size, shuffle=False, **kwargs)\n",
        "    for batch, target in data_iterator:\n",
        "        batch = torch.tensor(batch[\"FullDescription\"], dtype=torch.long, device=device)\n",
        "        pred = model(batch)[:, 0].cpu().numpy()\n",
        "\n",
        "        squared_error += np.sum(np.square(pred - target))\n",
        "        abs_error += np.sum(np.abs(pred - target))\n",
        "        num_samples += len(target)\n",
        "\n",
        "    if name is not None:\n",
        "        print(f\"{name}:\")\n",
        "\n",
        "    print(f\"MSE: {squared_error / num_samples:.5f}\")\n",
        "    print(f\"MAE: {abs_error / num_samples:.5f}\")\n",
        "\n",
        "\n",
        "evaluate_model(simple_model, data_train, name=\"Train\")\n",
        "evaluate_model(simple_model, data_val, name=\"Val\")"
      ]
    },
    {
      "cell_type": "code",
      "source": [
        "np.exp(0.37744)"
      ],
      "metadata": {
        "id": "G6NI60fSXOWy",
        "outputId": "179f3abd-da72-4e10-f3e5-7ab4d62e75d0",
        "colab": {
          "base_uri": "https://localhost:8080/"
        }
      },
      "execution_count": null,
      "outputs": [
        {
          "output_type": "execute_result",
          "data": {
            "text/plain": [
              "1.458545928413187"
            ]
          },
          "metadata": {},
          "execution_count": 106
        }
      ]
    },
    {
      "cell_type": "markdown",
      "metadata": {
        "id": "hUUchHCnpHfe"
      },
      "source": [
        "### Bonus area 1: three-headed network.\n",
        "\n",
        "Now you can try to implement the network we've discussed above. Use [__PyTorch nn.Module API__](https://pytorch.org/docs/stable/nn.html#torch.nn.Module)."
      ]
    },
    {
      "cell_type": "code",
      "execution_count": null,
      "metadata": {
        "id": "SOG-2OK2pHfe"
      },
      "outputs": [],
      "source": [
        "class ThreeInputsNet(nn.Module):\n",
        "    def __init__(\n",
        "        self,\n",
        "        n_tokens=len(tokens),\n",
        "        n_cat_features=len(categorical_vectorizer.vocabulary_),\n",
        "        hid_size=64,\n",
        "    ):\n",
        "        super().__init__()\n",
        "\n",
        "        self.title_emb = nn.Embedding(n_tokens, hid_size)\n",
        "        # YOUR CODE HERE\n",
        "        # Define modules to process the title.\n",
        "\n",
        "        self.desc_emb = nn.Embedding(n_tokens, hid_size)\n",
        "        # YOUR CODE HERE\n",
        "        # Define modules to process the description.\n",
        "\n",
        "        # YOUR CODE HERE\n",
        "        # Define modules to process the categorical features.\n",
        "        # self.category_out = ...\n",
        "\n",
        "        # YOUR CODE HERE\n",
        "        # Define fully-connected part which will take outputs of\n",
        "        # three heads and return the result.\n",
        "        # self.out = ...\n",
        "\n",
        "    def forward(self, whole_input):\n",
        "        input1, input2, input3 = whole_input\n",
        "        title_beg = self.title_emb(input1).permute((0, 2, 1))\n",
        "        # YOUR CODE HERE\n",
        "        # Process the title.\n",
        "        # title = ...\n",
        "\n",
        "        full_beg = self.full_emb(input2).permute((0, 2, 1))\n",
        "        # YOUR CODE HERE\n",
        "        # Process the description.\n",
        "        # desc = ...\n",
        "\n",
        "        # YOUR CODE HERE\n",
        "        # Process the categorical features.\n",
        "        # category = ...\n",
        "\n",
        "        concatenated = torch.cat(\n",
        "            [\n",
        "                title.view(title.size(0), -1),\n",
        "                desc.view(desc.size(0), -1),\n",
        "                category.view(category.size(0), -1),\n",
        "            ],\n",
        "            dim=1,\n",
        "        )\n",
        "\n",
        "        # YOUR CODE HERE\n",
        "        # Process the concatenated features to generate network output.\n",
        "        # out = ...\n",
        "\n",
        "        return out"
      ]
    },
    {
      "cell_type": "markdown",
      "metadata": {
        "id": "kAigoulWpHfe"
      },
      "source": [
        "### Bonus area 2: comparing RNN to CNN\n",
        "Try implementing simple RNN (or LSTM) and applying it to this task. Compare the quality/performance of these networks. \n",
        "*Hint: try to build networks with ~same number of paremeters.*"
      ]
    },
    {
      "cell_type": "code",
      "execution_count": null,
      "metadata": {
        "id": "rQVzJyCMpHfe"
      },
      "outputs": [],
      "source": [
        "# YOUR CODE HERE"
      ]
    },
    {
      "cell_type": "markdown",
      "metadata": {
        "id": "jPn2Q0wXpHfe"
      },
      "source": [
        "### Bonus area 3: fixing the data leaks\n",
        "Fix the data leak we ignored in the beginning of the __Deep Learning part__. Compare results with and without data leaks using same architectures and training time.\n"
      ]
    },
    {
      "cell_type": "code",
      "execution_count": null,
      "metadata": {
        "id": "DVgBWPpjpHfe"
      },
      "outputs": [],
      "source": [
        "# YOUR CODE HERE"
      ]
    },
    {
      "cell_type": "markdown",
      "metadata": {
        "id": "V-iOq02ZpHfe"
      },
      "source": [
        "__Terrible start-up idea #1962:__ make a tool that automaticaly rephrases your job description (or CV) to meet salary expectations :)"
      ]
    }
  ],
  "metadata": {
    "colab": {
      "name": "binpord_practice_cnn_for_texts.ipynb",
      "provenance": []
    },
    "kernelspec": {
      "display_name": "Python 3",
      "name": "python3"
    },
    "language_info": {
      "name": "python"
    },
    "accelerator": "GPU",
    "gpuClass": "standard"
  },
  "nbformat": 4,
  "nbformat_minor": 0
}